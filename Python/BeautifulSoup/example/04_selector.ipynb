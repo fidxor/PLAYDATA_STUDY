{
 "cells": [
  {
   "cell_type": "code",
   "execution_count": 2,
   "metadata": {
    "ExecuteTime": {
     "end_time": "2022-10-16T12:27:26.691845Z",
     "start_time": "2022-10-16T12:27:26.668905Z"
    }
   },
   "outputs": [],
   "source": [
    "### 선택자(selector) 이용 내용 추출하기\n",
    "from bs4 import BeautifulSoup\n",
    "\n",
    "# 1. html source 가져오기 \n",
    "file = open('../data/html03.html', mode='r', encoding='utf-8')\n",
    "source = file.read()\n",
    "# print(source)\n",
    "\n",
    "# 2. html 파싱\n",
    "html = BeautifulSoup(source, 'html.parser')\n",
    "# print(html)"
   ]
  },
  {
   "cell_type": "code",
   "execution_count": 3,
   "metadata": {
    "ExecuteTime": {
     "end_time": "2022-10-16T12:29:32.741089Z",
     "start_time": "2022-10-16T12:29:32.709176Z"
    }
   },
   "outputs": [
    {
     "name": "stdout",
     "output_type": "stream",
     "text": [
      ">> table 선택자 <<\n",
      "<table border=\"1\" id=\"tab\">\n",
      "<tr> <!-- 1행 -->\n",
      "<!-- 제목 열 : th -->\n",
      "<th id=\"id\"> 학번 </th>\n",
      "<th id=\"name\"> 이름 </th>\n",
      "<th id=\"major\"> 학과 </th>\n",
      "<th id=\"email\"> 이메일 </th>\n",
      "</tr>\n",
      "<tr> <!-- 2행 -->\n",
      "<td> 201601 </td>\n",
      "<td> 홍길동 </td>\n",
      "<td> 체육학과 </td>\n",
      "<td> hong@naver.com </td>\n",
      "</tr>\n",
      "<tr class=\"odd\"> <!-- 3행(홀수) -->\n",
      "<td> 201602 </td>\n",
      "<td> 이순신 </td>\n",
      "<td> 해양학과 </td>\n",
      "<td> lee@naver.com </td>\n",
      "</tr>\n",
      "<tr> <!-- 4행 -->\n",
      "<td> 201603 </td>\n",
      "<td> 강감찬 </td>\n",
      "<td> 정치외교 </td>\n",
      "<td> kang@naver.com </td>\n",
      "</tr>\n",
      "<tr class=\"odd\"> <!-- 5행 -->\n",
      "<td> 201604 </td>\n",
      "<td> 유관순 </td>\n",
      "<td> 유아교육 </td>\n",
      "<td> you@naver.com </td>\n",
      "</tr>\n",
      "</table>\n",
      " 학번 \n",
      " 이름 \n",
      " 학과 \n",
      " 이메일 \n",
      ">> 선택자 & 계층 <<\n",
      " 학번 \n",
      " 이름 \n",
      " 학과 \n",
      " 이메일 \n",
      "[<tr class=\"odd\"> <!-- 3행(홀수) -->\n",
      "<td> 201602 </td>\n",
      "<td> 이순신 </td>\n",
      "<td> 해양학과 </td>\n",
      "<td> lee@naver.com </td>\n",
      "</tr>, <tr class=\"odd\"> <!-- 5행 -->\n",
      "<td> 201604 </td>\n",
      "<td> 유관순 </td>\n",
      "<td> 유아교육 </td>\n",
      "<td> you@naver.com </td>\n",
      "</tr>]\n",
      "### tr > td 출력 ### \n",
      " 201602 \n",
      " 이순신 \n",
      " 해양학과 \n",
      " lee@naver.com \n",
      " 201604 \n",
      " 유관순 \n",
      " 유아교육 \n",
      " you@naver.com \n",
      "### tr > td 출력 ### \n",
      " 201602 \n",
      " 이순신 \n",
      " 해양학과 \n",
      " lee@naver.com \n",
      " 201604 \n",
      " 유관순 \n",
      " 유아교육 \n",
      " you@naver.com \n"
     ]
    }
   ],
   "source": [
    "# 3. 선택자 이용 태그 내용 가져오기 \n",
    "# 1) id 선택자\n",
    "print('>> table 선택자 <<') \n",
    "table = html.select_one('#tab') # <table id='tab'>\n",
    "print(table) # 1개 element \n",
    "\n",
    "# th 내용 출력 \n",
    "ths = table.find_all('th')\n",
    "# print(ths)\n",
    "\n",
    "for th in ths :\n",
    "    print(th.string)\n",
    "\n",
    "print('>> 선택자 & 계층 <<')\n",
    "ths = html.select('#tab > tr > th')\n",
    "# print(ths) # list\n",
    "\n",
    "for th in ths :\n",
    "    print(th.string)\n",
    "    \n",
    "# 2) class 선택자 : tr tag class='odd'\n",
    "trs = html.select(\"#tab > .odd\")  # 홀수 행\n",
    "print(trs)   \n",
    "\n",
    "print('### tr > td 출력 ### ')\n",
    "for tr in trs : # 행 : 2회 반복 \n",
    "#     print(tr)\n",
    "    tds = tr.find_all('td')\n",
    "    for td in tds : # 열 \n",
    "        print(td.string)\n",
    "    \n",
    "# 3) 태그[속성=값] 찾기 \n",
    "trs = html.select(\"tr[class=odd]\")\n",
    "# print(trs)  \n",
    "print('### tr > td 출력 ### ')\n",
    "for tr in trs : # 행 : 2회 반복 \n",
    "    #print(tr)\n",
    "    tds = tr.find_all('td')\n",
    "    for td in tds : # 열 \n",
    "        print(td.string)"
   ]
  },
  {
   "cell_type": "code",
   "execution_count": null,
   "metadata": {},
   "outputs": [],
   "source": []
  },
  {
   "cell_type": "code",
   "execution_count": null,
   "metadata": {},
   "outputs": [],
   "source": []
  }
 ],
 "metadata": {
  "hide_input": false,
  "kernelspec": {
   "display_name": "Python 3 (ipykernel)",
   "language": "python",
   "name": "python3"
  },
  "language_info": {
   "codemirror_mode": {
    "name": "ipython",
    "version": 3
   },
   "file_extension": ".py",
   "mimetype": "text/x-python",
   "name": "python",
   "nbconvert_exporter": "python",
   "pygments_lexer": "ipython3",
   "version": "3.11.3"
  },
  "toc": {
   "base_numbering": 1,
   "nav_menu": {},
   "number_sections": true,
   "sideBar": true,
   "skip_h1_title": false,
   "title_cell": "Table of Contents",
   "title_sidebar": "Contents",
   "toc_cell": false,
   "toc_position": {},
   "toc_section_display": true,
   "toc_window_display": false
  },
  "varInspector": {
   "cols": {
    "lenName": 16,
    "lenType": 16,
    "lenVar": 40
   },
   "kernels_config": {
    "python": {
     "delete_cmd_postfix": "",
     "delete_cmd_prefix": "del ",
     "library": "var_list.py",
     "varRefreshCmd": "print(var_dic_list())"
    },
    "r": {
     "delete_cmd_postfix": ") ",
     "delete_cmd_prefix": "rm(",
     "library": "var_list.r",
     "varRefreshCmd": "cat(var_dic_list()) "
    }
   },
   "types_to_exclude": [
    "module",
    "function",
    "builtin_function_or_method",
    "instance",
    "_Feature"
   ],
   "window_display": false
  }
 },
 "nbformat": 4,
 "nbformat_minor": 2
}
