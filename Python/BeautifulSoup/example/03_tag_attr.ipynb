{
 "cells": [
  {
   "cell_type": "code",
   "execution_count": 1,
   "metadata": {
    "ExecuteTime": {
     "end_time": "2022-10-16T12:25:03.136863Z",
     "start_time": "2022-10-16T12:25:03.125893Z"
    }
   },
   "outputs": [
    {
     "name": "stdout",
     "output_type": "stream",
     "text": [
      "www.naver.com\n",
      "예외발생 :  'target'\n",
      "\n",
      "http://www.naver.com\n",
      "예외발생 :  'target'\n",
      "\n",
      "http://www.naver.com\n",
      "_blank\n",
      "\n",
      "www.duam.net\n",
      "예외발생 :  'target'\n",
      "\n",
      "http://www.duam.net\n",
      "예외발생 :  'target'\n",
      "\n"
     ]
    }
   ],
   "source": [
    "### 태그 자료 수집\n",
    "from bs4 import BeautifulSoup # html 파싱\n",
    "\n",
    "# 1. 로컬 파일 가져오기\n",
    "file = open('../data/html02.html', mode='r', encoding='utf-8')\n",
    "source = file.read()\n",
    "\n",
    "# 2. html 파싱\n",
    "html = BeautifulSoup(source, 'html.parser')\n",
    "\n",
    "# 3. tag 속성 찾기\n",
    "links = html.find_all('a') # list 반환\n",
    "# print('links : ', links)\n",
    "# print('links size=', len(links))\n",
    "\n",
    "for link in links :\n",
    "#     print('link :', link) # element\n",
    "#     print('link.attrs :', link.attrs) # dict\n",
    "    try :\n",
    "        print(link.attrs['href']) # 5개\n",
    "        print(link.attrs['target']) # 1개 - error(1,2,4,5)\n",
    "        print()\n",
    "    except Exception as e :\n",
    "        print('예외발생 : ', e)\n",
    "        print()"
   ]
  },
  {
   "cell_type": "code",
   "execution_count": null,
   "metadata": {},
   "outputs": [],
   "source": []
  }
 ],
 "metadata": {
  "hide_input": false,
  "kernelspec": {
   "display_name": "Python 3 (ipykernel)",
   "language": "python",
   "name": "python3"
  },
  "language_info": {
   "codemirror_mode": {
    "name": "ipython",
    "version": 3
   },
   "file_extension": ".py",
   "mimetype": "text/x-python",
   "name": "python",
   "nbconvert_exporter": "python",
   "pygments_lexer": "ipython3",
   "version": "3.11.3"
  },
  "toc": {
   "base_numbering": 1,
   "nav_menu": {},
   "number_sections": true,
   "sideBar": true,
   "skip_h1_title": false,
   "title_cell": "Table of Contents",
   "title_sidebar": "Contents",
   "toc_cell": false,
   "toc_position": {},
   "toc_section_display": true,
   "toc_window_display": false
  },
  "varInspector": {
   "cols": {
    "lenName": 16,
    "lenType": 16,
    "lenVar": 40
   },
   "kernels_config": {
    "python": {
     "delete_cmd_postfix": "",
     "delete_cmd_prefix": "del ",
     "library": "var_list.py",
     "varRefreshCmd": "print(var_dic_list())"
    },
    "r": {
     "delete_cmd_postfix": ") ",
     "delete_cmd_prefix": "rm(",
     "library": "var_list.r",
     "varRefreshCmd": "cat(var_dic_list()) "
    }
   },
   "types_to_exclude": [
    "module",
    "function",
    "builtin_function_or_method",
    "instance",
    "_Feature"
   ],
   "window_display": false
  }
 },
 "nbformat": 4,
 "nbformat_minor": 2
}
