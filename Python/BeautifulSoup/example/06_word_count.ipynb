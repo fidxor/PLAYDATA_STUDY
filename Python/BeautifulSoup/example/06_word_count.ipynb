{
 "cells": [
  {
   "cell_type": "code",
   "execution_count": 1,
   "metadata": {
    "ExecuteTime": {
     "end_time": "2022-10-16T11:05:39.240932Z",
     "start_time": "2022-10-16T11:05:39.226941Z"
    }
   },
   "outputs": [],
   "source": [
    "### 9.5 단어 빈도수\n",
    "# 1. pickle.load()\n",
    "# 2. text 전처리 : 함수 이용\n",
    "# 3. word count"
   ]
  },
  {
   "cell_type": "code",
   "execution_count": 8,
   "metadata": {},
   "outputs": [
    {
     "name": "stdout",
     "output_type": "stream",
     "text": [
      "['엠폭스 확진자 주말 1명 추가 발생…누적 81명', '모디 印총리 \"개혁하지 않으면 유엔은 \\'잡담장소\\'로 전락\"', '\"美부채한도 상향 안하면 내달 8~9일 잔고 300억달러 미달\"', '\\'공흥지구 특혜의혹\\' 고발인 \"이의제기·재고발 검토\"', '인스타그램 글로벌 오류 3시간 만에 복구(종합)', '농가소득 ‘뒷걸음질’…농업경영비는 ‘역대 최고’', '시장 불안에 갈 곳 잃은 투자 자금, 어디로 향하나', '김기현·구자근·박성민, 내일 YS 생가·盧 14주기 추도식 방문', '박민식 보훈장관 후보자 \"국가 근본 바로잡기 앞장서겠다\"', '배진교 \"전세사기 특별법, 오늘 안에 반드시 처리해야\"', '빌 게이츠, 바람피웠다가 성범죄자 엡스타인에 협박 당했다', '정유4사중 휘발유 가장 싸게 파는 주유소는 여기…ℓ당 5.8원이나 저렴하네', '박광온 \"日후쿠시마 오염수 시찰단, 국회로 불러 보고받을 것\"', '식약처, 건강먹거리 시범사업 편의점 157개로 확대', \"빈번한 지진에 '화들짝'…동해시, 관광숙박시설 안전 점검\", \"국민연금 13% 올리면…고소득자는 '더 내고 덜 받는다' [연금개혁 파헤치기]\", '\"사모펀드들, 거시경제 악화에 투자금 회수 활동 급감\"', '\"예산에 생돈 30억 붓는다\" 직원들도 몰랐다, 백종원 큰 그림 [월간중앙 독점 인터뷰]', '소아과 질 높을수록 \"아이 더 낳겠다\"… ‘병세권’ 선호 뚜렷', '中의 美 반도체 첫 직접 제재에 삼성전자 이득?…7만전자 넘어 8만전자行 특급열차 탑승하나 [투자360]', '김기현 \"尹대통령 G7 참석, 文정권과 격이 다른 \\'명품 외교\\'\"', '[출발 서해안 시대] “원전 오염수 방출에 전남 수산물 타격 우려”', '[시선집중] 윤상현 \"한국, 심리적 G8 국가.. 日, 가입 반대만 할 수 없을 것\"', '똑같은 테슬라인데 국민연금은 ‘사자’ vs. KIC ‘팔자’…국내 양대 큰손의 반대 베팅 왜? [투자360]', '與 ‘노조 때리기’ 본격화…밤샘 집회 금지·경찰에 ‘면책’ 부여 [이런정치]', '옷들의 패자부활전', '[정치쇼] 국힘 코인TF 황석진 \"위믹스 유통자료 다 받기로\"', '프리랜서 생활 접고 직장 들어간 20대 \"여전히 돈이 쌓이지 않아요\" [재테크 Q&A]', '누리호 3차 비행 시퀀스', '마스크가 필요한 날', '강릉서 승용차가 교각 입구 들이받아…40대 운전자 숨져', '산책길에서']\n"
     ]
    }
   ],
   "source": [
    "import pickle \n",
    "\n",
    "# load\n",
    "file = open(\"./data.pickle\", mode='rb')\n",
    "news_data2 = pickle.load(file)\n",
    "print(news_data2)"
   ]
  },
  {
   "cell_type": "code",
   "execution_count": 9,
   "metadata": {},
   "outputs": [
    {
     "name": "stdout",
     "output_type": "stream",
     "text": [
      "['엠폭스 확진자 주말 명 추가 발생…누적 명', '모디 印총리 개혁하지 않으면 유엔은 잡담장소로 전락', '美부채한도 상향 안하면 내달 ~일 잔고 억달러 미달', '공흥지구 특혜의혹 고발인 이의제기·재고발 검토', '인스타그램 글로벌 오류 시간 만에 복구종합', '농가소득 ‘뒷걸음질’…농업경영비는 ‘역대 최고’', '시장 불안에 갈 곳 잃은 투자 자금 어디로 향하나', '김기현·구자근·박성민 내일 생가·盧 주기 추도식 방문', '박민식 보훈장관 후보자 국가 근본 바로잡기 앞장서겠다', '배진교 전세사기 특별법 오늘 안에 반드시 처리해야', '빌 게이츠 바람피웠다가 성범죄자 엡스타인에 협박 당했다', '정유사중 휘발유 가장 싸게 파는 주유소는 여기…ℓ당 원이나 저렴하네', '박광온 日후쿠시마 오염수 시찰단 국회로 불러 보고받을 것', '식약처 건강먹거리 시범사업 편의점 개로 확대', '빈번한 지진에 화들짝…동해시 관광숙박시설 안전 점검', '국민연금 올리면…고소득자는 더 내고 덜 받는다 [연금개혁 파헤치기]', '사모펀드들 거시경제 악화에 투자금 회수 활동 급감', '예산에 생돈 억 붓는다 직원들도 몰랐다 백종원 큰 그림 [월간중앙 독점 인터뷰]', '소아과 질 높을수록 아이 더 낳겠다… ‘병세권’ 선호 뚜렷', '中의 美 반도체 첫 직접 제재에 삼성전자 이득…만전자 넘어 만전자行 특급열차 탑승하나 [투자]', '김기현 尹대통령 참석 文정권과 격이 다른 명품 외교', '[출발 서해안 시대] “원전 오염수 방출에 전남 수산물 타격 우려”', '[시선집중] 윤상현 한국 심리적 국가 日 가입 반대만 할 수 없을 것', '똑같은 테슬라인데 국민연금은 ‘사자’ ‘팔자’…국내 양대 큰손의 반대 베팅 왜 [투자]', '與 ‘노조 때리기’ 본격화…밤샘 집회 금지·경찰에 ‘면책’ 부여 [이런정치]', '옷들의 패자부활전', '[정치쇼] 국힘 코인 황석진 위믹스 유통자료 다 받기로', '프리랜서 생활 접고 직장 들어간 대 여전히 돈이 쌓이지 않아요 [재테크 ]', '누리호 차 비행 시퀀스', '마스크가 필요한 날', '강릉서 승용차가 교각 입구 들이받아…대 운전자 숨져', '산책길에서']\n"
     ]
    }
   ],
   "source": [
    "import re\n",
    "\n",
    "def clean_text(text_string):\n",
    "    # 문장부호 제거 : 따옴표 추가(\\'\\\")\n",
    "    text_string_re = re.sub('[,.?!:\\'\\\";]', '', text_string)\n",
    "    # 특수문자, 숫자 제거\n",
    "    text_string_re = re.sub('[!@#$%^&*()]|[0-9]', '', text_string_re)\n",
    "    # 영문 소문자 -> 영문 제거\n",
    "    text_string_re = text_string_re.lower()\n",
    "    text_string_re = re.sub('[a-z]', '', text_string_re)\n",
    "    # 공백 제거\n",
    "    text_string_re = ' '.join(text_string_re.split()) # '우리나라 대한민국'\n",
    "\n",
    "    return text_string_re\n",
    "\n",
    "# 텍스트 전처리\n",
    "clean_texts = [clean_text(row) for row in news_data2]\n",
    "print(clean_texts)"
   ]
  },
  {
   "cell_type": "code",
   "execution_count": 15,
   "metadata": {},
   "outputs": [
    {
     "name": "stdout",
     "output_type": "stream",
     "text": [
      "{'엠폭스': 1, '확진자': 1, '주말': 1, '명': 2, '추가': 1, '발생…누적': 1, '모디': 1, '印총리': 1, '개혁하지': 1, '않으면': 1, '유엔은': 1, '잡담장소로': 1, '전락': 1, '美부채한도': 1, '상향': 1, '안하면': 1, '내달': 1, '~일': 1, '잔고': 1, '억달러': 1, '미달': 1, '공흥지구': 1, '특혜의혹': 1, '고발인': 1, '이의제기·재고발': 1, '검토': 1, '인스타그램': 1, '글로벌': 1, '오류': 1, '시간': 1, '만에': 1, '복구종합': 1, '농가소득': 1, '‘뒷걸음질’…농업경영비는': 1, '‘역대': 1, '최고’': 1, '시장': 1, '불안에': 1, '갈': 1, '곳': 1, '잃은': 1, '투자': 1, '자금': 1, '어디로': 1, '향하나': 1, '김기현·구자근·박성민': 1, '내일': 1, '생가·盧': 1, '주기': 1, '추도식': 1, '방문': 1, '박민식': 1, '보훈장관': 1, '후보자': 1, '국가': 2, '근본': 1, '바로잡기': 1, '앞장서겠다': 1, '배진교': 1, '전세사기': 1, '특별법': 1, '오늘': 1, '안에': 1, '반드시': 1, '처리해야': 1, '빌': 1, '게이츠': 1, '바람피웠다가': 1, '성범죄자': 1, '엡스타인에': 1, '협박': 1, '당했다': 1, '정유사중': 1, '휘발유': 1, '가장': 1, '싸게': 1, '파는': 1, '주유소는': 1, '여기…ℓ당': 1, '원이나': 1, '저렴하네': 1, '박광온': 1, '日후쿠시마': 1, '오염수': 2, '시찰단': 1, '국회로': 1, '불러': 1, '보고받을': 1, '것': 2, '식약처': 1, '건강먹거리': 1, '시범사업': 1, '편의점': 1, '개로': 1, '확대': 1, '빈번한': 1, '지진에': 1, '화들짝…동해시': 1, '관광숙박시설': 1, '안전': 1, '점검': 1, '국민연금': 1, '올리면…고소득자는': 1, '더': 2, '내고': 1, '덜': 1, '받는다': 1, '[연금개혁': 1, '파헤치기]': 1, '사모펀드들': 1, '거시경제': 1, '악화에': 1, '투자금': 1, '회수': 1, '활동': 1, '급감': 1, '예산에': 1, '생돈': 1, '억': 1, '붓는다': 1, '직원들도': 1, '몰랐다': 1, '백종원': 1, '큰': 1, '그림': 1, '[월간중앙': 1, '독점': 1, '인터뷰]': 1, '소아과': 1, '질': 1, '높을수록': 1, '아이': 1, '낳겠다…': 1, '‘병세권’': 1, '선호': 1, '뚜렷': 1, '中의': 1, '美': 1, '반도체': 1, '첫': 1, '직접': 1, '제재에': 1, '삼성전자': 1, '이득…만전자': 1, '넘어': 1, '만전자行': 1, '특급열차': 1, '탑승하나': 1, '[투자]': 2, '김기현': 1, '尹대통령': 1, '참석': 1, '文정권과': 1, '격이': 1, '다른': 1, '명품': 1, '외교': 1, '[출발': 1, '서해안': 1, '시대]': 1, '“원전': 1, '방출에': 1, '전남': 1, '수산물': 1, '타격': 1, '우려”': 1, '[시선집중]': 1, '윤상현': 1, '한국': 1, '심리적': 1, '日': 1, '가입': 1, '반대만': 1, '할': 1, '수': 1, '없을': 1, '똑같은': 1, '테슬라인데': 1, '국민연금은': 1, '‘사자’': 1, '‘팔자’…국내': 1, '양대': 1, '큰손의': 1, '반대': 1, '베팅': 1, '왜': 1, '與': 1, '‘노조': 1, '때리기’': 1, '본격화…밤샘': 1, '집회': 1, '금지·경찰에': 1, '‘면책’': 1, '부여': 1, '[이런정치]': 1, '옷들의': 1, '패자부활전': 1, '[정치쇼]': 1, '국힘': 1, '코인': 1, '황석진': 1, '위믹스': 1, '유통자료': 1, '다': 1, '받기로': 1, '프리랜서': 1, '생활': 1, '접고': 1, '직장': 1, '들어간': 1, '대': 1, '여전히': 1, '돈이': 1, '쌓이지': 1, '않아요': 1, '[재테크': 1, ']': 1, '누리호': 1, '차': 1, '비행': 1, '시퀀스': 1, '마스크가': 1, '필요한': 1, '날': 1, '강릉서': 1, '승용차가': 1, '교각': 1, '입구': 1, '들이받아…대': 1, '운전자': 1, '숨져': 1, '산책길에서': 1}\n"
     ]
    }
   ],
   "source": [
    "print(word_count)"
   ]
  },
  {
   "cell_type": "code",
   "execution_count": 19,
   "metadata": {},
   "outputs": [],
   "source": [
    "word_count = {}\n",
    "\n",
    "for text in clean_texts : # 문장\n",
    "    for word in text.split() : # 문장 -> 단어\n",
    "        # {'word' : count}\n",
    "        word_count[word] = word_count.get(word, 0) + 1"
   ]
  },
  {
   "cell_type": "code",
   "execution_count": 23,
   "metadata": {},
   "outputs": [
    {
     "name": "stdout",
     "output_type": "stream",
     "text": [
      "산책길에서 -> 1\n",
      "엠폭스 -> 1\n",
      "확진자 -> 1\n",
      "주말 -> 1\n",
      "명 -> 2\n",
      "추가 -> 1\n",
      "발생…누적 -> 1\n",
      "모디 -> 1\n",
      "印총리 -> 1\n",
      "개혁하지 -> 1\n",
      "않으면 -> 1\n",
      "유엔은 -> 1\n",
      "잡담장소로 -> 1\n",
      "전락 -> 1\n",
      "美부채한도 -> 1\n",
      "상향 -> 1\n",
      "안하면 -> 1\n",
      "내달 -> 1\n",
      "~일 -> 1\n",
      "잔고 -> 1\n",
      "억달러 -> 1\n",
      "미달 -> 1\n",
      "공흥지구 -> 1\n",
      "특혜의혹 -> 1\n",
      "고발인 -> 1\n",
      "이의제기·재고발 -> 1\n",
      "검토 -> 1\n",
      "인스타그램 -> 1\n",
      "글로벌 -> 1\n",
      "오류 -> 1\n",
      "시간 -> 1\n",
      "만에 -> 1\n",
      "복구종합 -> 1\n",
      "농가소득 -> 1\n",
      "‘뒷걸음질’…농업경영비는 -> 1\n",
      "‘역대 -> 1\n",
      "최고’ -> 1\n",
      "시장 -> 1\n",
      "불안에 -> 1\n",
      "갈 -> 1\n",
      "곳 -> 1\n",
      "잃은 -> 1\n",
      "투자 -> 1\n",
      "자금 -> 1\n",
      "어디로 -> 1\n",
      "향하나 -> 1\n",
      "김기현·구자근·박성민 -> 1\n",
      "내일 -> 1\n",
      "생가·盧 -> 1\n",
      "주기 -> 1\n",
      "추도식 -> 1\n",
      "방문 -> 1\n",
      "박민식 -> 1\n",
      "보훈장관 -> 1\n",
      "후보자 -> 1\n",
      "국가 -> 2\n",
      "근본 -> 1\n",
      "바로잡기 -> 1\n",
      "앞장서겠다 -> 1\n",
      "배진교 -> 1\n",
      "전세사기 -> 1\n",
      "특별법 -> 1\n",
      "오늘 -> 1\n",
      "안에 -> 1\n",
      "반드시 -> 1\n",
      "처리해야 -> 1\n",
      "빌 -> 1\n",
      "게이츠 -> 1\n",
      "바람피웠다가 -> 1\n",
      "성범죄자 -> 1\n",
      "엡스타인에 -> 1\n",
      "협박 -> 1\n",
      "당했다 -> 1\n",
      "정유사중 -> 1\n",
      "휘발유 -> 1\n",
      "가장 -> 1\n",
      "싸게 -> 1\n",
      "파는 -> 1\n",
      "주유소는 -> 1\n",
      "여기…ℓ당 -> 1\n",
      "원이나 -> 1\n",
      "저렴하네 -> 1\n",
      "박광온 -> 1\n",
      "日후쿠시마 -> 1\n",
      "오염수 -> 2\n",
      "시찰단 -> 1\n",
      "국회로 -> 1\n",
      "불러 -> 1\n",
      "보고받을 -> 1\n",
      "것 -> 2\n",
      "식약처 -> 1\n",
      "건강먹거리 -> 1\n",
      "시범사업 -> 1\n",
      "편의점 -> 1\n",
      "개로 -> 1\n",
      "확대 -> 1\n",
      "빈번한 -> 1\n",
      "지진에 -> 1\n",
      "화들짝…동해시 -> 1\n",
      "관광숙박시설 -> 1\n",
      "안전 -> 1\n",
      "점검 -> 1\n",
      "국민연금 -> 1\n",
      "올리면…고소득자는 -> 1\n",
      "더 -> 2\n",
      "내고 -> 1\n",
      "덜 -> 1\n",
      "받는다 -> 1\n",
      "[연금개혁 -> 1\n",
      "파헤치기] -> 1\n",
      "사모펀드들 -> 1\n",
      "거시경제 -> 1\n",
      "악화에 -> 1\n",
      "투자금 -> 1\n",
      "회수 -> 1\n",
      "활동 -> 1\n",
      "급감 -> 1\n",
      "예산에 -> 1\n",
      "생돈 -> 1\n",
      "억 -> 1\n",
      "붓는다 -> 1\n",
      "직원들도 -> 1\n",
      "몰랐다 -> 1\n",
      "백종원 -> 1\n",
      "큰 -> 1\n",
      "그림 -> 1\n",
      "[월간중앙 -> 1\n",
      "독점 -> 1\n",
      "인터뷰] -> 1\n",
      "소아과 -> 1\n",
      "질 -> 1\n",
      "높을수록 -> 1\n",
      "아이 -> 1\n",
      "낳겠다… -> 1\n",
      "‘병세권’ -> 1\n",
      "선호 -> 1\n",
      "뚜렷 -> 1\n",
      "中의 -> 1\n",
      "美 -> 1\n",
      "반도체 -> 1\n",
      "첫 -> 1\n",
      "직접 -> 1\n",
      "제재에 -> 1\n",
      "삼성전자 -> 1\n",
      "이득…만전자 -> 1\n",
      "넘어 -> 1\n",
      "만전자行 -> 1\n",
      "특급열차 -> 1\n",
      "탑승하나 -> 1\n",
      "[투자] -> 2\n",
      "김기현 -> 1\n",
      "尹대통령 -> 1\n",
      "참석 -> 1\n",
      "文정권과 -> 1\n",
      "격이 -> 1\n",
      "다른 -> 1\n",
      "명품 -> 1\n",
      "외교 -> 1\n",
      "[출발 -> 1\n",
      "서해안 -> 1\n",
      "시대] -> 1\n",
      "“원전 -> 1\n",
      "방출에 -> 1\n",
      "전남 -> 1\n",
      "수산물 -> 1\n",
      "타격 -> 1\n",
      "우려” -> 1\n",
      "[시선집중] -> 1\n",
      "윤상현 -> 1\n",
      "한국 -> 1\n",
      "심리적 -> 1\n",
      "日 -> 1\n",
      "가입 -> 1\n",
      "반대만 -> 1\n",
      "할 -> 1\n",
      "수 -> 1\n",
      "없을 -> 1\n",
      "똑같은 -> 1\n",
      "테슬라인데 -> 1\n",
      "국민연금은 -> 1\n",
      "‘사자’ -> 1\n",
      "‘팔자’…국내 -> 1\n",
      "양대 -> 1\n",
      "큰손의 -> 1\n",
      "반대 -> 1\n",
      "베팅 -> 1\n",
      "왜 -> 1\n",
      "與 -> 1\n",
      "‘노조 -> 1\n",
      "때리기’ -> 1\n",
      "본격화…밤샘 -> 1\n",
      "집회 -> 1\n",
      "금지·경찰에 -> 1\n",
      "‘면책’ -> 1\n",
      "부여 -> 1\n",
      "[이런정치] -> 1\n",
      "옷들의 -> 1\n",
      "패자부활전 -> 1\n",
      "[정치쇼] -> 1\n",
      "국힘 -> 1\n",
      "코인 -> 1\n",
      "황석진 -> 1\n",
      "위믹스 -> 1\n",
      "유통자료 -> 1\n",
      "다 -> 1\n",
      "받기로 -> 1\n",
      "프리랜서 -> 1\n",
      "생활 -> 1\n",
      "접고 -> 1\n",
      "직장 -> 1\n",
      "들어간 -> 1\n",
      "대 -> 1\n",
      "여전히 -> 1\n",
      "돈이 -> 1\n",
      "쌓이지 -> 1\n",
      "않아요 -> 1\n",
      "[재테크 -> 1\n",
      "] -> 1\n",
      "누리호 -> 1\n",
      "차 -> 1\n",
      "비행 -> 1\n",
      "시퀀스 -> 1\n",
      "마스크가 -> 1\n",
      "필요한 -> 1\n",
      "날 -> 1\n",
      "강릉서 -> 1\n",
      "승용차가 -> 1\n",
      "교각 -> 1\n",
      "입구 -> 1\n",
      "들이받아…대 -> 1\n",
      "운전자 -> 1\n",
      "숨져 -> 1\n",
      "산책길에서 -> 1\n"
     ]
    }
   ],
   "source": [
    "new_word_count = {}\n",
    "print(word, '->', word_count[word])\n",
    "for word, cnt in word_count.items(): # (단어:빈도수)\n",
    "    print(word, '->', word_count[word])\n",
    "    if cnt >=2 and len(word) >=2  :\n",
    "#         print(word, '->', word_count[word])\n",
    "        new_word_count[word] = new_word_count.get(word, cnt)"
   ]
  },
  {
   "cell_type": "code",
   "execution_count": 24,
   "metadata": {},
   "outputs": [
    {
     "name": "stdout",
     "output_type": "stream",
     "text": [
      ">>단어 전처리<<\n"
     ]
    },
    {
     "data": {
      "text/plain": [
       "{'국가': 2, '오염수': 2, '[투자]': 2}"
      ]
     },
     "execution_count": 24,
     "metadata": {},
     "output_type": "execute_result"
    }
   ],
   "source": [
    "print('>>단어 전처리<<')\n",
    "new_word_count"
   ]
  },
  {
   "cell_type": "code",
   "execution_count": 34,
   "metadata": {},
   "outputs": [
    {
     "name": "stdout",
     "output_type": "stream",
     "text": [
      "[]\n",
      ">>top 3 단어<<\n",
      "[]\n",
      "[]\n",
      "[]\n"
     ]
    }
   ],
   "source": [
    "# 5. top word Counter\n",
    "from collections import Counter\n",
    "\n",
    "counter = Counter(new_word_count) # 생성자 -> object\n",
    "\n",
    "top3_word = counter.most_common(2) # top10\n",
    "print('>>top 3 단어<<')\n",
    "print(top3_word)\n",
    "\n",
    "words = [] # 단어\n",
    "counts = [] # 출현빈도수\n",
    "for word, count in top3_word : # ('성장률', 5)\n",
    "    words.append(word)\n",
    "    counts.append(count)\n",
    "\n",
    "print(words)\n",
    "print(counts)"
   ]
  },
  {
   "cell_type": "code",
   "execution_count": 27,
   "metadata": {},
   "outputs": [
    {
     "data": {
      "text/plain": [
       "{}"
      ]
     },
     "execution_count": 27,
     "metadata": {},
     "output_type": "execute_result"
    }
   ],
   "source": [
    "new_word_count"
   ]
  },
  {
   "cell_type": "code",
   "execution_count": null,
   "metadata": {},
   "outputs": [],
   "source": [
    "from collections import Counter\n",
    "\n",
    "counter = Counter(new_word_count) # 생성자 -> object\n",
    "top3_word = counter.most_common(3) # top10\n",
    "# print('>>top 3 단어<<')\n",
    "# print(top3_word)\n",
    "\n",
    "words = [] # 단어\n",
    "counts = [] # 출현빈도수\n",
    "for word, count in top3_word : # ('성장률', 5)\n",
    "    words.append(word)\n",
    "    counts.append(count)\n",
    "\n",
    "print(words)\n",
    "print(counts)"
   ]
  },
  {
   "cell_type": "code",
   "execution_count": 26,
   "metadata": {
    "ExecuteTime": {
     "end_time": "2022-10-16T12:31:47.734240Z",
     "start_time": "2022-10-16T12:31:47.702326Z"
    }
   },
   "outputs": [
    {
     "name": "stdout",
     "output_type": "stream",
     "text": [
      "[]\n",
      "[]\n"
     ]
    }
   ],
   "source": [
    "# 1. pickle.load()\n",
    "import pickle \n",
    "\n",
    "# load\n",
    "file = open(\"./data.pickle\", mode='rb')\n",
    "news_data2 = pickle.load(file)\n",
    "# print(news_data2)\n",
    "\n",
    "# 2. text 전처리\n",
    "import re\n",
    "\n",
    "def clean_text(text_string):\n",
    "    # 문장부호 제거 : 따옴표 추가(\\'\\\")\n",
    "    text_string_re = re.sub('[,.?!:\\'\\\";]', '', text_string)\n",
    "    # 특수문자, 숫자 제거\n",
    "    text_string_re = re.sub('[!@#$%^&*()]|[0-9]', '', text_string_re)\n",
    "    # 영문 소문자 -> 영문 제거\n",
    "    text_string_re = text_string_re.lower()\n",
    "    text_string_re = re.sub('[a-z]', '', text_string_re)\n",
    "    # 공백 제거\n",
    "    text_string_re = ' '.join(text_string_re.split()) # '우리나라 대한민국'\n",
    "\n",
    "    return text_string_re\n",
    "\n",
    "# 텍스트 전처리\n",
    "clean_texts = [clean_text(row) for row in news_data2]\n",
    "\n",
    "# print('>>텍스트 전처리 결과<<')\n",
    "# print(clean_texts)\n",
    "\n",
    "# 3. word count\n",
    "word_count = {}\n",
    "\n",
    "for text in clean_texts : # 문장\n",
    "    for word in text.split() : # 문장 -> 단어\n",
    "        # {'word' : count}\n",
    "        word_count[word] = word_count.get(word, 0) + 1\n",
    "\n",
    "# print('>>워드 카운트<<')\n",
    "# print(word_count)\n",
    "\n",
    "# 3회 이상 출현 단어 & 2~4자 단어 선정\n",
    "new_word_count = {}\n",
    "for word, cnt in word_count.items(): # (단어:빈도수)\n",
    "    if cnt >=3 and len(word) >=2  :\n",
    "#         print(word, '->', word_count[word])\n",
    "        new_word_count[word] = new_word_count.get(word, cnt)\n",
    "\n",
    "# print('>>단어 전처리<<')\n",
    "# new_word_count\n",
    "\n",
    "# 5. top word Counter\n",
    "from collections import Counter\n",
    "\n",
    "counter = Counter(new_word_count) # 생성자 -> object\n",
    "top3_word = counter.most_common(3) # top10\n",
    "# print('>>top 3 단어<<')\n",
    "# print(top3_word)\n",
    "\n",
    "words = [] # 단어\n",
    "counts = [] # 출현빈도수\n",
    "for word, count in top3_word : # ('성장률', 5)\n",
    "    words.append(word)\n",
    "    counts.append(count)\n",
    "\n",
    "print(words)\n",
    "print(counts)"
   ]
  },
  {
   "cell_type": "code",
   "execution_count": null,
   "metadata": {},
   "outputs": [],
   "source": []
  },
  {
   "cell_type": "code",
   "execution_count": null,
   "metadata": {},
   "outputs": [],
   "source": []
  }
 ],
 "metadata": {
  "hide_input": false,
  "kernelspec": {
   "display_name": "Python 3 (ipykernel)",
   "language": "python",
   "name": "python3"
  },
  "language_info": {
   "codemirror_mode": {
    "name": "ipython",
    "version": 3
   },
   "file_extension": ".py",
   "mimetype": "text/x-python",
   "name": "python",
   "nbconvert_exporter": "python",
   "pygments_lexer": "ipython3",
   "version": "3.10.9"
  },
  "toc": {
   "base_numbering": 1,
   "nav_menu": {},
   "number_sections": true,
   "sideBar": true,
   "skip_h1_title": false,
   "title_cell": "Table of Contents",
   "title_sidebar": "Contents",
   "toc_cell": false,
   "toc_position": {},
   "toc_section_display": true,
   "toc_window_display": false
  },
  "varInspector": {
   "cols": {
    "lenName": 16,
    "lenType": 16,
    "lenVar": 40
   },
   "kernels_config": {
    "python": {
     "delete_cmd_postfix": "",
     "delete_cmd_prefix": "del ",
     "library": "var_list.py",
     "varRefreshCmd": "print(var_dic_list())"
    },
    "r": {
     "delete_cmd_postfix": ") ",
     "delete_cmd_prefix": "rm(",
     "library": "var_list.r",
     "varRefreshCmd": "cat(var_dic_list()) "
    }
   },
   "types_to_exclude": [
    "module",
    "function",
    "builtin_function_or_method",
    "instance",
    "_Feature"
   ],
   "window_display": false
  }
 },
 "nbformat": 4,
 "nbformat_minor": 2
}
