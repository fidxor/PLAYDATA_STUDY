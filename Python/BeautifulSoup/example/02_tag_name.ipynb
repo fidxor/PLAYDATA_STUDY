{
 "cells": [
  {
   "cell_type": "code",
   "execution_count": 1,
   "metadata": {
    "ExecuteTime": {
     "end_time": "2022-10-16T11:49:12.445542Z",
     "start_time": "2022-10-16T11:49:12.427589Z"
    }
   },
   "outputs": [],
   "source": [
    "# 9.2 태그 자료 수집"
   ]
  },
  {
   "cell_type": "code",
   "execution_count": 1,
   "metadata": {
    "ExecuteTime": {
     "end_time": "2022-10-16T12:23:55.958787Z",
     "start_time": "2022-10-16T12:23:50.717818Z"
    }
   },
   "outputs": [],
   "source": [
    "# !pip install bs4"
   ]
  },
  {
   "cell_type": "code",
   "execution_count": 3,
   "metadata": {
    "ExecuteTime": {
     "end_time": "2022-10-16T11:51:05.250542Z",
     "start_time": "2022-10-16T11:51:05.228600Z"
    }
   },
   "outputs": [
    {
     "name": "stdout",
     "output_type": "stream",
     "text": [
      "<!DOCTYPE html>\n",
      "<html>\n",
      "<head>\n",
      "<meta charset=\"UTF-8\">\n",
      "<title> html5 - 시멘틱 태그 </title>\n",
      "</head>\n",
      "<body>\n",
      "   <h1> 시멘틱 태그 ?</h1>\n",
      "   <p> html5에서 웹문서에 의미를 부여하는 태그를 의미 </p>\n",
      "   <h2> 주요 시멘틱 태그 </h2>\n",
      "   <ul>\n",
      "      <li> header : 문서의 머리말(사이트 소개, 제목, 로그 )</li>\n",
      "      <li> nav : 네이게이션(메뉴) </li>\n",
      "      <li> section : 웹 문서를 장(chapter)으로 볼 때 절을 구분하는 태그</li>\n",
      "      <li> aside : 문서의 보조 내용(광고, 즐겨찾기, 링크) </li>\n",
      "      <li> footer : 문서의 꼬리말(작성자, 저작권, 개인정보보호) </li>   \n",
      "   </ul>\n",
      "</body>\n",
      "</html>\n",
      "\n",
      "\n",
      "\n",
      "<!DOCTYPE html>\n",
      "\n",
      "<html>\n",
      "<head>\n",
      "<meta charset=\"utf-8\"/>\n",
      "<title> html5 - 시멘틱 태그 </title>\n",
      "</head>\n",
      "<body>\n",
      "<h1> 시멘틱 태그 ?</h1>\n",
      "<p> html5에서 웹문서에 의미를 부여하는 태그를 의미 </p>\n",
      "<h2> 주요 시멘틱 태그 </h2>\n",
      "<ul>\n",
      "<li> header : 문서의 머리말(사이트 소개, 제목, 로그 )</li>\n",
      "<li> nav : 네이게이션(메뉴) </li>\n",
      "<li> section : 웹 문서를 장(chapter)으로 볼 때 절을 구분하는 태그</li>\n",
      "<li> aside : 문서의 보조 내용(광고, 즐겨찾기, 링크) </li>\n",
      "<li> footer : 문서의 꼬리말(작성자, 저작권, 개인정보보호) </li>\n",
      "</ul>\n",
      "</body>\n",
      "</html>\n",
      "\n",
      "h1 :   시멘틱 태그 ?\n",
      "h2 :   주요 시멘틱 태그 \n",
      "[<li> header : 문서의 머리말(사이트 소개, 제목, 로그 )</li>, <li> nav : 네이게이션(메뉴) </li>, <li> section : 웹 문서를 장(chapter)으로 볼 때 절을 구분하는 태그</li>, <li> aside : 문서의 보조 내용(광고, 즐겨찾기, 링크) </li>, <li> footer : 문서의 꼬리말(작성자, 저작권, 개인정보보호) </li>]\n",
      " header : 문서의 머리말(사이트 소개, 제목, 로그 )\n",
      " nav : 네이게이션(메뉴) \n",
      " section : 웹 문서를 장(chapter)으로 볼 때 절을 구분하는 태그\n",
      " aside : 문서의 보조 내용(광고, 즐겨찾기, 링크) \n",
      " footer : 문서의 꼬리말(작성자, 저작권, 개인정보보호) \n"
     ]
    }
   ],
   "source": [
    "from bs4 import BeautifulSoup\n",
    "\n",
    "# 1. 로컬 서버 파일 읽기 \n",
    "file = open('../data/html01.html', mode='r', encoding='utf-8')\n",
    "text = file.read()\n",
    "print(text)\n",
    "\n",
    "file.close()    #open 사용했으면 close 해줘라\n",
    "\n",
    "# 2. html 파싱\n",
    "html = BeautifulSoup(text, 'html.parser')\n",
    "print(html)\n",
    "\n",
    "# 3. 태그 내용 가져오기 \n",
    "# 1) tag 이용 \n",
    "h1 = html.html.body.h1 # 계층 접근\n",
    "print('h1 : ', h1.string) # h1 :   시멘틱 태그\n",
    "\n",
    "# 2) find()함수 : 태그 찾기 \n",
    "h2 = html.find('h2')\n",
    "print('h2 : ', h2.string) # h2 :   주요 시멘틱 태그\n",
    "\n",
    "# 3) find_all('tag')\n",
    "lis = html.find_all('li') # list 반환\n",
    "print(lis) \n",
    "\n",
    "for li in lis :\n",
    "    print(li.string)\n"
   ]
  },
  {
   "cell_type": "code",
   "execution_count": 4,
   "metadata": {},
   "outputs": [
    {
     "name": "stdout",
     "output_type": "stream",
     "text": [
      "h1 :   시멘틱 태그 ?\n"
     ]
    }
   ],
   "source": [
    "# 1) tag 이용 \n",
    "h1 = html.html.body.h1 # 계층 접근\n",
    "print('h1 : ', h1.string) # h1 :   시멘틱 태그"
   ]
  },
  {
   "cell_type": "code",
   "execution_count": 5,
   "metadata": {},
   "outputs": [
    {
     "name": "stdout",
     "output_type": "stream",
     "text": [
      "h2 :   주요 시멘틱 태그 \n"
     ]
    }
   ],
   "source": [
    "# 2) find()함수 : 태그 찾기 \n",
    "h2 = html.find('h2')\n",
    "print('h2 : ', h2.string) # h2 :   주요 시멘틱 태그"
   ]
  },
  {
   "cell_type": "code",
   "execution_count": 6,
   "metadata": {},
   "outputs": [
    {
     "name": "stdout",
     "output_type": "stream",
     "text": [
      "[<li> header : 문서의 머리말(사이트 소개, 제목, 로그 )</li>, <li> nav : 네이게이션(메뉴) </li>, <li> section : 웹 문서를 장(chapter)으로 볼 때 절을 구분하는 태그</li>, <li> aside : 문서의 보조 내용(광고, 즐겨찾기, 링크) </li>, <li> footer : 문서의 꼬리말(작성자, 저작권, 개인정보보호) </li>]\n",
      " header : 문서의 머리말(사이트 소개, 제목, 로그 )\n",
      " nav : 네이게이션(메뉴) \n",
      " section : 웹 문서를 장(chapter)으로 볼 때 절을 구분하는 태그\n",
      " aside : 문서의 보조 내용(광고, 즐겨찾기, 링크) \n",
      " footer : 문서의 꼬리말(작성자, 저작권, 개인정보보호) \n"
     ]
    }
   ],
   "source": [
    "# 3) find_all('tag')\n",
    "lis = html.find_all('li') # list 반환\n",
    "print(lis) \n",
    "\n",
    "for li in lis :\n",
    "    print(li.string)"
   ]
  }
 ],
 "metadata": {
  "hide_input": false,
  "kernelspec": {
   "display_name": "Python 3 (ipykernel)",
   "language": "python",
   "name": "python3"
  },
  "language_info": {
   "codemirror_mode": {
    "name": "ipython",
    "version": 3
   },
   "file_extension": ".py",
   "mimetype": "text/x-python",
   "name": "python",
   "nbconvert_exporter": "python",
   "pygments_lexer": "ipython3",
   "version": "3.11.3"
  },
  "toc": {
   "base_numbering": 1,
   "nav_menu": {},
   "number_sections": true,
   "sideBar": true,
   "skip_h1_title": false,
   "title_cell": "Table of Contents",
   "title_sidebar": "Contents",
   "toc_cell": false,
   "toc_position": {},
   "toc_section_display": true,
   "toc_window_display": false
  },
  "varInspector": {
   "cols": {
    "lenName": 16,
    "lenType": 16,
    "lenVar": 40
   },
   "kernels_config": {
    "python": {
     "delete_cmd_postfix": "",
     "delete_cmd_prefix": "del ",
     "library": "var_list.py",
     "varRefreshCmd": "print(var_dic_list())"
    },
    "r": {
     "delete_cmd_postfix": ") ",
     "delete_cmd_prefix": "rm(",
     "library": "var_list.r",
     "varRefreshCmd": "cat(var_dic_list()) "
    }
   },
   "types_to_exclude": [
    "module",
    "function",
    "builtin_function_or_method",
    "instance",
    "_Feature"
   ],
   "window_display": false
  }
 },
 "nbformat": 4,
 "nbformat_minor": 2
}
