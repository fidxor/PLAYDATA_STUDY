{
 "cells": [
  {
   "cell_type": "code",
   "execution_count": 1,
   "id": "b4a05dd2",
   "metadata": {},
   "outputs": [
    {
     "name": "stdout",
     "output_type": "stream",
     "text": [
      "[('꽃이', 5)]\n"
     ]
    }
   ],
   "source": [
    "from collections import Counter\n",
    "import re\n",
    "\n",
    "data = \"\"\"\n",
    "산에는 꽃 피네.\n",
    "꽃이 피네.\n",
    "갈 봄 여름없이\n",
    "꽃이 피네.\n",
    "\n",
    "산에\n",
    "산에\n",
    "피는 꽃은\n",
    "저만치 혼자서 피어있네.\n",
    "\n",
    "산에서 우는 새여\n",
    "꽃이 좋아\n",
    "산에서\n",
    "사노라네.\n",
    "\n",
    "산에는 꽃지네\n",
    "꽃이 지네.\n",
    "갈 봄 여름 없이\n",
    "꽃이 지네.\n",
    "\"\"\"\n",
    "\n",
    "words = re.findall(r'\\w+', data)\n",
    "counter = Counter(words)\n",
    "print(counter.most_common(1))"
   ]
  },
  {
   "cell_type": "code",
   "execution_count": 2,
   "id": "f25e177f",
   "metadata": {},
   "outputs": [
    {
     "name": "stdout",
     "output_type": "stream",
     "text": [
      "Counter({'꽃이': 5, '피네': 3, '산에는': 2, '갈': 2, '봄': 2, '산에': 2, '산에서': 2, '지네': 2, '꽃': 1, '여름없이': 1, '피는': 1, '꽃은': 1, '저만치': 1, '혼자서': 1, '피어있네': 1, '우는': 1, '새여': 1, '좋아': 1, '사노라네': 1, '꽃지네': 1, '여름': 1, '없이': 1})\n"
     ]
    }
   ],
   "source": [
    "counter = Counter(words)\n",
    "print(counter)"
   ]
  },
  {
   "cell_type": "code",
   "execution_count": 3,
   "id": "c6eca39a",
   "metadata": {},
   "outputs": [
    {
     "name": "stdout",
     "output_type": "stream",
     "text": [
      "[('꽃이', 5)]\n"
     ]
    }
   ],
   "source": [
    "print(counter.most_common(1))"
   ]
  },
  {
   "cell_type": "code",
   "execution_count": 4,
   "id": "a9d9181e",
   "metadata": {},
   "outputs": [
    {
     "name": "stdout",
     "output_type": "stream",
     "text": [
      "[('꽃이', 5), ('피네', 3)]\n"
     ]
    }
   ],
   "source": [
    "print(counter.most_common(2))"
   ]
  },
  {
   "cell_type": "code",
   "execution_count": null,
   "id": "3438e996",
   "metadata": {},
   "outputs": [],
   "source": []
  }
 ],
 "metadata": {
  "kernelspec": {
   "display_name": "Python 3 (ipykernel)",
   "language": "python",
   "name": "python3"
  },
  "language_info": {
   "codemirror_mode": {
    "name": "ipython",
    "version": 3
   },
   "file_extension": ".py",
   "mimetype": "text/x-python",
   "name": "python",
   "nbconvert_exporter": "python",
   "pygments_lexer": "ipython3",
   "version": "3.10.9"
  }
 },
 "nbformat": 4,
 "nbformat_minor": 5
}
