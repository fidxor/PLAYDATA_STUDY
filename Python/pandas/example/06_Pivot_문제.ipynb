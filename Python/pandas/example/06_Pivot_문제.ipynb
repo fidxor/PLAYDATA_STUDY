{
 "cells": [
  {
   "cell_type": "markdown",
   "id": "8dd0cf72",
   "metadata": {},
   "source": [
    ">국가별 5세이하 사망비율 통계 : https://www.kaggle.com/utkarshxy/who-worldhealth-statistics-2020-complete \n",
    "\n",
    ">Dataurl = ‘https://raw.githubusercontent.com/Datamanim/pandas/main/under5MortalityRate.csv’"
   ]
  },
  {
   "cell_type": "code",
   "execution_count": 2,
   "id": "796bb8c0",
   "metadata": {
    "ExecuteTime": {
     "end_time": "2023-05-07T11:44:44.664395Z",
     "start_time": "2023-05-07T11:44:42.940398Z"
    }
   },
   "outputs": [],
   "source": [
    "import pandas as pd\n",
    "\n",
    "df = pd.read_csv('https://raw.githubusercontent.com/Datamanim/pandas/main/under5MortalityRate.csv')"
   ]
  },
  {
   "cell_type": "markdown",
   "id": "362c0e5b",
   "metadata": {},
   "source": [
    "Question 83\n",
    "\n",
    "Indicator을 삭제하고 First Tooltip 컬럼에서 신뢰구간에 해당하는 표현을 지워라"
   ]
  },
  {
   "cell_type": "code",
   "execution_count": null,
   "id": "c4ead22f",
   "metadata": {
    "ExecuteTime": {
     "end_time": "2023-05-07T11:44:46.818393Z",
     "start_time": "2023-05-07T11:44:46.747398Z"
    }
   },
   "outputs": [],
   "source": []
  },
  {
   "cell_type": "markdown",
   "id": "7905487a",
   "metadata": {},
   "source": [
    "Question 84\n",
    "\n",
    "년도가 2015년 이상, Dim1이 Both sexes인 케이스만 추출하라"
   ]
  },
  {
   "cell_type": "code",
   "execution_count": null,
   "id": "54ff582b",
   "metadata": {
    "ExecuteTime": {
     "end_time": "2023-05-07T11:45:07.521771Z",
     "start_time": "2023-05-07T11:45:07.490771Z"
    }
   },
   "outputs": [],
   "source": []
  },
  {
   "cell_type": "markdown",
   "id": "be619ce6",
   "metadata": {},
   "source": [
    "Question 85\n",
    "\n",
    "84번 문제에서 추출한 데이터로 아래와 같이 나라에 따른 년도별 사망률을 데이터 프레임화 하라"
   ]
  },
  {
   "cell_type": "code",
   "execution_count": null,
   "id": "c30d9476",
   "metadata": {
    "ExecuteTime": {
     "end_time": "2023-05-07T11:45:24.396520Z",
     "start_time": "2023-05-07T11:45:24.371719Z"
    }
   },
   "outputs": [],
   "source": []
  },
  {
   "cell_type": "markdown",
   "id": "d2750af2",
   "metadata": {},
   "source": [
    "Question 86\n",
    "\n",
    "Dim1에 따른 년도별 사망비율의 평균을 구하라"
   ]
  },
  {
   "cell_type": "code",
   "execution_count": null,
   "id": "b2a428e4",
   "metadata": {
    "ExecuteTime": {
     "end_time": "2023-05-07T11:45:44.953218Z",
     "start_time": "2023-05-07T11:45:44.908000Z"
    }
   },
   "outputs": [],
   "source": []
  },
  {
   "cell_type": "markdown",
   "id": "0492a33d",
   "metadata": {},
   "source": [
    ">올림픽 메달리스트 정보 데이터: https://www.kaggle.com/the-guardian/olympic-games \n",
    "\n",
    ">dataUrl =’https://raw.githubusercontent.com/Datamanim/pandas/main/winter.csv’"
   ]
  },
  {
   "cell_type": "code",
   "execution_count": 8,
   "id": "f394a8d5",
   "metadata": {
    "ExecuteTime": {
     "end_time": "2023-05-07T11:47:11.676803Z",
     "start_time": "2023-05-07T11:47:11.219879Z"
    }
   },
   "outputs": [],
   "source": [
    "df = pd.read_csv('https://raw.githubusercontent.com/Datamanim/pandas/main/winter.csv')"
   ]
  },
  {
   "cell_type": "markdown",
   "id": "6779b29a",
   "metadata": {},
   "source": [
    "Question 87\n",
    "\n",
    "데이터에서 한국 KOR 데이터만 추출하라"
   ]
  },
  {
   "cell_type": "code",
   "execution_count": null,
   "id": "74329cdd",
   "metadata": {
    "ExecuteTime": {
     "end_time": "2023-05-07T11:47:14.083015Z",
     "start_time": "2023-05-07T11:47:14.048016Z"
    }
   },
   "outputs": [],
   "source": []
  },
  {
   "cell_type": "markdown",
   "id": "bf75749c",
   "metadata": {},
   "source": [
    "Question 88\n",
    "\n",
    "한국 올림픽 메달리스트 데이터에서 년도에 따른 medal 갯수를 데이터프레임화 하라"
   ]
  },
  {
   "cell_type": "code",
   "execution_count": null,
   "id": "a209fcd6",
   "metadata": {
    "ExecuteTime": {
     "end_time": "2023-05-07T11:47:32.756216Z",
     "start_time": "2023-05-07T11:47:32.731220Z"
    }
   },
   "outputs": [],
   "source": []
  },
  {
   "cell_type": "markdown",
   "id": "17928075",
   "metadata": {},
   "source": [
    "Question 89\n",
    "\n",
    "전체 데이터에서 sport종류에 따른 성별수를 구하여라"
   ]
  },
  {
   "cell_type": "code",
   "execution_count": null,
   "id": "173091cf",
   "metadata": {
    "ExecuteTime": {
     "end_time": "2023-05-07T11:47:48.033199Z",
     "start_time": "2023-05-07T11:47:48.005197Z"
    }
   },
   "outputs": [],
   "source": []
  },
  {
   "cell_type": "markdown",
   "id": "46c3760d",
   "metadata": {},
   "source": [
    "Question 90\n",
    "\n",
    "전체 데이터에서 Discipline종류에 따른 따른 Medal수를 구하여라"
   ]
  },
  {
   "cell_type": "code",
   "execution_count": null,
   "id": "7717bd30",
   "metadata": {
    "ExecuteTime": {
     "end_time": "2023-05-07T11:48:06.449455Z",
     "start_time": "2023-05-07T11:48:06.419458Z"
    }
   },
   "outputs": [],
   "source": []
  }
 ],
 "metadata": {
  "hide_input": false,
  "kernelspec": {
   "display_name": "Python 3 (ipykernel)",
   "language": "python",
   "name": "python3"
  },
  "language_info": {
   "codemirror_mode": {
    "name": "ipython",
    "version": 3
   },
   "file_extension": ".py",
   "mimetype": "text/x-python",
   "name": "python",
   "nbconvert_exporter": "python",
   "pygments_lexer": "ipython3",
   "version": "3.9.15"
  },
  "toc": {
   "base_numbering": 1,
   "nav_menu": {},
   "number_sections": true,
   "sideBar": true,
   "skip_h1_title": false,
   "title_cell": "Table of Contents",
   "title_sidebar": "Contents",
   "toc_cell": false,
   "toc_position": {},
   "toc_section_display": true,
   "toc_window_display": false
  },
  "varInspector": {
   "cols": {
    "lenName": 16,
    "lenType": 16,
    "lenVar": 40
   },
   "kernels_config": {
    "python": {
     "delete_cmd_postfix": "",
     "delete_cmd_prefix": "del ",
     "library": "var_list.py",
     "varRefreshCmd": "print(var_dic_list())"
    },
    "r": {
     "delete_cmd_postfix": ") ",
     "delete_cmd_prefix": "rm(",
     "library": "var_list.r",
     "varRefreshCmd": "cat(var_dic_list()) "
    }
   },
   "types_to_exclude": [
    "module",
    "function",
    "builtin_function_or_method",
    "instance",
    "_Feature"
   ],
   "window_display": false
  }
 },
 "nbformat": 4,
 "nbformat_minor": 5
}
