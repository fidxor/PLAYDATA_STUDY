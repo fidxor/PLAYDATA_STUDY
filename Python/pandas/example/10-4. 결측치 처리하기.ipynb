{
 "cells": [
  {
   "attachments": {},
   "cell_type": "markdown",
   "id": "21ee2b56",
   "metadata": {},
   "source": [
    "* 결측치는 데이터 자체가 없다는 것을 의미한다."
   ]
  },
  {
   "cell_type": "code",
   "execution_count": null,
   "id": "baf826e2",
   "metadata": {},
   "outputs": [],
   "source": [
    "import pandas as pd\n",
    "import numpy as np\n",
    "df = pd.DataFrame([[np.nan, 2, np.nan, 0],\n",
    "                   [3, 4, np.nan, 1],\n",
    "                   [np.nan, np.nan, np.nan, 5],\n",
    "                   [np.nan, 3, np.nan, 4]],\n",
    "                  columns=list('ABCD'))\n",
    "df"
   ]
  },
  {
   "attachments": {},
   "cell_type": "markdown",
   "id": "46f26734",
   "metadata": {},
   "source": [
    "# 결측치 확인하기"
   ]
  },
  {
   "cell_type": "code",
   "execution_count": null,
   "id": "5d14db5c",
   "metadata": {
    "scrolled": true
   },
   "outputs": [],
   "source": [
    "# isnull()\n",
    "df.isnull().sum()"
   ]
  },
  {
   "cell_type": "code",
   "execution_count": null,
   "id": "9b4d3a96",
   "metadata": {
    "scrolled": false
   },
   "outputs": [],
   "source": [
    "# info\n",
    "df.info()"
   ]
  },
  {
   "attachments": {},
   "cell_type": "markdown",
   "id": "ea11f5b2",
   "metadata": {},
   "source": [
    "# 결측치 삭제하기\n",
    "* 데이터프레임.**dropna()** : 결측치가 존재하는 모든 row 삭제\n",
    "* 데이터프레임.**dropna(axis=1)** : 결측치가 존재하는 모든 column 삭제"
   ]
  },
  {
   "cell_type": "code",
   "execution_count": null,
   "id": "cf409eea",
   "metadata": {},
   "outputs": [],
   "source": [
    "# 결측치가 존재하는 모든 row 삭제\n",
    "df.dropna()"
   ]
  },
  {
   "cell_type": "code",
   "execution_count": null,
   "id": "a2895389",
   "metadata": {},
   "outputs": [],
   "source": [
    "#결측치가 존재하는 모든 column 삭제\n",
    "df.dropna(axis=1)"
   ]
  },
  {
   "attachments": {},
   "cell_type": "markdown",
   "id": "d6a49ec6",
   "metadata": {},
   "source": [
    "# 결측치 대치하기\n",
    "* 특정값으로 채우기 : 데이터프레임.**fillna(특정값)**\n",
    "* 이전값으로 채우기 : 데이터프레임.**fillna(method='ffill')**\n",
    "* 다음값으로 채우기 : 데이터프레임.**fillna(method='bfill')**\n",
    "* 컬럼별로 값을 지정하여 치우기 : 데이터프레임.**fillna({'컬럼명1':값1, '컬럼명2':값2,...})**"
   ]
  },
  {
   "attachments": {},
   "cell_type": "markdown",
   "id": "27706c81",
   "metadata": {},
   "source": [
    "## 특정값으로 채우기"
   ]
  },
  {
   "cell_type": "code",
   "execution_count": null,
   "id": "57ca235c",
   "metadata": {
    "scrolled": true
   },
   "outputs": [],
   "source": [
    "# 0으로 채우기\n",
    "df.fillna(0)"
   ]
  },
  {
   "cell_type": "code",
   "execution_count": null,
   "id": "8617f0aa",
   "metadata": {},
   "outputs": [],
   "source": [
    "df"
   ]
  },
  {
   "cell_type": "code",
   "execution_count": null,
   "id": "9e40f146",
   "metadata": {
    "scrolled": true
   },
   "outputs": [],
   "source": [
    "# 평균값으로 채우기(컬럼별 평균값으로 채워진다.)\n",
    "df.fillna(df.mean())"
   ]
  },
  {
   "attachments": {},
   "cell_type": "markdown",
   "id": "87368814",
   "metadata": {},
   "source": [
    "## 이전 값으로 채우기"
   ]
  },
  {
   "cell_type": "code",
   "execution_count": null,
   "id": "1b6515b1",
   "metadata": {
    "scrolled": true
   },
   "outputs": [],
   "source": [
    "df"
   ]
  },
  {
   "cell_type": "code",
   "execution_count": null,
   "id": "4bcea177",
   "metadata": {},
   "outputs": [],
   "source": [
    "#method = ffill 이면 이전값으로 채워진다.\n",
    "df.fillna(method='ffill')"
   ]
  },
  {
   "attachments": {},
   "cell_type": "markdown",
   "id": "c74a2627",
   "metadata": {},
   "source": [
    "## 다음 값으로 채우기"
   ]
  },
  {
   "cell_type": "code",
   "execution_count": null,
   "id": "72d04e54",
   "metadata": {
    "scrolled": true
   },
   "outputs": [],
   "source": [
    "# method = bfill 이면 다음 값으로 채워진다.\n",
    "df.fillna(method='bfill')"
   ]
  },
  {
   "attachments": {},
   "cell_type": "markdown",
   "id": "103ea99f",
   "metadata": {},
   "source": [
    "## 컬럼별로 대치할 값을 지정하여 채우기"
   ]
  },
  {
   "cell_type": "code",
   "execution_count": null,
   "id": "adc440c8",
   "metadata": {},
   "outputs": [],
   "source": [
    "df"
   ]
  },
  {
   "cell_type": "code",
   "execution_count": null,
   "id": "20798f05",
   "metadata": {
    "scrolled": false
   },
   "outputs": [],
   "source": [
    "# 각 column별로 채워질 값을 지정해 줄수 있다.\n",
    "df.fillna({'A':0,'B':1,'C':2,'D':3})"
   ]
  },
  {
   "attachments": {},
   "cell_type": "markdown",
   "id": "31f0a3b1",
   "metadata": {},
   "source": [
    "# 결측치가 포함된 데이터의 통계값\n",
    "* 결측치는 없는 데이터로 간주한다."
   ]
  },
  {
   "cell_type": "code",
   "execution_count": null,
   "id": "24af0e76",
   "metadata": {},
   "outputs": [],
   "source": [
    "df"
   ]
  },
  {
   "cell_type": "code",
   "execution_count": null,
   "id": "d13e7978",
   "metadata": {
    "scrolled": true
   },
   "outputs": [],
   "source": [
    "df['A'].mean()"
   ]
  },
  {
   "cell_type": "code",
   "execution_count": null,
   "id": "9066d52e",
   "metadata": {},
   "outputs": [],
   "source": [
    "df['B'].mean()"
   ]
  },
  {
   "attachments": {},
   "cell_type": "markdown",
   "id": "9a966818",
   "metadata": {},
   "source": [
    "## scores 데이터의 결측치 처리"
   ]
  },
  {
   "cell_type": "code",
   "execution_count": null,
   "id": "986fceda",
   "metadata": {
    "scrolled": false
   },
   "outputs": [],
   "source": [
    "import pandas as pd\n",
    "\n",
    "df = pd.read_csv('../data/scores.csv')\n",
    "df.head()"
   ]
  },
  {
   "cell_type": "code",
   "execution_count": null,
   "id": "1b593bf6",
   "metadata": {
    "scrolled": false
   },
   "outputs": [],
   "source": [
    "# 결측치 확인\n",
    "df.isnull().sum()"
   ]
  },
  {
   "cell_type": "code",
   "execution_count": null,
   "id": "5547225b",
   "metadata": {
    "scrolled": true
   },
   "outputs": [],
   "source": [
    "df.info()"
   ]
  },
  {
   "cell_type": "code",
   "execution_count": null,
   "id": "6a017b92",
   "metadata": {},
   "outputs": [],
   "source": [
    "df"
   ]
  },
  {
   "cell_type": "code",
   "execution_count": null,
   "id": "641c397c",
   "metadata": {
    "scrolled": true
   },
   "outputs": [],
   "source": [
    "# 결측치를 0으로 채우기\n",
    "df.fillna(0, inplace=True)"
   ]
  },
  {
   "cell_type": "code",
   "execution_count": null,
   "id": "c7e8fdce",
   "metadata": {
    "scrolled": false
   },
   "outputs": [],
   "source": [
    "df"
   ]
  }
 ],
 "metadata": {
  "kernelspec": {
   "display_name": "Python 3",
   "language": "python",
   "name": "python3"
  },
  "language_info": {
   "codemirror_mode": {
    "name": "ipython",
    "version": 3
   },
   "file_extension": ".py",
   "mimetype": "text/x-python",
   "name": "python",
   "nbconvert_exporter": "python",
   "pygments_lexer": "ipython3",
   "version": "3.11.3"
  },
  "toc": {
   "base_numbering": 1,
   "nav_menu": {},
   "number_sections": true,
   "sideBar": true,
   "skip_h1_title": false,
   "title_cell": "Table of Contents",
   "title_sidebar": "Contents",
   "toc_cell": false,
   "toc_position": {
    "height": "calc(100% - 180px)",
    "left": "10px",
    "top": "150px",
    "width": "245.76px"
   },
   "toc_section_display": true,
   "toc_window_display": true
  }
 },
 "nbformat": 4,
 "nbformat_minor": 5
}
