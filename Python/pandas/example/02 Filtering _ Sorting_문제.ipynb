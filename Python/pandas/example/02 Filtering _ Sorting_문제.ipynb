{
 "cells": [
  {
   "attachments": {},
   "cell_type": "markdown",
   "id": "7bc62fef",
   "metadata": {},
   "source": [
    "> 식당데이터 : justmarkham/DAT8\n",
    "\n",
    "> DataUrl = ‘https://raw.githubusercontent.com/Datamanim/pandas/main/chipo.csv’"
   ]
  },
  {
   "attachments": {},
   "cell_type": "markdown",
   "id": "caa6014e",
   "metadata": {},
   "source": [
    "Question 20\n",
    "\n",
    "데이터를 로드하라."
   ]
  },
  {
   "cell_type": "code",
   "execution_count": 2,
   "id": "2a109027",
   "metadata": {
    "ExecuteTime": {
     "end_time": "2023-05-07T11:18:37.747197Z",
     "start_time": "2023-05-07T11:18:37.557199Z"
    }
   },
   "outputs": [
    {
     "data": {
      "text/html": [
       "<div>\n",
       "<style scoped>\n",
       "    .dataframe tbody tr th:only-of-type {\n",
       "        vertical-align: middle;\n",
       "    }\n",
       "\n",
       "    .dataframe tbody tr th {\n",
       "        vertical-align: top;\n",
       "    }\n",
       "\n",
       "    .dataframe thead th {\n",
       "        text-align: right;\n",
       "    }\n",
       "</style>\n",
       "<table border=\"1\" class=\"dataframe\">\n",
       "  <thead>\n",
       "    <tr style=\"text-align: right;\">\n",
       "      <th></th>\n",
       "      <th>order_id</th>\n",
       "      <th>quantity</th>\n",
       "      <th>item_name</th>\n",
       "      <th>choice_description</th>\n",
       "      <th>item_price</th>\n",
       "    </tr>\n",
       "  </thead>\n",
       "  <tbody>\n",
       "    <tr>\n",
       "      <th>0</th>\n",
       "      <td>1</td>\n",
       "      <td>1</td>\n",
       "      <td>Chips and Fresh Tomato Salsa</td>\n",
       "      <td>NaN</td>\n",
       "      <td>$2.39</td>\n",
       "    </tr>\n",
       "    <tr>\n",
       "      <th>1</th>\n",
       "      <td>1</td>\n",
       "      <td>1</td>\n",
       "      <td>Izze</td>\n",
       "      <td>[Clementine]</td>\n",
       "      <td>$3.39</td>\n",
       "    </tr>\n",
       "    <tr>\n",
       "      <th>2</th>\n",
       "      <td>1</td>\n",
       "      <td>1</td>\n",
       "      <td>Nantucket Nectar</td>\n",
       "      <td>[Apple]</td>\n",
       "      <td>$3.39</td>\n",
       "    </tr>\n",
       "    <tr>\n",
       "      <th>3</th>\n",
       "      <td>1</td>\n",
       "      <td>1</td>\n",
       "      <td>Chips and Tomatillo-Green Chili Salsa</td>\n",
       "      <td>NaN</td>\n",
       "      <td>$2.39</td>\n",
       "    </tr>\n",
       "    <tr>\n",
       "      <th>4</th>\n",
       "      <td>2</td>\n",
       "      <td>2</td>\n",
       "      <td>Chicken Bowl</td>\n",
       "      <td>[Tomatillo-Red Chili Salsa (Hot), [Black Beans...</td>\n",
       "      <td>$16.98</td>\n",
       "    </tr>\n",
       "    <tr>\n",
       "      <th>...</th>\n",
       "      <td>...</td>\n",
       "      <td>...</td>\n",
       "      <td>...</td>\n",
       "      <td>...</td>\n",
       "      <td>...</td>\n",
       "    </tr>\n",
       "    <tr>\n",
       "      <th>4617</th>\n",
       "      <td>1833</td>\n",
       "      <td>1</td>\n",
       "      <td>Steak Burrito</td>\n",
       "      <td>[Fresh Tomato Salsa, [Rice, Black Beans, Sour ...</td>\n",
       "      <td>$11.75</td>\n",
       "    </tr>\n",
       "    <tr>\n",
       "      <th>4618</th>\n",
       "      <td>1833</td>\n",
       "      <td>1</td>\n",
       "      <td>Steak Burrito</td>\n",
       "      <td>[Fresh Tomato Salsa, [Rice, Sour Cream, Cheese...</td>\n",
       "      <td>$11.75</td>\n",
       "    </tr>\n",
       "    <tr>\n",
       "      <th>4619</th>\n",
       "      <td>1834</td>\n",
       "      <td>1</td>\n",
       "      <td>Chicken Salad Bowl</td>\n",
       "      <td>[Fresh Tomato Salsa, [Fajita Vegetables, Pinto...</td>\n",
       "      <td>$11.25</td>\n",
       "    </tr>\n",
       "    <tr>\n",
       "      <th>4620</th>\n",
       "      <td>1834</td>\n",
       "      <td>1</td>\n",
       "      <td>Chicken Salad Bowl</td>\n",
       "      <td>[Fresh Tomato Salsa, [Fajita Vegetables, Lettu...</td>\n",
       "      <td>$8.75</td>\n",
       "    </tr>\n",
       "    <tr>\n",
       "      <th>4621</th>\n",
       "      <td>1834</td>\n",
       "      <td>1</td>\n",
       "      <td>Chicken Salad Bowl</td>\n",
       "      <td>[Fresh Tomato Salsa, [Fajita Vegetables, Pinto...</td>\n",
       "      <td>$8.75</td>\n",
       "    </tr>\n",
       "  </tbody>\n",
       "</table>\n",
       "<p>4622 rows × 5 columns</p>\n",
       "</div>"
      ],
      "text/plain": [
       "      order_id  quantity                              item_name   \n",
       "0            1         1           Chips and Fresh Tomato Salsa  \\\n",
       "1            1         1                                   Izze   \n",
       "2            1         1                       Nantucket Nectar   \n",
       "3            1         1  Chips and Tomatillo-Green Chili Salsa   \n",
       "4            2         2                           Chicken Bowl   \n",
       "...        ...       ...                                    ...   \n",
       "4617      1833         1                          Steak Burrito   \n",
       "4618      1833         1                          Steak Burrito   \n",
       "4619      1834         1                     Chicken Salad Bowl   \n",
       "4620      1834         1                     Chicken Salad Bowl   \n",
       "4621      1834         1                     Chicken Salad Bowl   \n",
       "\n",
       "                                     choice_description item_price  \n",
       "0                                                   NaN     $2.39   \n",
       "1                                          [Clementine]     $3.39   \n",
       "2                                               [Apple]     $3.39   \n",
       "3                                                   NaN     $2.39   \n",
       "4     [Tomatillo-Red Chili Salsa (Hot), [Black Beans...    $16.98   \n",
       "...                                                 ...        ...  \n",
       "4617  [Fresh Tomato Salsa, [Rice, Black Beans, Sour ...    $11.75   \n",
       "4618  [Fresh Tomato Salsa, [Rice, Sour Cream, Cheese...    $11.75   \n",
       "4619  [Fresh Tomato Salsa, [Fajita Vegetables, Pinto...    $11.25   \n",
       "4620  [Fresh Tomato Salsa, [Fajita Vegetables, Lettu...     $8.75   \n",
       "4621  [Fresh Tomato Salsa, [Fajita Vegetables, Pinto...     $8.75   \n",
       "\n",
       "[4622 rows x 5 columns]"
      ]
     },
     "execution_count": 2,
     "metadata": {},
     "output_type": "execute_result"
    }
   ],
   "source": [
    "import pandas as pd\n",
    "\n",
    "dataPath = '../data/chipo.csv'\n",
    "\n",
    "df = pd.read_csv(dataPath)\n",
    "\n",
    "# df.to_csv('../data/chipo.csv')\n",
    "\n",
    "df"
   ]
  },
  {
   "attachments": {},
   "cell_type": "markdown",
   "id": "f830042e",
   "metadata": {},
   "source": [
    "Question 21\n",
    "\n",
    "quantity컬럼 값이 3인 데이터를 추출하여 첫 5행을 출력하라"
   ]
  },
  {
   "cell_type": "code",
   "execution_count": null,
   "id": "4599f442",
   "metadata": {
    "ExecuteTime": {
     "end_time": "2023-05-07T11:18:37.794196Z",
     "start_time": "2023-05-07T11:18:37.754197Z"
    }
   },
   "outputs": [],
   "source": [
    "isThree = df['quantity'] == 3\n",
    "\n",
    "three = df[isThree]\n",
    "\n",
    "three.head()\n",
    "\n",
    "# df.loc[df['quantity'] == 3]\n",
    "\n"
   ]
  },
  {
   "attachments": {},
   "cell_type": "markdown",
   "id": "8caf2c4c",
   "metadata": {},
   "source": [
    "Question 22\n",
    "\n",
    "quantity컬럼 값이 3인 데이터를 추출하여 index를 0부터 정렬하고 첫 5행을 출력하라"
   ]
  },
  {
   "cell_type": "code",
   "execution_count": null,
   "id": "9a0fac4a",
   "metadata": {
    "ExecuteTime": {
     "end_time": "2023-05-07T11:18:37.826195Z",
     "start_time": "2023-05-07T11:18:37.804198Z"
    }
   },
   "outputs": [],
   "source": [
    "isThree = df['quantity'] == 3\n",
    "\n",
    "three = df[isThree]\n",
    "\n",
    "three.reset_index(inplace=True)\n",
    "\n",
    "three"
   ]
  },
  {
   "attachments": {},
   "cell_type": "markdown",
   "id": "b4ada4a3",
   "metadata": {},
   "source": [
    "Question 23\n",
    "\n",
    "quantity , item_price 두개의 컬럼으로 구성된 새로운 데이터 프레임을 정의하라"
   ]
  },
  {
   "cell_type": "code",
   "execution_count": null,
   "id": "24b4f04b",
   "metadata": {
    "ExecuteTime": {
     "end_time": "2023-05-07T11:18:37.858195Z",
     "start_time": "2023-05-07T11:18:37.832202Z"
    }
   },
   "outputs": [],
   "source": [
    "newdf = df[['quantity', 'item_price']]\n",
    "\n",
    "newdf"
   ]
  },
  {
   "attachments": {},
   "cell_type": "markdown",
   "id": "cf1861dc",
   "metadata": {},
   "source": [
    "Question 24\n",
    "\n",
    "item_price 컬럼의 달러표시 문자를 제거하고 float 타입으로 저장하여 new_price 컬럼에 저장하라"
   ]
  },
  {
   "cell_type": "code",
   "execution_count": null,
   "id": "bcc69c8d",
   "metadata": {
    "ExecuteTime": {
     "end_time": "2023-05-07T11:18:37.890197Z",
     "start_time": "2023-05-07T11:18:37.862199Z"
    }
   },
   "outputs": [],
   "source": [
    "df['new_price'] = df['item_price'].str.replace('$', '')\n",
    "\n",
    "# dateFrame astype은 inplace가 안되고 변수에 다시 대입해줘야 한다.\n",
    "df = df.astype({'new_price' : 'float'})\n",
    "\n",
    "df.dtypes"
   ]
  },
  {
   "attachments": {},
   "cell_type": "markdown",
   "id": "cd0a8698",
   "metadata": {},
   "source": [
    "Question 25\n",
    "\n",
    "new_price 컬럼이 5이하의 값을 가지는 데이터프레임을 추출하고, 전체 갯수를 구하여라"
   ]
  },
  {
   "cell_type": "code",
   "execution_count": null,
   "id": "fe2b229f",
   "metadata": {
    "ExecuteTime": {
     "end_time": "2023-05-07T11:18:37.921199Z",
     "start_time": "2023-05-07T11:18:37.896199Z"
    }
   },
   "outputs": [],
   "source": [
    "isFive = df['new_price'] <= 5\n",
    "\n",
    "fiveValue = df[isFive]\n",
    "\n",
    "len(fiveValue)"
   ]
  },
  {
   "attachments": {},
   "cell_type": "markdown",
   "id": "ce96f656",
   "metadata": {},
   "source": [
    "Question 26\n",
    "\n",
    "item_name명이 Chicken Salad Bowl 인 데이터 프레임을 추출하라고 index 값을 초기화 하여라"
   ]
  },
  {
   "cell_type": "code",
   "execution_count": null,
   "id": "20fc7877",
   "metadata": {
    "ExecuteTime": {
     "end_time": "2023-05-07T11:18:37.953198Z",
     "start_time": "2023-05-07T11:18:37.926197Z"
    }
   },
   "outputs": [],
   "source": [
    "isChickenBowl = df['item_name'] == 'Chicken Salad Bowl'\n",
    "\n",
    "chickenBowl = df[isChickenBowl]\n",
    "\n",
    "chickenBowl.reset_index()"
   ]
  },
  {
   "attachments": {},
   "cell_type": "markdown",
   "id": "760764e6",
   "metadata": {},
   "source": [
    "Question 27\n",
    "\n",
    "new_price값이 9 이하이고 item_name 값이 Chicken Salad Bowl 인 데이터 프레임을 추출하라"
   ]
  },
  {
   "cell_type": "code",
   "execution_count": null,
   "id": "d22f5c59",
   "metadata": {
    "ExecuteTime": {
     "end_time": "2023-05-07T11:18:37.999195Z",
     "start_time": "2023-05-07T11:18:37.959197Z"
    }
   },
   "outputs": [],
   "source": [
    "# and 조건으로 비교하는 방법을 생각해 보자\n",
    "# isChickenBowl = df['item_name'] == 'Chicken Salad Bowl'\n",
    "\n",
    "# chickenBowl = df[isChickenBowl]\n",
    "\n",
    "# isChickenBowl9 = chickenBowl['new_price'] <= 9\n",
    "\n",
    "# chickenBowl9 = chickenBowl[isChickenBowl9]\n",
    "\n",
    "# chickenBowl9\n",
    "\n",
    "# 여러 컬럼의 값을 and, or 로 비교하려면 ()안에 조건식이 들어가야 된다\n",
    "# () 사용 안하면 에러 발생\n",
    "isChickenBowl = (df['item_name'] == 'Chicken Salad Bowl') & (df['new_price'] <= 9)\n",
    "\n",
    "chickenBowl = df[isChickenBowl]\n",
    "\n",
    "chickenBowl"
   ]
  },
  {
   "attachments": {},
   "cell_type": "markdown",
   "id": "d6f980d6",
   "metadata": {},
   "source": [
    "Question 28\n",
    "\n",
    "df의 new_price 컬럼 값에 따라 오름차순으로 정리하고 index를 초기화 하여라"
   ]
  },
  {
   "cell_type": "code",
   "execution_count": null,
   "id": "5bc3e4a3",
   "metadata": {
    "ExecuteTime": {
     "end_time": "2023-05-07T11:18:38.030196Z",
     "start_time": "2023-05-07T11:18:38.005200Z"
    }
   },
   "outputs": [],
   "source": [
    "# sort_Values(컬럼명, ascending = False) \n",
    "#ascending 이 False면 내림차순. 기본값은 오름차순\n",
    "df.sort_values('new_price')"
   ]
  },
  {
   "attachments": {},
   "cell_type": "markdown",
   "id": "08afa259",
   "metadata": {},
   "source": [
    "Question 29\n",
    "\n",
    "df의 item_name 컬럼 값중 Chips 포함하는 경우의 데이터를 출력하라"
   ]
  },
  {
   "cell_type": "code",
   "execution_count": null,
   "id": "c9f2a799",
   "metadata": {
    "ExecuteTime": {
     "end_time": "2023-05-07T11:18:38.078198Z",
     "start_time": "2023-05-07T11:18:38.041197Z"
    }
   },
   "outputs": [],
   "source": [
    "dataFilter = df['item_name'].str.contains('Chips')\n",
    "\n",
    "dataChips = df[dataFilter]\n",
    "\n",
    "dataChips"
   ]
  },
  {
   "attachments": {},
   "cell_type": "markdown",
   "id": "b82d51a7",
   "metadata": {},
   "source": [
    "Question 30\n",
    "\n",
    "df의 짝수번째 컬럼만을 포함하는 데이터프레임을 출력하라"
   ]
  },
  {
   "cell_type": "code",
   "execution_count": null,
   "id": "fe76830c",
   "metadata": {
    "ExecuteTime": {
     "end_time": "2023-05-07T11:18:38.110196Z",
     "start_time": "2023-05-07T11:18:38.083198Z"
    }
   },
   "outputs": [],
   "source": [
    "df.iloc[ : , ::2]"
   ]
  },
  {
   "attachments": {},
   "cell_type": "markdown",
   "id": "2430e865",
   "metadata": {},
   "source": [
    "Question 31\n",
    "\n",
    "df의 new_price 컬럼 값에 따라 내림차순으로 정리하고 index를 초기화 하여라"
   ]
  },
  {
   "cell_type": "code",
   "execution_count": null,
   "id": "a98fdd4d",
   "metadata": {
    "ExecuteTime": {
     "end_time": "2023-05-07T11:18:38.142197Z",
     "start_time": "2023-05-07T11:18:38.115201Z"
    }
   },
   "outputs": [],
   "source": [
    "df.sort_values('new_price', ascending=False).reset_index()"
   ]
  },
  {
   "attachments": {},
   "cell_type": "markdown",
   "id": "bef1f369",
   "metadata": {},
   "source": [
    "Question 32\n",
    "\n",
    "df의 item_name 컬럼 값이 Steak Salad 또는 Bowl 인 데이터를 인덱싱하라"
   ]
  },
  {
   "cell_type": "code",
   "execution_count": null,
   "id": "5c5bf601",
   "metadata": {
    "ExecuteTime": {
     "end_time": "2023-05-07T11:18:38.190199Z",
     "start_time": "2023-05-07T11:18:38.147199Z"
    }
   },
   "outputs": [],
   "source": [
    "df[(df['item_name'] == 'Steak Salad') | (df['item_name'] == 'Bowl')]"
   ]
  },
  {
   "attachments": {},
   "cell_type": "markdown",
   "id": "a77fe48f",
   "metadata": {},
   "source": [
    "Question 33\n",
    "\n",
    "df의 item_name 컬럼 값이 Steak Salad 또는 Bowl 인 데이터를 데이터 프레임화 한 후, item_name를 기준으로 중복행이 있으면 제거하되 첫번째 케이스만 남겨라"
   ]
  },
  {
   "cell_type": "code",
   "execution_count": null,
   "id": "a507da23",
   "metadata": {
    "ExecuteTime": {
     "end_time": "2023-05-07T11:18:38.222201Z",
     "start_time": "2023-05-07T11:18:38.194197Z"
    }
   },
   "outputs": [],
   "source": [
    "# DataFrame 에서 비교 연산자는 and, or, not으로 사용 하면 안되고 &, |, ~ 이렇게 사용 해야 된다.\n",
    "\n",
    "isnewdf = (df['item_name'] == 'Steak Salad') | (df['item_name'] == 'Bowl')\n",
    "\n",
    "newdf = df[isnewdf]\n",
    "\n",
    "# newdf['item_name'].unique()\n",
    "\n",
    "newdf.drop_duplicates('item_name')"
   ]
  },
  {
   "attachments": {},
   "cell_type": "markdown",
   "id": "b03aaa9d",
   "metadata": {},
   "source": [
    "Question 34\n",
    "\n",
    "df의 item_name 컬럼 값이 Steak Salad 또는 Bowl 인 데이터를 데이터 프레임화 한 후, item_name를 기준으로 중복행이 있으면 제거하되 마지막 케이스만 남겨라"
   ]
  },
  {
   "cell_type": "code",
   "execution_count": null,
   "id": "579bd4a9",
   "metadata": {
    "ExecuteTime": {
     "end_time": "2023-05-07T11:18:38.268198Z",
     "start_time": "2023-05-07T11:18:38.235200Z"
    }
   },
   "outputs": [],
   "source": [
    "isnewdf = (df['item_name'] == 'Steak Salad') | (df['item_name'] == 'Bowl')\n",
    "\n",
    "newdf = df[isnewdf]\n",
    "\n",
    "newdf.drop_duplicates('item_name', keep = 'last')"
   ]
  },
  {
   "attachments": {},
   "cell_type": "markdown",
   "id": "c1a2797f",
   "metadata": {},
   "source": [
    "Question 35\n",
    "\n",
    "df의 데이터 중 new_price값이 new_price값의 평균값 이상을 가지는 데이터들을 인덱싱하라"
   ]
  },
  {
   "cell_type": "code",
   "execution_count": null,
   "id": "3d91955b",
   "metadata": {
    "ExecuteTime": {
     "end_time": "2023-05-07T11:18:38.314200Z",
     "start_time": "2023-05-07T11:18:38.274197Z"
    }
   },
   "outputs": [],
   "source": [
    "df.loc[df.new_price >= df.new_price.mean()]"
   ]
  },
  {
   "attachments": {},
   "cell_type": "markdown",
   "id": "5a6d7bed",
   "metadata": {},
   "source": [
    "Question 36\n",
    "\n",
    "df의 데이터 중 item_name의 값이 Izze 데이터를 Fizzy Lizzy로 수정하라"
   ]
  },
  {
   "cell_type": "code",
   "execution_count": 5,
   "id": "c72076af",
   "metadata": {
    "ExecuteTime": {
     "end_time": "2023-05-07T11:18:38.345201Z",
     "start_time": "2023-05-07T11:18:38.320202Z"
    }
   },
   "outputs": [
    {
     "data": {
      "text/html": [
       "<div>\n",
       "<style scoped>\n",
       "    .dataframe tbody tr th:only-of-type {\n",
       "        vertical-align: middle;\n",
       "    }\n",
       "\n",
       "    .dataframe tbody tr th {\n",
       "        vertical-align: top;\n",
       "    }\n",
       "\n",
       "    .dataframe thead th {\n",
       "        text-align: right;\n",
       "    }\n",
       "</style>\n",
       "<table border=\"1\" class=\"dataframe\">\n",
       "  <thead>\n",
       "    <tr style=\"text-align: right;\">\n",
       "      <th></th>\n",
       "      <th>order_id</th>\n",
       "      <th>quantity</th>\n",
       "      <th>item_name</th>\n",
       "      <th>choice_description</th>\n",
       "      <th>item_price</th>\n",
       "    </tr>\n",
       "  </thead>\n",
       "  <tbody>\n",
       "    <tr>\n",
       "      <th>0</th>\n",
       "      <td>1</td>\n",
       "      <td>1</td>\n",
       "      <td>Chips and Fresh Tomato Salsa</td>\n",
       "      <td>NoData</td>\n",
       "      <td>$2.39</td>\n",
       "    </tr>\n",
       "    <tr>\n",
       "      <th>1</th>\n",
       "      <td>1</td>\n",
       "      <td>1</td>\n",
       "      <td>Fizzy Lizzy</td>\n",
       "      <td>[Clementine]</td>\n",
       "      <td>$3.39</td>\n",
       "    </tr>\n",
       "    <tr>\n",
       "      <th>2</th>\n",
       "      <td>1</td>\n",
       "      <td>1</td>\n",
       "      <td>Nantucket Nectar</td>\n",
       "      <td>[Apple]</td>\n",
       "      <td>$3.39</td>\n",
       "    </tr>\n",
       "    <tr>\n",
       "      <th>3</th>\n",
       "      <td>1</td>\n",
       "      <td>1</td>\n",
       "      <td>Chips and Tomatillo-Green Chili Salsa</td>\n",
       "      <td>NoData</td>\n",
       "      <td>$2.39</td>\n",
       "    </tr>\n",
       "    <tr>\n",
       "      <th>4</th>\n",
       "      <td>2</td>\n",
       "      <td>2</td>\n",
       "      <td>Chicken Bowl</td>\n",
       "      <td>[Tomatillo-Red Chili Salsa (Hot), [Black Beans...</td>\n",
       "      <td>$16.98</td>\n",
       "    </tr>\n",
       "    <tr>\n",
       "      <th>...</th>\n",
       "      <td>...</td>\n",
       "      <td>...</td>\n",
       "      <td>...</td>\n",
       "      <td>...</td>\n",
       "      <td>...</td>\n",
       "    </tr>\n",
       "    <tr>\n",
       "      <th>4617</th>\n",
       "      <td>1833</td>\n",
       "      <td>1</td>\n",
       "      <td>Steak Burrito</td>\n",
       "      <td>[Fresh Tomato Salsa, [Rice, Black Beans, Sour ...</td>\n",
       "      <td>$11.75</td>\n",
       "    </tr>\n",
       "    <tr>\n",
       "      <th>4618</th>\n",
       "      <td>1833</td>\n",
       "      <td>1</td>\n",
       "      <td>Steak Burrito</td>\n",
       "      <td>[Fresh Tomato Salsa, [Rice, Sour Cream, Cheese...</td>\n",
       "      <td>$11.75</td>\n",
       "    </tr>\n",
       "    <tr>\n",
       "      <th>4619</th>\n",
       "      <td>1834</td>\n",
       "      <td>1</td>\n",
       "      <td>Chicken Salad Bowl</td>\n",
       "      <td>[Fresh Tomato Salsa, [Fajita Vegetables, Pinto...</td>\n",
       "      <td>$11.25</td>\n",
       "    </tr>\n",
       "    <tr>\n",
       "      <th>4620</th>\n",
       "      <td>1834</td>\n",
       "      <td>1</td>\n",
       "      <td>Chicken Salad Bowl</td>\n",
       "      <td>[Fresh Tomato Salsa, [Fajita Vegetables, Lettu...</td>\n",
       "      <td>$8.75</td>\n",
       "    </tr>\n",
       "    <tr>\n",
       "      <th>4621</th>\n",
       "      <td>1834</td>\n",
       "      <td>1</td>\n",
       "      <td>Chicken Salad Bowl</td>\n",
       "      <td>[Fresh Tomato Salsa, [Fajita Vegetables, Pinto...</td>\n",
       "      <td>$8.75</td>\n",
       "    </tr>\n",
       "  </tbody>\n",
       "</table>\n",
       "<p>4622 rows × 5 columns</p>\n",
       "</div>"
      ],
      "text/plain": [
       "      order_id  quantity                              item_name   \n",
       "0            1         1           Chips and Fresh Tomato Salsa  \\\n",
       "1            1         1                            Fizzy Lizzy   \n",
       "2            1         1                       Nantucket Nectar   \n",
       "3            1         1  Chips and Tomatillo-Green Chili Salsa   \n",
       "4            2         2                           Chicken Bowl   \n",
       "...        ...       ...                                    ...   \n",
       "4617      1833         1                          Steak Burrito   \n",
       "4618      1833         1                          Steak Burrito   \n",
       "4619      1834         1                     Chicken Salad Bowl   \n",
       "4620      1834         1                     Chicken Salad Bowl   \n",
       "4621      1834         1                     Chicken Salad Bowl   \n",
       "\n",
       "                                     choice_description item_price  \n",
       "0                                                NoData     $2.39   \n",
       "1                                          [Clementine]     $3.39   \n",
       "2                                               [Apple]     $3.39   \n",
       "3                                                NoData     $2.39   \n",
       "4     [Tomatillo-Red Chili Salsa (Hot), [Black Beans...    $16.98   \n",
       "...                                                 ...        ...  \n",
       "4617  [Fresh Tomato Salsa, [Rice, Black Beans, Sour ...    $11.75   \n",
       "4618  [Fresh Tomato Salsa, [Rice, Sour Cream, Cheese...    $11.75   \n",
       "4619  [Fresh Tomato Salsa, [Fajita Vegetables, Pinto...    $11.25   \n",
       "4620  [Fresh Tomato Salsa, [Fajita Vegetables, Lettu...     $8.75   \n",
       "4621  [Fresh Tomato Salsa, [Fajita Vegetables, Pinto...     $8.75   \n",
       "\n",
       "[4622 rows x 5 columns]"
      ]
     },
     "execution_count": 5,
     "metadata": {},
     "output_type": "execute_result"
    }
   ],
   "source": [
    "df.loc[df.item_name == 'Izze', 'item_name'] = 'Fizzy Lizzy'\n",
    "\n",
    "df"
   ]
  },
  {
   "attachments": {},
   "cell_type": "markdown",
   "id": "59e5e211",
   "metadata": {},
   "source": [
    "Question 37\n",
    "\n",
    "df의 데이터 중 choice_description 값이 NaN 인 데이터의 갯수를 구하여라"
   ]
  },
  {
   "cell_type": "code",
   "execution_count": 9,
   "id": "79e0d13c",
   "metadata": {
    "ExecuteTime": {
     "end_time": "2023-05-07T11:18:38.377196Z",
     "start_time": "2023-05-07T11:18:38.349197Z"
    }
   },
   "outputs": [
    {
     "data": {
      "text/plain": [
       "0"
      ]
     },
     "execution_count": 9,
     "metadata": {},
     "output_type": "execute_result"
    }
   ],
   "source": [
    "df.choice_description.isnull().sum()"
   ]
  },
  {
   "attachments": {},
   "cell_type": "markdown",
   "id": "b2f24ead",
   "metadata": {},
   "source": [
    "Question 38\n",
    "\n",
    "df의 데이터 중 choice_description 값이 NaN 인 데이터를 NoData 값으로 대체하라(loc 이용)"
   ]
  },
  {
   "cell_type": "code",
   "execution_count": 3,
   "id": "dcd955ef",
   "metadata": {
    "ExecuteTime": {
     "end_time": "2023-05-07T11:19:19.122840Z",
     "start_time": "2023-05-07T11:19:19.099839Z"
    }
   },
   "outputs": [
    {
     "data": {
      "text/html": [
       "<div>\n",
       "<style scoped>\n",
       "    .dataframe tbody tr th:only-of-type {\n",
       "        vertical-align: middle;\n",
       "    }\n",
       "\n",
       "    .dataframe tbody tr th {\n",
       "        vertical-align: top;\n",
       "    }\n",
       "\n",
       "    .dataframe thead th {\n",
       "        text-align: right;\n",
       "    }\n",
       "</style>\n",
       "<table border=\"1\" class=\"dataframe\">\n",
       "  <thead>\n",
       "    <tr style=\"text-align: right;\">\n",
       "      <th></th>\n",
       "      <th>order_id</th>\n",
       "      <th>quantity</th>\n",
       "      <th>item_name</th>\n",
       "      <th>choice_description</th>\n",
       "      <th>item_price</th>\n",
       "    </tr>\n",
       "  </thead>\n",
       "  <tbody>\n",
       "    <tr>\n",
       "      <th>0</th>\n",
       "      <td>1</td>\n",
       "      <td>1</td>\n",
       "      <td>Chips and Fresh Tomato Salsa</td>\n",
       "      <td>NoData</td>\n",
       "      <td>$2.39</td>\n",
       "    </tr>\n",
       "    <tr>\n",
       "      <th>1</th>\n",
       "      <td>1</td>\n",
       "      <td>1</td>\n",
       "      <td>Izze</td>\n",
       "      <td>[Clementine]</td>\n",
       "      <td>$3.39</td>\n",
       "    </tr>\n",
       "    <tr>\n",
       "      <th>2</th>\n",
       "      <td>1</td>\n",
       "      <td>1</td>\n",
       "      <td>Nantucket Nectar</td>\n",
       "      <td>[Apple]</td>\n",
       "      <td>$3.39</td>\n",
       "    </tr>\n",
       "    <tr>\n",
       "      <th>3</th>\n",
       "      <td>1</td>\n",
       "      <td>1</td>\n",
       "      <td>Chips and Tomatillo-Green Chili Salsa</td>\n",
       "      <td>NoData</td>\n",
       "      <td>$2.39</td>\n",
       "    </tr>\n",
       "    <tr>\n",
       "      <th>4</th>\n",
       "      <td>2</td>\n",
       "      <td>2</td>\n",
       "      <td>Chicken Bowl</td>\n",
       "      <td>[Tomatillo-Red Chili Salsa (Hot), [Black Beans...</td>\n",
       "      <td>$16.98</td>\n",
       "    </tr>\n",
       "    <tr>\n",
       "      <th>...</th>\n",
       "      <td>...</td>\n",
       "      <td>...</td>\n",
       "      <td>...</td>\n",
       "      <td>...</td>\n",
       "      <td>...</td>\n",
       "    </tr>\n",
       "    <tr>\n",
       "      <th>4617</th>\n",
       "      <td>1833</td>\n",
       "      <td>1</td>\n",
       "      <td>Steak Burrito</td>\n",
       "      <td>[Fresh Tomato Salsa, [Rice, Black Beans, Sour ...</td>\n",
       "      <td>$11.75</td>\n",
       "    </tr>\n",
       "    <tr>\n",
       "      <th>4618</th>\n",
       "      <td>1833</td>\n",
       "      <td>1</td>\n",
       "      <td>Steak Burrito</td>\n",
       "      <td>[Fresh Tomato Salsa, [Rice, Sour Cream, Cheese...</td>\n",
       "      <td>$11.75</td>\n",
       "    </tr>\n",
       "    <tr>\n",
       "      <th>4619</th>\n",
       "      <td>1834</td>\n",
       "      <td>1</td>\n",
       "      <td>Chicken Salad Bowl</td>\n",
       "      <td>[Fresh Tomato Salsa, [Fajita Vegetables, Pinto...</td>\n",
       "      <td>$11.25</td>\n",
       "    </tr>\n",
       "    <tr>\n",
       "      <th>4620</th>\n",
       "      <td>1834</td>\n",
       "      <td>1</td>\n",
       "      <td>Chicken Salad Bowl</td>\n",
       "      <td>[Fresh Tomato Salsa, [Fajita Vegetables, Lettu...</td>\n",
       "      <td>$8.75</td>\n",
       "    </tr>\n",
       "    <tr>\n",
       "      <th>4621</th>\n",
       "      <td>1834</td>\n",
       "      <td>1</td>\n",
       "      <td>Chicken Salad Bowl</td>\n",
       "      <td>[Fresh Tomato Salsa, [Fajita Vegetables, Pinto...</td>\n",
       "      <td>$8.75</td>\n",
       "    </tr>\n",
       "  </tbody>\n",
       "</table>\n",
       "<p>4622 rows × 5 columns</p>\n",
       "</div>"
      ],
      "text/plain": [
       "      order_id  quantity                              item_name   \n",
       "0            1         1           Chips and Fresh Tomato Salsa  \\\n",
       "1            1         1                                   Izze   \n",
       "2            1         1                       Nantucket Nectar   \n",
       "3            1         1  Chips and Tomatillo-Green Chili Salsa   \n",
       "4            2         2                           Chicken Bowl   \n",
       "...        ...       ...                                    ...   \n",
       "4617      1833         1                          Steak Burrito   \n",
       "4618      1833         1                          Steak Burrito   \n",
       "4619      1834         1                     Chicken Salad Bowl   \n",
       "4620      1834         1                     Chicken Salad Bowl   \n",
       "4621      1834         1                     Chicken Salad Bowl   \n",
       "\n",
       "                                     choice_description item_price  \n",
       "0                                                NoData     $2.39   \n",
       "1                                          [Clementine]     $3.39   \n",
       "2                                               [Apple]     $3.39   \n",
       "3                                                NoData     $2.39   \n",
       "4     [Tomatillo-Red Chili Salsa (Hot), [Black Beans...    $16.98   \n",
       "...                                                 ...        ...  \n",
       "4617  [Fresh Tomato Salsa, [Rice, Black Beans, Sour ...    $11.75   \n",
       "4618  [Fresh Tomato Salsa, [Rice, Sour Cream, Cheese...    $11.75   \n",
       "4619  [Fresh Tomato Salsa, [Fajita Vegetables, Pinto...    $11.25   \n",
       "4620  [Fresh Tomato Salsa, [Fajita Vegetables, Lettu...     $8.75   \n",
       "4621  [Fresh Tomato Salsa, [Fajita Vegetables, Pinto...     $8.75   \n",
       "\n",
       "[4622 rows x 5 columns]"
      ]
     },
     "execution_count": 3,
     "metadata": {},
     "output_type": "execute_result"
    }
   ],
   "source": [
    "df.loc[df.choice_description.isnull(), 'choice_description'] = 'NoData'\n",
    "\n",
    "df\n",
    "\n"
   ]
  },
  {
   "attachments": {},
   "cell_type": "markdown",
   "id": "08a8dcb4",
   "metadata": {},
   "source": [
    "Question 39\n",
    "\n",
    "df의 데이터 중 choice_description 값에 Black이 들어가는 경우를 인덱싱하라"
   ]
  },
  {
   "cell_type": "code",
   "execution_count": 6,
   "id": "be521e50",
   "metadata": {
    "ExecuteTime": {
     "end_time": "2023-05-07T11:20:11.869234Z",
     "start_time": "2023-05-07T11:20:11.837240Z"
    }
   },
   "outputs": [
    {
     "data": {
      "text/html": [
       "<div>\n",
       "<style scoped>\n",
       "    .dataframe tbody tr th:only-of-type {\n",
       "        vertical-align: middle;\n",
       "    }\n",
       "\n",
       "    .dataframe tbody tr th {\n",
       "        vertical-align: top;\n",
       "    }\n",
       "\n",
       "    .dataframe thead th {\n",
       "        text-align: right;\n",
       "    }\n",
       "</style>\n",
       "<table border=\"1\" class=\"dataframe\">\n",
       "  <thead>\n",
       "    <tr style=\"text-align: right;\">\n",
       "      <th></th>\n",
       "      <th>order_id</th>\n",
       "      <th>quantity</th>\n",
       "      <th>item_name</th>\n",
       "      <th>choice_description</th>\n",
       "      <th>item_price</th>\n",
       "    </tr>\n",
       "  </thead>\n",
       "  <tbody>\n",
       "    <tr>\n",
       "      <th>4</th>\n",
       "      <td>2</td>\n",
       "      <td>2</td>\n",
       "      <td>Chicken Bowl</td>\n",
       "      <td>[Tomatillo-Red Chili Salsa (Hot), [Black Beans...</td>\n",
       "      <td>$16.98</td>\n",
       "    </tr>\n",
       "    <tr>\n",
       "      <th>7</th>\n",
       "      <td>4</td>\n",
       "      <td>1</td>\n",
       "      <td>Steak Burrito</td>\n",
       "      <td>[Tomatillo Red Chili Salsa, [Fajita Vegetables...</td>\n",
       "      <td>$11.75</td>\n",
       "    </tr>\n",
       "    <tr>\n",
       "      <th>9</th>\n",
       "      <td>5</td>\n",
       "      <td>1</td>\n",
       "      <td>Steak Burrito</td>\n",
       "      <td>[Fresh Tomato Salsa, [Rice, Black Beans, Pinto...</td>\n",
       "      <td>$9.25</td>\n",
       "    </tr>\n",
       "    <tr>\n",
       "      <th>11</th>\n",
       "      <td>6</td>\n",
       "      <td>1</td>\n",
       "      <td>Chicken Crispy Tacos</td>\n",
       "      <td>[Roasted Chili Corn Salsa, [Fajita Vegetables,...</td>\n",
       "      <td>$8.75</td>\n",
       "    </tr>\n",
       "    <tr>\n",
       "      <th>12</th>\n",
       "      <td>6</td>\n",
       "      <td>1</td>\n",
       "      <td>Chicken Soft Tacos</td>\n",
       "      <td>[Roasted Chili Corn Salsa, [Rice, Black Beans,...</td>\n",
       "      <td>$8.75</td>\n",
       "    </tr>\n",
       "    <tr>\n",
       "      <th>...</th>\n",
       "      <td>...</td>\n",
       "      <td>...</td>\n",
       "      <td>...</td>\n",
       "      <td>...</td>\n",
       "      <td>...</td>\n",
       "    </tr>\n",
       "    <tr>\n",
       "      <th>4604</th>\n",
       "      <td>1828</td>\n",
       "      <td>1</td>\n",
       "      <td>Chicken Bowl</td>\n",
       "      <td>[Fresh Tomato Salsa, [Rice, Black Beans, Chees...</td>\n",
       "      <td>$8.75</td>\n",
       "    </tr>\n",
       "    <tr>\n",
       "      <th>4608</th>\n",
       "      <td>1829</td>\n",
       "      <td>1</td>\n",
       "      <td>Veggie Burrito</td>\n",
       "      <td>[Tomatillo Red Chili Salsa, [Fajita Vegetables...</td>\n",
       "      <td>$11.25</td>\n",
       "    </tr>\n",
       "    <tr>\n",
       "      <th>4611</th>\n",
       "      <td>1830</td>\n",
       "      <td>1</td>\n",
       "      <td>Veggie Burrito</td>\n",
       "      <td>[Tomatillo Green Chili Salsa, [Rice, Fajita Ve...</td>\n",
       "      <td>$11.25</td>\n",
       "    </tr>\n",
       "    <tr>\n",
       "      <th>4612</th>\n",
       "      <td>1831</td>\n",
       "      <td>1</td>\n",
       "      <td>Carnitas Bowl</td>\n",
       "      <td>[Fresh Tomato Salsa, [Fajita Vegetables, Rice,...</td>\n",
       "      <td>$9.25</td>\n",
       "    </tr>\n",
       "    <tr>\n",
       "      <th>4617</th>\n",
       "      <td>1833</td>\n",
       "      <td>1</td>\n",
       "      <td>Steak Burrito</td>\n",
       "      <td>[Fresh Tomato Salsa, [Rice, Black Beans, Sour ...</td>\n",
       "      <td>$11.75</td>\n",
       "    </tr>\n",
       "  </tbody>\n",
       "</table>\n",
       "<p>1353 rows × 5 columns</p>\n",
       "</div>"
      ],
      "text/plain": [
       "      order_id  quantity             item_name   \n",
       "4            2         2          Chicken Bowl  \\\n",
       "7            4         1         Steak Burrito   \n",
       "9            5         1         Steak Burrito   \n",
       "11           6         1  Chicken Crispy Tacos   \n",
       "12           6         1    Chicken Soft Tacos   \n",
       "...        ...       ...                   ...   \n",
       "4604      1828         1          Chicken Bowl   \n",
       "4608      1829         1        Veggie Burrito   \n",
       "4611      1830         1        Veggie Burrito   \n",
       "4612      1831         1         Carnitas Bowl   \n",
       "4617      1833         1         Steak Burrito   \n",
       "\n",
       "                                     choice_description item_price  \n",
       "4     [Tomatillo-Red Chili Salsa (Hot), [Black Beans...    $16.98   \n",
       "7     [Tomatillo Red Chili Salsa, [Fajita Vegetables...    $11.75   \n",
       "9     [Fresh Tomato Salsa, [Rice, Black Beans, Pinto...     $9.25   \n",
       "11    [Roasted Chili Corn Salsa, [Fajita Vegetables,...     $8.75   \n",
       "12    [Roasted Chili Corn Salsa, [Rice, Black Beans,...     $8.75   \n",
       "...                                                 ...        ...  \n",
       "4604  [Fresh Tomato Salsa, [Rice, Black Beans, Chees...     $8.75   \n",
       "4608  [Tomatillo Red Chili Salsa, [Fajita Vegetables...    $11.25   \n",
       "4611  [Tomatillo Green Chili Salsa, [Rice, Fajita Ve...    $11.25   \n",
       "4612  [Fresh Tomato Salsa, [Fajita Vegetables, Rice,...     $9.25   \n",
       "4617  [Fresh Tomato Salsa, [Rice, Black Beans, Sour ...    $11.75   \n",
       "\n",
       "[1353 rows x 5 columns]"
      ]
     },
     "execution_count": 6,
     "metadata": {},
     "output_type": "execute_result"
    }
   ],
   "source": [
    "df.loc[df['choice_description'].str.contains('Black')]"
   ]
  },
  {
   "attachments": {},
   "cell_type": "markdown",
   "id": "17da05e3",
   "metadata": {},
   "source": [
    "Question 40\n",
    "\n",
    "df의 데이터 중 choice_description 값에 Vegetables 들어가지 않는 경우의 갯수를 출력하라"
   ]
  },
  {
   "cell_type": "code",
   "execution_count": 10,
   "id": "75d7844d",
   "metadata": {
    "ExecuteTime": {
     "end_time": "2023-05-07T11:20:29.148106Z",
     "start_time": "2023-05-07T11:20:29.124058Z"
    }
   },
   "outputs": [
    {
     "data": {
      "text/plain": [
       "3900"
      ]
     },
     "execution_count": 10,
     "metadata": {},
     "output_type": "execute_result"
    }
   ],
   "source": [
    "len(df.loc[~(df['choice_description'].str.contains('Vegetables'))])"
   ]
  },
  {
   "attachments": {},
   "cell_type": "markdown",
   "id": "61045fee",
   "metadata": {},
   "source": [
    "Question 41\n",
    "\n",
    "df의 데이터 중 item_name 값이 N으로 시작하는 데이터를 모두 추출하라"
   ]
  },
  {
   "cell_type": "code",
   "execution_count": 11,
   "id": "2d12f63e",
   "metadata": {
    "ExecuteTime": {
     "end_time": "2023-05-07T11:20:49.847908Z",
     "start_time": "2023-05-07T11:20:49.819937Z"
    }
   },
   "outputs": [
    {
     "data": {
      "text/html": [
       "<div>\n",
       "<style scoped>\n",
       "    .dataframe tbody tr th:only-of-type {\n",
       "        vertical-align: middle;\n",
       "    }\n",
       "\n",
       "    .dataframe tbody tr th {\n",
       "        vertical-align: top;\n",
       "    }\n",
       "\n",
       "    .dataframe thead th {\n",
       "        text-align: right;\n",
       "    }\n",
       "</style>\n",
       "<table border=\"1\" class=\"dataframe\">\n",
       "  <thead>\n",
       "    <tr style=\"text-align: right;\">\n",
       "      <th></th>\n",
       "      <th>order_id</th>\n",
       "      <th>quantity</th>\n",
       "      <th>item_name</th>\n",
       "      <th>choice_description</th>\n",
       "      <th>item_price</th>\n",
       "    </tr>\n",
       "  </thead>\n",
       "  <tbody>\n",
       "    <tr>\n",
       "      <th>2</th>\n",
       "      <td>1</td>\n",
       "      <td>1</td>\n",
       "      <td>Nantucket Nectar</td>\n",
       "      <td>[Apple]</td>\n",
       "      <td>$3.39</td>\n",
       "    </tr>\n",
       "    <tr>\n",
       "      <th>22</th>\n",
       "      <td>11</td>\n",
       "      <td>1</td>\n",
       "      <td>Nantucket Nectar</td>\n",
       "      <td>[Pomegranate Cherry]</td>\n",
       "      <td>$3.39</td>\n",
       "    </tr>\n",
       "    <tr>\n",
       "      <th>105</th>\n",
       "      <td>46</td>\n",
       "      <td>1</td>\n",
       "      <td>Nantucket Nectar</td>\n",
       "      <td>[Pineapple Orange Banana]</td>\n",
       "      <td>$3.39</td>\n",
       "    </tr>\n",
       "    <tr>\n",
       "      <th>173</th>\n",
       "      <td>77</td>\n",
       "      <td>1</td>\n",
       "      <td>Nantucket Nectar</td>\n",
       "      <td>[Apple]</td>\n",
       "      <td>$3.39</td>\n",
       "    </tr>\n",
       "    <tr>\n",
       "      <th>205</th>\n",
       "      <td>91</td>\n",
       "      <td>1</td>\n",
       "      <td>Nantucket Nectar</td>\n",
       "      <td>[Peach Orange]</td>\n",
       "      <td>$3.39</td>\n",
       "    </tr>\n",
       "    <tr>\n",
       "      <th>436</th>\n",
       "      <td>189</td>\n",
       "      <td>1</td>\n",
       "      <td>Nantucket Nectar</td>\n",
       "      <td>[Pomegranate Cherry]</td>\n",
       "      <td>$3.39</td>\n",
       "    </tr>\n",
       "    <tr>\n",
       "      <th>601</th>\n",
       "      <td>247</td>\n",
       "      <td>2</td>\n",
       "      <td>Nantucket Nectar</td>\n",
       "      <td>[Pineapple Orange Banana]</td>\n",
       "      <td>$6.78</td>\n",
       "    </tr>\n",
       "    <tr>\n",
       "      <th>925</th>\n",
       "      <td>381</td>\n",
       "      <td>1</td>\n",
       "      <td>Nantucket Nectar</td>\n",
       "      <td>[Pomegranate Cherry]</td>\n",
       "      <td>$3.39</td>\n",
       "    </tr>\n",
       "    <tr>\n",
       "      <th>1356</th>\n",
       "      <td>553</td>\n",
       "      <td>1</td>\n",
       "      <td>Nantucket Nectar</td>\n",
       "      <td>[Pomegranate Cherry]</td>\n",
       "      <td>$3.39</td>\n",
       "    </tr>\n",
       "    <tr>\n",
       "      <th>1585</th>\n",
       "      <td>641</td>\n",
       "      <td>1</td>\n",
       "      <td>Nantucket Nectar</td>\n",
       "      <td>[Peach Orange]</td>\n",
       "      <td>$3.39</td>\n",
       "    </tr>\n",
       "    <tr>\n",
       "      <th>1626</th>\n",
       "      <td>656</td>\n",
       "      <td>1</td>\n",
       "      <td>Nantucket Nectar</td>\n",
       "      <td>[Pineapple Orange Banana]</td>\n",
       "      <td>$3.39</td>\n",
       "    </tr>\n",
       "    <tr>\n",
       "      <th>1706</th>\n",
       "      <td>690</td>\n",
       "      <td>1</td>\n",
       "      <td>Nantucket Nectar</td>\n",
       "      <td>[Apple]</td>\n",
       "      <td>$3.39</td>\n",
       "    </tr>\n",
       "    <tr>\n",
       "      <th>2162</th>\n",
       "      <td>872</td>\n",
       "      <td>1</td>\n",
       "      <td>Nantucket Nectar</td>\n",
       "      <td>[Pineapple Orange Banana]</td>\n",
       "      <td>$3.39</td>\n",
       "    </tr>\n",
       "    <tr>\n",
       "      <th>2379</th>\n",
       "      <td>947</td>\n",
       "      <td>2</td>\n",
       "      <td>Nantucket Nectar</td>\n",
       "      <td>[Peach Orange]</td>\n",
       "      <td>$6.78</td>\n",
       "    </tr>\n",
       "    <tr>\n",
       "      <th>2381</th>\n",
       "      <td>947</td>\n",
       "      <td>1</td>\n",
       "      <td>Nantucket Nectar</td>\n",
       "      <td>[Apple]</td>\n",
       "      <td>$3.39</td>\n",
       "    </tr>\n",
       "    <tr>\n",
       "      <th>2430</th>\n",
       "      <td>965</td>\n",
       "      <td>1</td>\n",
       "      <td>Nantucket Nectar</td>\n",
       "      <td>[Pomegranate Cherry]</td>\n",
       "      <td>$3.39</td>\n",
       "    </tr>\n",
       "    <tr>\n",
       "      <th>2653</th>\n",
       "      <td>1053</td>\n",
       "      <td>1</td>\n",
       "      <td>Nantucket Nectar</td>\n",
       "      <td>[Pineapple Orange Banana]</td>\n",
       "      <td>$3.39</td>\n",
       "    </tr>\n",
       "    <tr>\n",
       "      <th>2818</th>\n",
       "      <td>1118</td>\n",
       "      <td>1</td>\n",
       "      <td>Nantucket Nectar</td>\n",
       "      <td>[Apple]</td>\n",
       "      <td>$3.39</td>\n",
       "    </tr>\n",
       "    <tr>\n",
       "      <th>2838</th>\n",
       "      <td>1128</td>\n",
       "      <td>1</td>\n",
       "      <td>Nantucket Nectar</td>\n",
       "      <td>[Peach Orange]</td>\n",
       "      <td>$3.39</td>\n",
       "    </tr>\n",
       "    <tr>\n",
       "      <th>2853</th>\n",
       "      <td>1133</td>\n",
       "      <td>1</td>\n",
       "      <td>Nantucket Nectar</td>\n",
       "      <td>[Apple]</td>\n",
       "      <td>$3.39</td>\n",
       "    </tr>\n",
       "    <tr>\n",
       "      <th>2949</th>\n",
       "      <td>1172</td>\n",
       "      <td>1</td>\n",
       "      <td>Nantucket Nectar</td>\n",
       "      <td>[Peach Orange]</td>\n",
       "      <td>$3.39</td>\n",
       "    </tr>\n",
       "    <tr>\n",
       "      <th>3318</th>\n",
       "      <td>1330</td>\n",
       "      <td>1</td>\n",
       "      <td>Nantucket Nectar</td>\n",
       "      <td>[Peach Orange]</td>\n",
       "      <td>$3.39</td>\n",
       "    </tr>\n",
       "    <tr>\n",
       "      <th>3368</th>\n",
       "      <td>1351</td>\n",
       "      <td>1</td>\n",
       "      <td>Nantucket Nectar</td>\n",
       "      <td>[Pineapple Orange Banana]</td>\n",
       "      <td>$3.39</td>\n",
       "    </tr>\n",
       "    <tr>\n",
       "      <th>3570</th>\n",
       "      <td>1433</td>\n",
       "      <td>1</td>\n",
       "      <td>Nantucket Nectar</td>\n",
       "      <td>[Pineapple Orange Banana]</td>\n",
       "      <td>$3.39</td>\n",
       "    </tr>\n",
       "    <tr>\n",
       "      <th>3845</th>\n",
       "      <td>1541</td>\n",
       "      <td>1</td>\n",
       "      <td>Nantucket Nectar</td>\n",
       "      <td>[Peach Orange]</td>\n",
       "      <td>$3.39</td>\n",
       "    </tr>\n",
       "    <tr>\n",
       "      <th>4019</th>\n",
       "      <td>1609</td>\n",
       "      <td>1</td>\n",
       "      <td>Nantucket Nectar</td>\n",
       "      <td>[Pineapple Orange Banana]</td>\n",
       "      <td>$3.39</td>\n",
       "    </tr>\n",
       "    <tr>\n",
       "      <th>4078</th>\n",
       "      <td>1632</td>\n",
       "      <td>1</td>\n",
       "      <td>Nantucket Nectar</td>\n",
       "      <td>[Peach Orange]</td>\n",
       "      <td>$3.39</td>\n",
       "    </tr>\n",
       "  </tbody>\n",
       "</table>\n",
       "</div>"
      ],
      "text/plain": [
       "      order_id  quantity         item_name         choice_description   \n",
       "2            1         1  Nantucket Nectar                    [Apple]  \\\n",
       "22          11         1  Nantucket Nectar       [Pomegranate Cherry]   \n",
       "105         46         1  Nantucket Nectar  [Pineapple Orange Banana]   \n",
       "173         77         1  Nantucket Nectar                    [Apple]   \n",
       "205         91         1  Nantucket Nectar             [Peach Orange]   \n",
       "436        189         1  Nantucket Nectar       [Pomegranate Cherry]   \n",
       "601        247         2  Nantucket Nectar  [Pineapple Orange Banana]   \n",
       "925        381         1  Nantucket Nectar       [Pomegranate Cherry]   \n",
       "1356       553         1  Nantucket Nectar       [Pomegranate Cherry]   \n",
       "1585       641         1  Nantucket Nectar             [Peach Orange]   \n",
       "1626       656         1  Nantucket Nectar  [Pineapple Orange Banana]   \n",
       "1706       690         1  Nantucket Nectar                    [Apple]   \n",
       "2162       872         1  Nantucket Nectar  [Pineapple Orange Banana]   \n",
       "2379       947         2  Nantucket Nectar             [Peach Orange]   \n",
       "2381       947         1  Nantucket Nectar                    [Apple]   \n",
       "2430       965         1  Nantucket Nectar       [Pomegranate Cherry]   \n",
       "2653      1053         1  Nantucket Nectar  [Pineapple Orange Banana]   \n",
       "2818      1118         1  Nantucket Nectar                    [Apple]   \n",
       "2838      1128         1  Nantucket Nectar             [Peach Orange]   \n",
       "2853      1133         1  Nantucket Nectar                    [Apple]   \n",
       "2949      1172         1  Nantucket Nectar             [Peach Orange]   \n",
       "3318      1330         1  Nantucket Nectar             [Peach Orange]   \n",
       "3368      1351         1  Nantucket Nectar  [Pineapple Orange Banana]   \n",
       "3570      1433         1  Nantucket Nectar  [Pineapple Orange Banana]   \n",
       "3845      1541         1  Nantucket Nectar             [Peach Orange]   \n",
       "4019      1609         1  Nantucket Nectar  [Pineapple Orange Banana]   \n",
       "4078      1632         1  Nantucket Nectar             [Peach Orange]   \n",
       "\n",
       "     item_price  \n",
       "2        $3.39   \n",
       "22       $3.39   \n",
       "105      $3.39   \n",
       "173      $3.39   \n",
       "205      $3.39   \n",
       "436      $3.39   \n",
       "601      $6.78   \n",
       "925      $3.39   \n",
       "1356     $3.39   \n",
       "1585     $3.39   \n",
       "1626     $3.39   \n",
       "1706     $3.39   \n",
       "2162     $3.39   \n",
       "2379     $6.78   \n",
       "2381     $3.39   \n",
       "2430     $3.39   \n",
       "2653     $3.39   \n",
       "2818     $3.39   \n",
       "2838     $3.39   \n",
       "2853     $3.39   \n",
       "2949     $3.39   \n",
       "3318     $3.39   \n",
       "3368     $3.39   \n",
       "3570     $3.39   \n",
       "3845     $3.39   \n",
       "4019     $3.39   \n",
       "4078     $3.39   "
      ]
     },
     "execution_count": 11,
     "metadata": {},
     "output_type": "execute_result"
    }
   ],
   "source": [
    "#startswith()\n",
    "df.loc[df['item_name'].str.startswith('N')]"
   ]
  },
  {
   "attachments": {},
   "cell_type": "markdown",
   "id": "11ebc1b4",
   "metadata": {},
   "source": [
    "Question 42\n",
    "\n",
    "df의 데이터 중 item_name 값의 단어갯수가 15개 이상인 데이터를 인덱싱하라"
   ]
  },
  {
   "cell_type": "code",
   "execution_count": null,
   "id": "01de29f5",
   "metadata": {
    "ExecuteTime": {
     "end_time": "2023-05-07T11:21:07.115002Z",
     "start_time": "2023-05-07T11:21:07.091001Z"
    }
   },
   "outputs": [],
   "source": [
    "df.loc[df['item_name'].str.len() >= 15]"
   ]
  },
  {
   "attachments": {},
   "cell_type": "markdown",
   "id": "b725d355",
   "metadata": {},
   "source": [
    "Question 43\n",
    "\n",
    "df의 데이터 중 new_price값이 lst에 해당하는 경우의 데이터 프레임을 구하고 그 갯수를 출력하라 lst =[1.69, 2.39, 3.39, 4.45, 9.25, 10.98, 11.75, 16.98]"
   ]
  },
  {
   "cell_type": "code",
   "execution_count": null,
   "id": "1172afe3",
   "metadata": {
    "ExecuteTime": {
     "end_time": "2023-05-07T11:21:28.018295Z",
     "start_time": "2023-05-07T11:21:27.987293Z"
    }
   },
   "outputs": [],
   "source": []
  }
 ],
 "metadata": {
  "hide_input": false,
  "kernelspec": {
   "display_name": "Python 3 (ipykernel)",
   "language": "python",
   "name": "python3"
  },
  "language_info": {
   "codemirror_mode": {
    "name": "ipython",
    "version": 3
   },
   "file_extension": ".py",
   "mimetype": "text/x-python",
   "name": "python",
   "nbconvert_exporter": "python",
   "pygments_lexer": "ipython3",
   "version": "3.11.3"
  },
  "toc": {
   "base_numbering": 1,
   "nav_menu": {},
   "number_sections": true,
   "sideBar": true,
   "skip_h1_title": false,
   "title_cell": "Table of Contents",
   "title_sidebar": "Contents",
   "toc_cell": false,
   "toc_position": {},
   "toc_section_display": true,
   "toc_window_display": false
  },
  "varInspector": {
   "cols": {
    "lenName": 16,
    "lenType": 16,
    "lenVar": 40
   },
   "kernels_config": {
    "python": {
     "delete_cmd_postfix": "",
     "delete_cmd_prefix": "del ",
     "library": "var_list.py",
     "varRefreshCmd": "print(var_dic_list())"
    },
    "r": {
     "delete_cmd_postfix": ") ",
     "delete_cmd_prefix": "rm(",
     "library": "var_list.r",
     "varRefreshCmd": "cat(var_dic_list()) "
    }
   },
   "types_to_exclude": [
    "module",
    "function",
    "builtin_function_or_method",
    "instance",
    "_Feature"
   ],
   "window_display": false
  }
 },
 "nbformat": 4,
 "nbformat_minor": 5
}
