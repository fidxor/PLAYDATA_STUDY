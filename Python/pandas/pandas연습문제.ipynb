{
 "cells": [
  {
   "attachments": {},
   "cell_type": "markdown",
   "id": "ed5a9c13",
   "metadata": {},
   "source": [
    "01 Getting & Knowing Data"
   ]
  },
  {
   "cell_type": "code",
   "execution_count": null,
   "id": "6374cc4c",
   "metadata": {
    "ExecuteTime": {
     "end_time": "2023-05-07T10:12:55.355738Z",
     "start_time": "2023-05-07T10:12:54.389737Z"
    }
   },
   "outputs": [],
   "source": [
    "import pandas as pd"
   ]
  },
  {
   "attachments": {},
   "cell_type": "markdown",
   "id": "2b3c920b",
   "metadata": {
    "ExecuteTime": {
     "end_time": "2023-05-07T10:13:50.829171Z",
     "start_time": "2023-05-07T10:13:50.820171Z"
    }
   },
   "source": [
    "> 롤 랭킹 데이터 : https://www.kaggle.com/datasnaek/league-of-legends\n",
    "\n",
    "> DataUrl = 'https://raw.githubusercontent.com/Datamanim/pandas/main/lol.csv' "
   ]
  },
  {
   "attachments": {},
   "cell_type": "markdown",
   "id": "498383e8",
   "metadata": {},
   "source": [
    "Question 1\n",
    "\n",
    "데이터를 로드하라. 데이터는 \\t을 기준으로 구분되어있다."
   ]
  },
  {
   "cell_type": "code",
   "execution_count": 6,
   "id": "491934b9",
   "metadata": {
    "ExecuteTime": {
     "end_time": "2023-05-07T10:14:45.632280Z",
     "start_time": "2023-05-07T10:14:43.795669Z"
    }
   },
   "outputs": [
    {
     "name": "stdout",
     "output_type": "stream",
     "text": [
      "           gameId   creationTime  gameDuration  seasonId  winner  firstBlood   \n",
      "0      3326086514  1504279457970          1949         9       1           2  \\\n",
      "1      3229566029  1497848803862          1851         9       1           1   \n",
      "2      3327363504  1504360103310          1493         9       1           2   \n",
      "3      3326856598  1504348503996          1758         9       1           1   \n",
      "4      3330080762  1504554410899          2094         9       1           2   \n",
      "...           ...            ...           ...       ...     ...         ...   \n",
      "51485  3308904636  1503076540231          1944         9       2           1   \n",
      "51486  3215685759  1496957179355          3304         9       2           1   \n",
      "51487  3322765040  1504029863961          2156         9       2           2   \n",
      "51488  3256675373  1499562036246          1475         9       2           2   \n",
      "51489  3317333020  1503612754059          1445         9       1           1   \n",
      "\n",
      "       firstTower  firstInhibitor  firstBaron  firstDragon  ...   \n",
      "0               1               1           1            1  ...  \\\n",
      "1               1               1           0            1  ...   \n",
      "2               1               1           1            2  ...   \n",
      "3               1               1           1            1  ...   \n",
      "4               1               1           1            1  ...   \n",
      "...           ...             ...         ...          ...  ...   \n",
      "51485           2               2           0            2  ...   \n",
      "51486           1               2           2            2  ...   \n",
      "51487           2               2           0            1  ...   \n",
      "51488           2               2           0            2  ...   \n",
      "51489           1               1           1            2  ...   \n",
      "\n",
      "       t2_towerKills  t2_inhibitorKills  t2_baronKills  t2_dragonKills   \n",
      "0                  5                  0              0               1  \\\n",
      "1                  2                  0              0               0   \n",
      "2                  2                  0              0               1   \n",
      "3                  0                  0              0               0   \n",
      "4                  3                  0              0               1   \n",
      "...              ...                ...            ...             ...   \n",
      "51485             10                  2              0               4   \n",
      "51486             11                  7              4               4   \n",
      "51487             10                  2              0               2   \n",
      "51488             11                  3              0               1   \n",
      "51489              1                  0              0               1   \n",
      "\n",
      "       t2_riftHeraldKills  t2_ban1  t2_ban2  t2_ban3  t2_ban4  t2_ban5  \n",
      "0                       1      114       67       43       16       51  \n",
      "1                       0       11       67      238       51      420  \n",
      "2                       0      157      238      121       57       28  \n",
      "3                       0      164       18      141       40       51  \n",
      "4                       0       86       11      201      122       18  \n",
      "...                   ...      ...      ...      ...      ...      ...  \n",
      "51485                   0       55       -1       90      238      157  \n",
      "51486                   1      157       55      119      154      105  \n",
      "51487                   0      113      122       53       11      157  \n",
      "51488                   0      154       39       51       90      114  \n",
      "51489                   0       11      157      141       31       18  \n",
      "\n",
      "[51490 rows x 61 columns]\n"
     ]
    }
   ],
   "source": [
    "DataUrl = 'https://raw.githubusercontent.com/Datamanim/pandas/main/lol.csv'\n",
    "df = pd.read_csv(DataUrl, sep = \"\\t\")\n",
    "\n",
    "print(df)"
   ]
  },
  {
   "attachments": {},
   "cell_type": "markdown",
   "id": "84489f72",
   "metadata": {},
   "source": [
    "Question 2\n",
    "\n",
    "데이터의 상위 5개 행을 출력하라"
   ]
  },
  {
   "cell_type": "code",
   "execution_count": null,
   "id": "e6ec2b6b",
   "metadata": {
    "ExecuteTime": {
     "end_time": "2023-05-07T10:15:05.105742Z",
     "start_time": "2023-05-07T10:15:05.074775Z"
    }
   },
   "outputs": [],
   "source": [
    "df.head()"
   ]
  },
  {
   "attachments": {},
   "cell_type": "markdown",
   "id": "4d89df45",
   "metadata": {},
   "source": [
    "Question 3\n",
    "\n",
    "데이터의 행과 열의 갯수를 파악하라"
   ]
  },
  {
   "cell_type": "code",
   "execution_count": null,
   "id": "821a9e02",
   "metadata": {
    "ExecuteTime": {
     "end_time": "2023-05-07T10:15:25.699761Z",
     "start_time": "2023-05-07T10:15:25.682761Z"
    }
   },
   "outputs": [],
   "source": [
    "print(len(df.index))\n",
    "print(len(df.columns))"
   ]
  },
  {
   "attachments": {},
   "cell_type": "markdown",
   "id": "bf7433f7",
   "metadata": {},
   "source": [
    "Question 4\n",
    "\n",
    "전체 컬럼을 출력하라"
   ]
  },
  {
   "cell_type": "code",
   "execution_count": null,
   "id": "0b75d2fe",
   "metadata": {
    "ExecuteTime": {
     "end_time": "2023-05-07T10:15:56.522128Z",
     "start_time": "2023-05-07T10:15:56.508129Z"
    }
   },
   "outputs": [],
   "source": [
    "print(df.columns)"
   ]
  },
  {
   "attachments": {},
   "cell_type": "markdown",
   "id": "b21b4f00",
   "metadata": {},
   "source": [
    "Question 5\n",
    "\n",
    "6번째 컬럼명을 출력하라"
   ]
  },
  {
   "cell_type": "code",
   "execution_count": null,
   "id": "c9495a93",
   "metadata": {
    "ExecuteTime": {
     "end_time": "2023-05-07T10:16:19.059077Z",
     "start_time": "2023-05-07T10:16:19.045081Z"
    }
   },
   "outputs": [],
   "source": [
    "print(df.columns[5])"
   ]
  },
  {
   "attachments": {},
   "cell_type": "markdown",
   "id": "057f81c1",
   "metadata": {},
   "source": [
    "Question 6\n",
    "\n",
    "6번째 컬럼의 데이터 타입을 확인하라"
   ]
  },
  {
   "cell_type": "code",
   "execution_count": null,
   "id": "9e5db043",
   "metadata": {
    "ExecuteTime": {
     "end_time": "2023-05-07T10:16:38.670168Z",
     "start_time": "2023-05-07T10:16:38.659166Z"
    }
   },
   "outputs": [],
   "source": [
    "df.info(verbose=True)"
   ]
  },
  {
   "attachments": {},
   "cell_type": "markdown",
   "id": "39e32dd0",
   "metadata": {},
   "source": [
    "Question 7\n",
    "\n",
    "데이터셋의 인덱스 구성은 어떤가"
   ]
  },
  {
   "cell_type": "code",
   "execution_count": null,
   "id": "ef11da69",
   "metadata": {
    "ExecuteTime": {
     "end_time": "2023-05-07T10:18:28.222731Z",
     "start_time": "2023-05-07T10:18:28.212709Z"
    }
   },
   "outputs": [],
   "source": [
    "print(df.index)"
   ]
  },
  {
   "attachments": {},
   "cell_type": "markdown",
   "id": "5a678cc2",
   "metadata": {},
   "source": [
    "Question 8\n",
    "\n",
    "6번째 컬럼의 3번째 값은 무엇인가?"
   ]
  },
  {
   "cell_type": "code",
   "execution_count": null,
   "id": "9debb3bf",
   "metadata": {
    "ExecuteTime": {
     "end_time": "2023-05-07T10:18:46.291308Z",
     "start_time": "2023-05-07T10:18:46.277280Z"
    }
   },
   "outputs": [],
   "source": [
    "print(df[df.columns[5]][2])"
   ]
  },
  {
   "attachments": {},
   "cell_type": "markdown",
   "id": "60e691c6",
   "metadata": {},
   "source": [
    "> 제주 날씨,인구에 따른 교통량데이터 : 출처 제주 데이터 허브 \n",
    "\n",
    "> DataUrl = https://raw.githubusercontent.com/Datamanim/pandas/main/Jeju.csv’"
   ]
  },
  {
   "attachments": {},
   "cell_type": "markdown",
   "id": "787fc3b6",
   "metadata": {},
   "source": [
    "Question 9\n",
    "\n",
    "데이터를 로드하라. 컬럼이 한글이기에 적절한 처리해줘야함"
   ]
  },
  {
   "cell_type": "code",
   "execution_count": 7,
   "id": "13f0c1e9",
   "metadata": {
    "ExecuteTime": {
     "end_time": "2023-05-07T10:19:55.331040Z",
     "start_time": "2023-05-07T10:19:54.765990Z"
    }
   },
   "outputs": [
    {
     "data": {
      "text/html": [
       "<div>\n",
       "<style scoped>\n",
       "    .dataframe tbody tr th:only-of-type {\n",
       "        vertical-align: middle;\n",
       "    }\n",
       "\n",
       "    .dataframe tbody tr th {\n",
       "        vertical-align: top;\n",
       "    }\n",
       "\n",
       "    .dataframe thead th {\n",
       "        text-align: right;\n",
       "    }\n",
       "</style>\n",
       "<table border=\"1\" class=\"dataframe\">\n",
       "  <thead>\n",
       "    <tr style=\"text-align: right;\">\n",
       "      <th></th>\n",
       "      <th>id</th>\n",
       "      <th>일자</th>\n",
       "      <th>시도명</th>\n",
       "      <th>읍면동명</th>\n",
       "      <th>거주인구</th>\n",
       "      <th>근무인구</th>\n",
       "      <th>방문인구</th>\n",
       "      <th>총 유동인구</th>\n",
       "      <th>평균 속도</th>\n",
       "      <th>평균 소요 시간</th>\n",
       "      <th>평균 기온</th>\n",
       "      <th>일강수량</th>\n",
       "      <th>평균 풍속</th>\n",
       "    </tr>\n",
       "  </thead>\n",
       "  <tbody>\n",
       "    <tr>\n",
       "      <th>0</th>\n",
       "      <td>22448</td>\n",
       "      <td>2018-01-01</td>\n",
       "      <td>제주시</td>\n",
       "      <td>도두동</td>\n",
       "      <td>32249.987</td>\n",
       "      <td>3418.266</td>\n",
       "      <td>102709.092</td>\n",
       "      <td>138377.345</td>\n",
       "      <td>39.556</td>\n",
       "      <td>29.167</td>\n",
       "      <td>5.0</td>\n",
       "      <td>0.0</td>\n",
       "      <td>2.50</td>\n",
       "    </tr>\n",
       "    <tr>\n",
       "      <th>1</th>\n",
       "      <td>22449</td>\n",
       "      <td>2018-01-01</td>\n",
       "      <td>제주시</td>\n",
       "      <td>외도동</td>\n",
       "      <td>213500.997</td>\n",
       "      <td>10341.172</td>\n",
       "      <td>112692.789</td>\n",
       "      <td>336534.958</td>\n",
       "      <td>32.900</td>\n",
       "      <td>30.900</td>\n",
       "      <td>5.0</td>\n",
       "      <td>0.0</td>\n",
       "      <td>2.50</td>\n",
       "    </tr>\n",
       "    <tr>\n",
       "      <th>2</th>\n",
       "      <td>22450</td>\n",
       "      <td>2018-01-01</td>\n",
       "      <td>제주시</td>\n",
       "      <td>이도2동</td>\n",
       "      <td>1212382.218</td>\n",
       "      <td>96920.834</td>\n",
       "      <td>541194.481</td>\n",
       "      <td>1850497.533</td>\n",
       "      <td>29.538</td>\n",
       "      <td>35.692</td>\n",
       "      <td>2.9</td>\n",
       "      <td>0.0</td>\n",
       "      <td>2.40</td>\n",
       "    </tr>\n",
       "    <tr>\n",
       "      <th>3</th>\n",
       "      <td>22451</td>\n",
       "      <td>2018-01-01</td>\n",
       "      <td>제주시</td>\n",
       "      <td>일도1동</td>\n",
       "      <td>33991.653</td>\n",
       "      <td>6034.253</td>\n",
       "      <td>72155.919</td>\n",
       "      <td>112181.825</td>\n",
       "      <td>30.000</td>\n",
       "      <td>23.500</td>\n",
       "      <td>2.9</td>\n",
       "      <td>0.0</td>\n",
       "      <td>2.40</td>\n",
       "    </tr>\n",
       "    <tr>\n",
       "      <th>4</th>\n",
       "      <td>22452</td>\n",
       "      <td>2018-01-01</td>\n",
       "      <td>서귀포시</td>\n",
       "      <td>대천동</td>\n",
       "      <td>155036.925</td>\n",
       "      <td>9403.969</td>\n",
       "      <td>150882.409</td>\n",
       "      <td>315323.303</td>\n",
       "      <td>41.583</td>\n",
       "      <td>14.375</td>\n",
       "      <td>5.1</td>\n",
       "      <td>0.0</td>\n",
       "      <td>2.30</td>\n",
       "    </tr>\n",
       "    <tr>\n",
       "      <th>...</th>\n",
       "      <td>...</td>\n",
       "      <td>...</td>\n",
       "      <td>...</td>\n",
       "      <td>...</td>\n",
       "      <td>...</td>\n",
       "      <td>...</td>\n",
       "      <td>...</td>\n",
       "      <td>...</td>\n",
       "      <td>...</td>\n",
       "      <td>...</td>\n",
       "      <td>...</td>\n",
       "      <td>...</td>\n",
       "      <td>...</td>\n",
       "    </tr>\n",
       "    <tr>\n",
       "      <th>9616</th>\n",
       "      <td>32064</td>\n",
       "      <td>2020-04-30</td>\n",
       "      <td>서귀포시</td>\n",
       "      <td>표선면</td>\n",
       "      <td>228260.005</td>\n",
       "      <td>16891.732</td>\n",
       "      <td>152832.449</td>\n",
       "      <td>397984.186</td>\n",
       "      <td>44.514</td>\n",
       "      <td>34.054</td>\n",
       "      <td>18.1</td>\n",
       "      <td>0.0</td>\n",
       "      <td>4.70</td>\n",
       "    </tr>\n",
       "    <tr>\n",
       "      <th>9617</th>\n",
       "      <td>32065</td>\n",
       "      <td>2020-04-30</td>\n",
       "      <td>제주시</td>\n",
       "      <td>한림읍</td>\n",
       "      <td>459959.064</td>\n",
       "      <td>26007.122</td>\n",
       "      <td>249700.419</td>\n",
       "      <td>735666.605</td>\n",
       "      <td>48.609</td>\n",
       "      <td>61.377</td>\n",
       "      <td>18.0</td>\n",
       "      <td>0.0</td>\n",
       "      <td>4.35</td>\n",
       "    </tr>\n",
       "    <tr>\n",
       "      <th>9618</th>\n",
       "      <td>32066</td>\n",
       "      <td>2020-04-30</td>\n",
       "      <td>제주시</td>\n",
       "      <td>도두동</td>\n",
       "      <td>28397.481</td>\n",
       "      <td>3144.895</td>\n",
       "      <td>84052.697</td>\n",
       "      <td>115595.073</td>\n",
       "      <td>41.053</td>\n",
       "      <td>29.421</td>\n",
       "      <td>20.3</td>\n",
       "      <td>0.0</td>\n",
       "      <td>3.00</td>\n",
       "    </tr>\n",
       "    <tr>\n",
       "      <th>9619</th>\n",
       "      <td>32067</td>\n",
       "      <td>2020-04-30</td>\n",
       "      <td>서귀포시</td>\n",
       "      <td>안덕면</td>\n",
       "      <td>348037.846</td>\n",
       "      <td>29106.286</td>\n",
       "      <td>251129.660</td>\n",
       "      <td>628273.792</td>\n",
       "      <td>46.595</td>\n",
       "      <td>49.189</td>\n",
       "      <td>17.6</td>\n",
       "      <td>0.0</td>\n",
       "      <td>3.50</td>\n",
       "    </tr>\n",
       "    <tr>\n",
       "      <th>9620</th>\n",
       "      <td>32068</td>\n",
       "      <td>2020-04-30</td>\n",
       "      <td>제주시</td>\n",
       "      <td>연동</td>\n",
       "      <td>1010643.372</td>\n",
       "      <td>65673.477</td>\n",
       "      <td>447622.068</td>\n",
       "      <td>1523938.917</td>\n",
       "      <td>40.863</td>\n",
       "      <td>27.765</td>\n",
       "      <td>14.1</td>\n",
       "      <td>0.0</td>\n",
       "      <td>4.80</td>\n",
       "    </tr>\n",
       "  </tbody>\n",
       "</table>\n",
       "<p>9621 rows × 13 columns</p>\n",
       "</div>"
      ],
      "text/plain": [
       "         id          일자   시도명  읍면동명         거주인구       근무인구        방문인구   \n",
       "0     22448  2018-01-01   제주시   도두동    32249.987   3418.266  102709.092  \\\n",
       "1     22449  2018-01-01   제주시   외도동   213500.997  10341.172  112692.789   \n",
       "2     22450  2018-01-01   제주시  이도2동  1212382.218  96920.834  541194.481   \n",
       "3     22451  2018-01-01   제주시  일도1동    33991.653   6034.253   72155.919   \n",
       "4     22452  2018-01-01  서귀포시   대천동   155036.925   9403.969  150882.409   \n",
       "...     ...         ...   ...   ...          ...        ...         ...   \n",
       "9616  32064  2020-04-30  서귀포시   표선면   228260.005  16891.732  152832.449   \n",
       "9617  32065  2020-04-30   제주시   한림읍   459959.064  26007.122  249700.419   \n",
       "9618  32066  2020-04-30   제주시   도두동    28397.481   3144.895   84052.697   \n",
       "9619  32067  2020-04-30  서귀포시   안덕면   348037.846  29106.286  251129.660   \n",
       "9620  32068  2020-04-30   제주시    연동  1010643.372  65673.477  447622.068   \n",
       "\n",
       "           총 유동인구   평균 속도  평균 소요 시간  평균 기온  일강수량  평균 풍속  \n",
       "0      138377.345  39.556    29.167    5.0   0.0   2.50  \n",
       "1      336534.958  32.900    30.900    5.0   0.0   2.50  \n",
       "2     1850497.533  29.538    35.692    2.9   0.0   2.40  \n",
       "3      112181.825  30.000    23.500    2.9   0.0   2.40  \n",
       "4      315323.303  41.583    14.375    5.1   0.0   2.30  \n",
       "...           ...     ...       ...    ...   ...    ...  \n",
       "9616   397984.186  44.514    34.054   18.1   0.0   4.70  \n",
       "9617   735666.605  48.609    61.377   18.0   0.0   4.35  \n",
       "9618   115595.073  41.053    29.421   20.3   0.0   3.00  \n",
       "9619   628273.792  46.595    49.189   17.6   0.0   3.50  \n",
       "9620  1523938.917  40.863    27.765   14.1   0.0   4.80  \n",
       "\n",
       "[9621 rows x 13 columns]"
      ]
     },
     "execution_count": 7,
     "metadata": {},
     "output_type": "execute_result"
    }
   ],
   "source": [
    "import pandas as pd\n",
    "\n",
    "DataUrl = 'https://raw.githubusercontent.com/Datamanim/pandas/main/Jeju.csv'\n",
    "df = pd.read_csv(DataUrl, encoding = \"cp949\")\n",
    "\n",
    "df"
   ]
  },
  {
   "attachments": {},
   "cell_type": "markdown",
   "id": "4312fca4",
   "metadata": {},
   "source": [
    "Question 10\n",
    "\n",
    "데이터 마지막 3개행을 출력하라"
   ]
  },
  {
   "cell_type": "code",
   "execution_count": 5,
   "id": "29f13bb3",
   "metadata": {
    "ExecuteTime": {
     "end_time": "2023-05-07T10:20:09.923438Z",
     "start_time": "2023-05-07T10:20:09.900437Z"
    }
   },
   "outputs": [
    {
     "name": "stdout",
     "output_type": "stream",
     "text": [
      "         id          일자   시도명 읍면동명         거주인구       근무인구        방문인구   \n",
      "9618  32066  2020-04-30   제주시  도두동    28397.481   3144.895   84052.697  \\\n",
      "9619  32067  2020-04-30  서귀포시  안덕면   348037.846  29106.286  251129.660   \n",
      "9620  32068  2020-04-30   제주시   연동  1010643.372  65673.477  447622.068   \n",
      "\n",
      "           총 유동인구   평균 속도  평균 소요 시간  평균 기온  일강수량  평균 풍속  \n",
      "9618   115595.073  41.053    29.421   20.3   0.0    3.0  \n",
      "9619   628273.792  46.595    49.189   17.6   0.0    3.5  \n",
      "9620  1523938.917  40.863    27.765   14.1   0.0    4.8  \n"
     ]
    }
   ],
   "source": [
    "print(df.tail(3))"
   ]
  },
  {
   "attachments": {},
   "cell_type": "markdown",
   "id": "611a6abc",
   "metadata": {},
   "source": [
    "Question 11\n",
    "\n",
    "수치형 변수를 가진 컬럼을 출력하라"
   ]
  },
  {
   "cell_type": "code",
   "execution_count": null,
   "id": "ac75ce70",
   "metadata": {
    "ExecuteTime": {
     "end_time": "2023-05-07T11:02:45.578979Z",
     "start_time": "2023-05-07T11:02:45.564953Z"
    }
   },
   "outputs": [],
   "source": []
  },
  {
   "attachments": {},
   "cell_type": "markdown",
   "id": "5a52b48e",
   "metadata": {},
   "source": [
    "Question 12\n",
    "\n",
    "범주형 변수를 가진 컬럼을 출력하라"
   ]
  },
  {
   "cell_type": "code",
   "execution_count": null,
   "id": "a59c967f",
   "metadata": {
    "ExecuteTime": {
     "end_time": "2023-05-07T11:03:06.953201Z",
     "start_time": "2023-05-07T11:03:06.942174Z"
    }
   },
   "outputs": [],
   "source": []
  },
  {
   "attachments": {},
   "cell_type": "markdown",
   "id": "abb2cf8c",
   "metadata": {},
   "source": [
    "Question 13\n",
    "\n",
    "각 컬럼의 결측치 숫자를 파악하라"
   ]
  },
  {
   "cell_type": "code",
   "execution_count": null,
   "id": "a2b5b381",
   "metadata": {
    "ExecuteTime": {
     "end_time": "2023-05-07T11:03:28.382405Z",
     "start_time": "2023-05-07T11:03:28.364404Z"
    }
   },
   "outputs": [],
   "source": []
  },
  {
   "attachments": {},
   "cell_type": "markdown",
   "id": "faf453b2",
   "metadata": {},
   "source": [
    "Question 14\n",
    "\n",
    "각 컬럼의 데이터수, 데이터타입을 한번에 확인하라"
   ]
  },
  {
   "cell_type": "code",
   "execution_count": null,
   "id": "f204f6cb",
   "metadata": {
    "ExecuteTime": {
     "end_time": "2023-05-07T12:08:42.670685Z",
     "start_time": "2023-05-07T12:08:42.028656Z"
    }
   },
   "outputs": [],
   "source": []
  },
  {
   "attachments": {},
   "cell_type": "markdown",
   "id": "d1bc3d16",
   "metadata": {},
   "source": [
    "Question 15\n",
    "\n",
    "각 수치형 변수의 분포(사분위, 평균, 표준편차, 최대 , 최소)를 확인하라"
   ]
  },
  {
   "cell_type": "code",
   "execution_count": null,
   "id": "9228bf20",
   "metadata": {
    "ExecuteTime": {
     "end_time": "2023-05-07T11:04:18.878808Z",
     "start_time": "2023-05-07T11:04:18.821810Z"
    }
   },
   "outputs": [],
   "source": []
  },
  {
   "attachments": {},
   "cell_type": "markdown",
   "id": "cf2b695d",
   "metadata": {},
   "source": [
    "Question 16\n",
    "\n",
    "거주인구 컬럼의 값들을 출력하라"
   ]
  },
  {
   "cell_type": "code",
   "execution_count": null,
   "id": "cd297567",
   "metadata": {
    "ExecuteTime": {
     "end_time": "2023-05-07T11:04:38.625783Z",
     "start_time": "2023-05-07T11:04:38.612815Z"
    }
   },
   "outputs": [],
   "source": []
  },
  {
   "attachments": {},
   "cell_type": "markdown",
   "id": "a6f024b4",
   "metadata": {},
   "source": [
    "Question 17\n",
    "\n",
    "평균 속도 컬럼의 4분위 범위(IQR) 값을 구하여라"
   ]
  },
  {
   "cell_type": "code",
   "execution_count": null,
   "id": "59654e4c",
   "metadata": {
    "ExecuteTime": {
     "end_time": "2023-05-07T11:06:39.403009Z",
     "start_time": "2023-05-07T11:06:39.381008Z"
    }
   },
   "outputs": [],
   "source": []
  },
  {
   "attachments": {},
   "cell_type": "markdown",
   "id": "08c6180e",
   "metadata": {},
   "source": [
    "Question 18\n",
    "\n",
    "읍면동명 컬럼의 유일값 갯수를 출력하라"
   ]
  },
  {
   "cell_type": "code",
   "execution_count": null,
   "id": "c622cd7b",
   "metadata": {
    "ExecuteTime": {
     "end_time": "2023-05-07T11:06:57.659384Z",
     "start_time": "2023-05-07T11:06:57.638383Z"
    }
   },
   "outputs": [],
   "source": []
  },
  {
   "attachments": {},
   "cell_type": "markdown",
   "id": "e1170666",
   "metadata": {},
   "source": [
    "Question 19\n",
    "\n",
    "읍면동명 컬럼의 유일값을 모두 출력하라"
   ]
  },
  {
   "cell_type": "code",
   "execution_count": null,
   "id": "0f8f1d2e",
   "metadata": {
    "ExecuteTime": {
     "end_time": "2023-05-07T11:07:17.333051Z",
     "start_time": "2023-05-07T11:07:17.312053Z"
    }
   },
   "outputs": [],
   "source": []
  }
 ],
 "metadata": {
  "hide_input": false,
  "kernelspec": {
   "display_name": "Python 3 (ipykernel)",
   "language": "python",
   "name": "python3"
  },
  "language_info": {
   "codemirror_mode": {
    "name": "ipython",
    "version": 3
   },
   "file_extension": ".py",
   "mimetype": "text/x-python",
   "name": "python",
   "nbconvert_exporter": "python",
   "pygments_lexer": "ipython3",
   "version": "3.11.3"
  },
  "toc": {
   "base_numbering": 1,
   "nav_menu": {},
   "number_sections": true,
   "sideBar": true,
   "skip_h1_title": false,
   "title_cell": "Table of Contents",
   "title_sidebar": "Contents",
   "toc_cell": false,
   "toc_position": {},
   "toc_section_display": true,
   "toc_window_display": false
  },
  "varInspector": {
   "cols": {
    "lenName": 16,
    "lenType": 16,
    "lenVar": 40
   },
   "kernels_config": {
    "python": {
     "delete_cmd_postfix": "",
     "delete_cmd_prefix": "del ",
     "library": "var_list.py",
     "varRefreshCmd": "print(var_dic_list())"
    },
    "r": {
     "delete_cmd_postfix": ") ",
     "delete_cmd_prefix": "rm(",
     "library": "var_list.r",
     "varRefreshCmd": "cat(var_dic_list()) "
    }
   },
   "types_to_exclude": [
    "module",
    "function",
    "builtin_function_or_method",
    "instance",
    "_Feature"
   ],
   "window_display": false
  }
 },
 "nbformat": 4,
 "nbformat_minor": 5
}
