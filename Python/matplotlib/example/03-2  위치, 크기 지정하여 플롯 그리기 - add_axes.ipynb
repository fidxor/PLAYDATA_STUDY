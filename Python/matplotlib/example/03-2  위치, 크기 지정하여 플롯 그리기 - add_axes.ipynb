{
 "cells": [
  {
   "attachments": {},
   "cell_type": "markdown",
   "id": "44843204",
   "metadata": {},
   "source": [
    "[학습목표]<br>\n",
    "그래프의 위치, 크기를 지정하여 그래프를 그릴 수 있다."
   ]
  },
  {
   "attachments": {},
   "cell_type": "markdown",
   "id": "18f78c54",
   "metadata": {},
   "source": [
    "# 라이브러리 임포트"
   ]
  },
  {
   "cell_type": "code",
   "execution_count": 1,
   "id": "fe321e18",
   "metadata": {
    "ExecuteTime": {
     "end_time": "2023-05-12T11:14:54.654165Z",
     "start_time": "2023-05-12T11:14:53.994111Z"
    }
   },
   "outputs": [],
   "source": [
    "import matplotlib.pyplot as plt"
   ]
  },
  {
   "attachments": {},
   "cell_type": "markdown",
   "id": "b617808e",
   "metadata": {},
   "source": [
    "# 위치, 크기 지정하여 그래프 그리기"
   ]
  },
  {
   "attachments": {},
   "cell_type": "markdown",
   "id": "aa3b4b75",
   "metadata": {},
   "source": [
    "## figure, axes\n",
    "* figure : 그림이 그려지는 캔버스\n",
    "* axes : 하나의 그래프\n",
    "<img src= \"attachment:image-2.png\" width=\"200px\" height=\"100px\"></img>"
   ]
  },
  {
   "attachments": {},
   "cell_type": "markdown",
   "id": "369bb278",
   "metadata": {},
   "source": [
    "## 위치, 크기 지정하여 그래프 그리기\n",
    "1) figure 객체를 생성한다.<br>\n",
    "<b>`fig = plt.figure(figsize=(가로길이,세로길이))`</b><br><br>\n",
    "2) figure객체의 add_axes 메소드로 위치와 크기를 지정하여 axes 객체를 생성한다.<br>\n",
    "<b>`ax1 = fig.add_axes([left, bottom, width, height])`</b><br>\n",
    "<span style=\"color:red\">left, bottom</span> : 상대적인 시작 위치 (figsize의 크기를 1이라고 했을 때 상대적 위치) <br>\n",
    "<span style=\"color:blue\">width, height</span> : 상대적인 크기(figsize의 크기를 1이라고 했을 때 상대적 크기) \n",
    "<br>\n",
    "<img src= \"attachment:image.png\" width=\"400px\" height=\"300px\"></img>\n",
    "\n",
    "3) axes에  그래프를 그린다.<br>\n",
    "<b>`ax1.plot(x,y)`</b>\n",
    "\n",
    "4) axes에  제목 추가.<br>\n",
    "<b>`ax1.set_title(제목)`</b>\n",
    "\n",
    "\n"
   ]
  },
  {
   "attachments": {},
   "cell_type": "markdown",
   "id": "e4550aa8",
   "metadata": {},
   "source": [
    "### 위치와 크기를 자유롭게 지정하여 axes 객체 만들기\n",
    "* add_axes를 사용하면, 서브플롯의 크기와 위치를 자유롭게 지정할 수 있다.\n",
    "* 그래프를 겹쳐그리거나, 크기가 각각 다른 그래프를 그릴 수 있다."
   ]
  },
  {
   "attachments": {},
   "cell_type": "markdown",
   "id": "5cc2afe9",
   "metadata": {},
   "source": [
    "### 앤스콤 4분할 그래프 그리기"
   ]
  },
  {
   "cell_type": "code",
   "execution_count": 2,
   "id": "5db971cd",
   "metadata": {
    "ExecuteTime": {
     "end_time": "2023-05-12T11:15:27.053960Z",
     "start_time": "2023-05-12T11:15:25.003952Z"
    }
   },
   "outputs": [],
   "source": [
    "import seaborn as sns\n",
    "anscombe = sns.load_dataset('anscombe')\n",
    "df1 = anscombe[anscombe['dataset']=='I']\n",
    "df2 = anscombe[anscombe['dataset']=='II']\n",
    "df3 = anscombe[anscombe['dataset']=='III']\n",
    "df4 = anscombe[anscombe['dataset']=='IV']"
   ]
  },
  {
   "cell_type": "code",
   "execution_count": 3,
   "id": "b072e645",
   "metadata": {
    "ExecuteTime": {
     "end_time": "2023-05-12T11:16:22.431091Z",
     "start_time": "2023-05-12T11:16:22.404096Z"
    }
   },
   "outputs": [
    {
     "name": "stdout",
     "output_type": "stream",
     "text": [
      "==== df1.head(2) ====\n",
      "   dataset     x     y\n",
      "0       I  10.0  8.04\n",
      "1       I   8.0  6.95\n",
      "\n",
      "==== df2.head(2) ====\n",
      "    dataset     x     y\n",
      "11      II  10.0  9.14\n",
      "12      II   8.0  8.14\n",
      "\n",
      "==== df3.head(2) ====\n",
      "    dataset     x     y\n",
      "22     III  10.0  7.46\n",
      "23     III   8.0  6.77\n",
      "\n",
      "==== df4.head(2) ====\n",
      "    dataset    x     y\n",
      "33      IV  8.0  6.58\n",
      "34      IV  8.0  5.76\n"
     ]
    }
   ],
   "source": [
    "print('==== df1.head(2) ====\\n'  , df1.head(2))\n",
    "print('\\n==== df2.head(2) ====\\n', df2.head(2))\n",
    "print('\\n==== df3.head(2) ====\\n', df3.head(2))\n",
    "print('\\n==== df4.head(2) ====\\n', df4.head(2))"
   ]
  },
  {
   "cell_type": "code",
   "execution_count": 13,
   "id": "1c74a09e",
   "metadata": {
    "ExecuteTime": {
     "end_time": "2023-05-12T11:15:31.851556Z",
     "start_time": "2023-05-12T11:15:31.058583Z"
    }
   },
   "outputs": [
    {
     "data": {
      "text/plain": [
       "Text(0.5, 1.0, 'ax4')"
      ]
     },
     "execution_count": 13,
     "metadata": {},
     "output_type": "execute_result"
    },
    {
     "data": {
      "image/png": "[encoded data removed]",
      "text/plain": [
       "<Figure size 800x600 with 4 Axes>"
      ]
     },
     "metadata": {},
     "output_type": "display_data"
    }
   ],
   "source": [
    "# 1)figure 객체를 생성한다.\n",
    "fig = plt.figure(figsize=(8,6))\n",
    "\n",
    "# 2) figure객체의 add_axes 메소드로 위치와 크기를 지정하여 axes 객체를 생성한다.\n",
    "ax1 = fig.add_axes([0,0.5,0.4,0.4])\n",
    "ax2 = fig.add_axes([0.5,0.5,0.4,0.4])\n",
    "ax3 = fig.add_axes([0,0,0.4,0.4])\n",
    "ax4 = fig.add_axes([0.5,0,0.4,0.4])\n",
    "\n",
    "# 3) axes에 그래프를 그린다.\n",
    "ax1.plot(df1['x'],df1['y'],'o')\n",
    "ax2.plot(df2['x'],df2['y'],'r^')\n",
    "ax3.plot(df3['x'],df3['y'],'k*')\n",
    "ax4.plot(df4['x'],df4['y'],'m+')\n",
    "\n",
    "# 4) axes에 제목 추가.\n",
    "ax1.set_title('ax1')\n",
    "ax2.set_title('ax2')\n",
    "ax3.set_title('ax3')\n",
    "ax4.set_title('ax4')\n"
   ]
  },
  {
   "cell_type": "code",
   "execution_count": null,
   "id": "0522a973",
   "metadata": {},
   "outputs": [],
   "source": []
  }
 ],
 "metadata": {
  "hide_input": false,
  "kernelspec": {
   "display_name": "Python 3 (ipykernel)",
   "language": "python",
   "name": "python3"
  },
  "language_info": {
   "codemirror_mode": {
    "name": "ipython",
    "version": 3
   },
   "file_extension": ".py",
   "mimetype": "text/x-python",
   "name": "python",
   "nbconvert_exporter": "python",
   "pygments_lexer": "ipython3",
   "version": "3.11.3"
  },
  "toc": {
   "base_numbering": 1,
   "nav_menu": {},
   "number_sections": true,
   "sideBar": true,
   "skip_h1_title": false,
   "title_cell": "Table of Contents",
   "title_sidebar": "Contents",
   "toc_cell": false,
   "toc_position": {
    "height": "calc(100% - 180px)",
    "left": "10px",
    "top": "150px",
    "width": "245.76px"
   },
   "toc_section_display": true,
   "toc_window_display": true
  },
  "varInspector": {
   "cols": {
    "lenName": 16,
    "lenType": 16,
    "lenVar": 40
   },
   "kernels_config": {
    "python": {
     "delete_cmd_postfix": "",
     "delete_cmd_prefix": "del ",
     "library": "var_list.py",
     "varRefreshCmd": "print(var_dic_list())"
    },
    "r": {
     "delete_cmd_postfix": ") ",
     "delete_cmd_prefix": "rm(",
     "library": "var_list.r",
     "varRefreshCmd": "cat(var_dic_list()) "
    }
   },
   "types_to_exclude": [
    "module",
    "function",
    "builtin_function_or_method",
    "instance",
    "_Feature"
   ],
   "window_display": false
  }
 },
 "nbformat": 4,
 "nbformat_minor": 5
}
