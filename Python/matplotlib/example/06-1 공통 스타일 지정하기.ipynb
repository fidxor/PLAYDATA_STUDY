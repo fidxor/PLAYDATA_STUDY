{
 "cells": [
  {
   "cell_type": "markdown",
   "id": "2268384c",
   "metadata": {},
   "source": [
    "[학습목표]<br>\n",
    "Matplotlib의 rcParams를 사용해서 그래프의 공통 스타일을 변경 할 수 있다."
   ]
  },
  {
   "cell_type": "code",
   "execution_count": 1,
   "id": "a9398681",
   "metadata": {
    "ExecuteTime": {
     "end_time": "2023-05-12T11:45:31.376453Z",
     "start_time": "2023-05-12T11:45:30.171077Z"
    }
   },
   "outputs": [],
   "source": [
    "import pandas as pd\n",
    "import matplotlib.pyplot as plt"
   ]
  },
  {
   "cell_type": "markdown",
   "id": "50d6a92a",
   "metadata": {},
   "source": [
    "# rcParams\n",
    "* rcParams : Runtime Configuration Parameters\n",
    "* 그래프를 구성하는 공통 속성을 지정한다."
   ]
  },
  {
   "cell_type": "code",
   "execution_count": 2,
   "id": "e4d9697f",
   "metadata": {
    "ExecuteTime": {
     "end_time": "2023-05-12T11:45:35.318560Z",
     "start_time": "2023-05-12T11:45:35.308559Z"
    }
   },
   "outputs": [],
   "source": [
    "# 그래프에 한글폰트 설정\n",
    "plt.rcParams['font.family']='NanumGothic'\n",
    "\n",
    "# 그래프에 마이너스 기호 깨지는 문제 해결\n",
    "plt.rcParams['axes.unicode_minus'] = False"
   ]
  },
  {
   "cell_type": "markdown",
   "id": "a782b266",
   "metadata": {},
   "source": [
    "## rcParams의 종류"
   ]
  },
  {
   "cell_type": "code",
   "execution_count": 3,
   "id": "0b7962c4",
   "metadata": {
    "ExecuteTime": {
     "end_time": "2023-05-12T11:45:41.608786Z",
     "start_time": "2023-05-12T11:45:41.586791Z"
    },
    "scrolled": false
   },
   "outputs": [
    {
     "data": {
      "text/plain": [
       "RcParams({'_internal.classic_mode': False,\n",
       "          'agg.path.chunksize': 0,\n",
       "          'animation.bitrate': -1,\n",
       "          'animation.codec': 'h264',\n",
       "          'animation.convert_args': ['-layers', 'OptimizePlus'],\n",
       "          'animation.convert_path': 'convert',\n",
       "          'animation.embed_limit': 20.0,\n",
       "          'animation.ffmpeg_args': [],\n",
       "          'animation.ffmpeg_path': 'ffmpeg',\n",
       "          'animation.frame_format': 'png',\n",
       "          'animation.html': 'none',\n",
       "          'animation.writer': 'ffmpeg',\n",
       "          'axes.autolimit_mode': 'data',\n",
       "          'axes.axisbelow': 'line',\n",
       "          'axes.edgecolor': 'black',\n",
       "          'axes.facecolor': 'white',\n",
       "          'axes.formatter.limits': [-5, 6],\n",
       "          'axes.formatter.min_exponent': 0,\n",
       "          'axes.formatter.offset_threshold': 4,\n",
       "          'axes.formatter.use_locale': False,\n",
       "          'axes.formatter.use_mathtext': False,\n",
       "          'axes.formatter.useoffset': True,\n",
       "          'axes.grid': False,\n",
       "          'axes.grid.axis': 'both',\n",
       "          'axes.grid.which': 'major',\n",
       "          'axes.labelcolor': 'black',\n",
       "          'axes.labelpad': 4.0,\n",
       "          'axes.labelsize': 'medium',\n",
       "          'axes.labelweight': 'normal',\n",
       "          'axes.linewidth': 0.8,\n",
       "          'axes.prop_cycle': cycler('color', ['#1f77b4', '#ff7f0e', '#2ca02c', '#d62728', '#9467bd', '#8c564b', '#e377c2', '#7f7f7f', '#bcbd22', '#17becf']),\n",
       "          'axes.spines.bottom': True,\n",
       "          'axes.spines.left': True,\n",
       "          'axes.spines.right': True,\n",
       "          'axes.spines.top': True,\n",
       "          'axes.titlecolor': 'auto',\n",
       "          'axes.titlelocation': 'center',\n",
       "          'axes.titlepad': 6.0,\n",
       "          'axes.titlesize': 'large',\n",
       "          'axes.titleweight': 'normal',\n",
       "          'axes.titley': None,\n",
       "          'axes.unicode_minus': False,\n",
       "          'axes.xmargin': 0.05,\n",
       "          'axes.ymargin': 0.05,\n",
       "          'axes.zmargin': 0.05,\n",
       "          'axes3d.grid': True,\n",
       "          'backend': 'module://matplotlib_inline.backend_inline',\n",
       "          'backend_fallback': True,\n",
       "          'boxplot.bootstrap': None,\n",
       "          'boxplot.boxprops.color': 'black',\n",
       "          'boxplot.boxprops.linestyle': '-',\n",
       "          'boxplot.boxprops.linewidth': 1.0,\n",
       "          'boxplot.capprops.color': 'black',\n",
       "          'boxplot.capprops.linestyle': '-',\n",
       "          'boxplot.capprops.linewidth': 1.0,\n",
       "          'boxplot.flierprops.color': 'black',\n",
       "          'boxplot.flierprops.linestyle': 'none',\n",
       "          'boxplot.flierprops.linewidth': 1.0,\n",
       "          'boxplot.flierprops.marker': 'o',\n",
       "          'boxplot.flierprops.markeredgecolor': 'black',\n",
       "          'boxplot.flierprops.markeredgewidth': 1.0,\n",
       "          'boxplot.flierprops.markerfacecolor': 'none',\n",
       "          'boxplot.flierprops.markersize': 6.0,\n",
       "          'boxplot.meanline': False,\n",
       "          'boxplot.meanprops.color': 'C2',\n",
       "          'boxplot.meanprops.linestyle': '--',\n",
       "          'boxplot.meanprops.linewidth': 1.0,\n",
       "          'boxplot.meanprops.marker': '^',\n",
       "          'boxplot.meanprops.markeredgecolor': 'C2',\n",
       "          'boxplot.meanprops.markerfacecolor': 'C2',\n",
       "          'boxplot.meanprops.markersize': 6.0,\n",
       "          'boxplot.medianprops.color': 'C1',\n",
       "          'boxplot.medianprops.linestyle': '-',\n",
       "          'boxplot.medianprops.linewidth': 1.0,\n",
       "          'boxplot.notch': False,\n",
       "          'boxplot.patchartist': False,\n",
       "          'boxplot.showbox': True,\n",
       "          'boxplot.showcaps': True,\n",
       "          'boxplot.showfliers': True,\n",
       "          'boxplot.showmeans': False,\n",
       "          'boxplot.vertical': True,\n",
       "          'boxplot.whiskerprops.color': 'black',\n",
       "          'boxplot.whiskerprops.linestyle': '-',\n",
       "          'boxplot.whiskerprops.linewidth': 1.0,\n",
       "          'boxplot.whiskers': 1.5,\n",
       "          'contour.algorithm': 'mpl2014',\n",
       "          'contour.corner_mask': True,\n",
       "          'contour.linewidth': None,\n",
       "          'contour.negative_linestyle': 'dashed',\n",
       "          'date.autoformatter.day': '%Y-%m-%d',\n",
       "          'date.autoformatter.hour': '%m-%d %H',\n",
       "          'date.autoformatter.microsecond': '%M:%S.%f',\n",
       "          'date.autoformatter.minute': '%d %H:%M',\n",
       "          'date.autoformatter.month': '%Y-%m',\n",
       "          'date.autoformatter.second': '%H:%M:%S',\n",
       "          'date.autoformatter.year': '%Y',\n",
       "          'date.converter': 'auto',\n",
       "          'date.epoch': '1970-01-01T00:00:00',\n",
       "          'date.interval_multiples': True,\n",
       "          'docstring.hardcopy': False,\n",
       "          'errorbar.capsize': 0.0,\n",
       "          'figure.autolayout': False,\n",
       "          'figure.constrained_layout.h_pad': 0.04167,\n",
       "          'figure.constrained_layout.hspace': 0.02,\n",
       "          'figure.constrained_layout.use': False,\n",
       "          'figure.constrained_layout.w_pad': 0.04167,\n",
       "          'figure.constrained_layout.wspace': 0.02,\n",
       "          'figure.dpi': 100.0,\n",
       "          'figure.edgecolor': 'white',\n",
       "          'figure.facecolor': 'white',\n",
       "          'figure.figsize': [6.4, 4.8],\n",
       "          'figure.frameon': True,\n",
       "          'figure.labelsize': 'large',\n",
       "          'figure.labelweight': 'normal',\n",
       "          'figure.max_open_warning': 20,\n",
       "          'figure.raise_window': True,\n",
       "          'figure.subplot.bottom': 0.11,\n",
       "          'figure.subplot.hspace': 0.2,\n",
       "          'figure.subplot.left': 0.125,\n",
       "          'figure.subplot.right': 0.9,\n",
       "          'figure.subplot.top': 0.88,\n",
       "          'figure.subplot.wspace': 0.2,\n",
       "          'figure.titlesize': 'large',\n",
       "          'figure.titleweight': 'normal',\n",
       "          'font.cursive': ['Apple Chancery',\n",
       "                           'Textile',\n",
       "                           'Zapf Chancery',\n",
       "                           'Sand',\n",
       "                           'Script MT',\n",
       "                           'Felipa',\n",
       "                           'Comic Neue',\n",
       "                           'Comic Sans MS',\n",
       "                           'cursive'],\n",
       "          'font.family': ['NanumGothic'],\n",
       "          'font.fantasy': ['Chicago',\n",
       "                           'Charcoal',\n",
       "                           'Impact',\n",
       "                           'Western',\n",
       "                           'Humor Sans',\n",
       "                           'xkcd',\n",
       "                           'fantasy'],\n",
       "          'font.monospace': ['DejaVu Sans Mono',\n",
       "                             'Bitstream Vera Sans Mono',\n",
       "                             'Computer Modern Typewriter',\n",
       "                             'Andale Mono',\n",
       "                             'Nimbus Mono L',\n",
       "                             'Courier New',\n",
       "                             'Courier',\n",
       "                             'Fixed',\n",
       "                             'Terminal',\n",
       "                             'monospace'],\n",
       "          'font.sans-serif': ['DejaVu Sans',\n",
       "                              'Bitstream Vera Sans',\n",
       "                              'Computer Modern Sans Serif',\n",
       "                              'Lucida Grande',\n",
       "                              'Verdana',\n",
       "                              'Geneva',\n",
       "                              'Lucid',\n",
       "                              'Arial',\n",
       "                              'Helvetica',\n",
       "                              'Avant Garde',\n",
       "                              'sans-serif'],\n",
       "          'font.serif': ['DejaVu Serif',\n",
       "                         'Bitstream Vera Serif',\n",
       "                         'Computer Modern Roman',\n",
       "                         'New Century Schoolbook',\n",
       "                         'Century Schoolbook L',\n",
       "                         'Utopia',\n",
       "                         'ITC Bookman',\n",
       "                         'Bookman',\n",
       "                         'Nimbus Roman No9 L',\n",
       "                         'Times New Roman',\n",
       "                         'Times',\n",
       "                         'Palatino',\n",
       "                         'Charter',\n",
       "                         'serif'],\n",
       "          'font.size': 10.0,\n",
       "          'font.stretch': 'normal',\n",
       "          'font.style': 'normal',\n",
       "          'font.variant': 'normal',\n",
       "          'font.weight': 'normal',\n",
       "          'grid.alpha': 1.0,\n",
       "          'grid.color': '#b0b0b0',\n",
       "          'grid.linestyle': '-',\n",
       "          'grid.linewidth': 0.8,\n",
       "          'hatch.color': 'black',\n",
       "          'hatch.linewidth': 1.0,\n",
       "          'hist.bins': 10,\n",
       "          'image.aspect': 'equal',\n",
       "          'image.cmap': 'viridis',\n",
       "          'image.composite_image': True,\n",
       "          'image.interpolation': 'antialiased',\n",
       "          'image.lut': 256,\n",
       "          'image.origin': 'upper',\n",
       "          'image.resample': True,\n",
       "          'interactive': False,\n",
       "          'keymap.back': ['left', 'c', 'backspace', 'MouseButton.BACK'],\n",
       "          'keymap.copy': ['ctrl+c', 'cmd+c'],\n",
       "          'keymap.forward': ['right', 'v', 'MouseButton.FORWARD'],\n",
       "          'keymap.fullscreen': ['f', 'ctrl+f'],\n",
       "          'keymap.grid': ['g'],\n",
       "          'keymap.grid_minor': ['G'],\n",
       "          'keymap.help': ['f1'],\n",
       "          'keymap.home': ['h', 'r', 'home'],\n",
       "          'keymap.pan': ['p'],\n",
       "          'keymap.quit': ['ctrl+w', 'cmd+w', 'q'],\n",
       "          'keymap.quit_all': [],\n",
       "          'keymap.save': ['s', 'ctrl+s'],\n",
       "          'keymap.xscale': ['k', 'L'],\n",
       "          'keymap.yscale': ['l'],\n",
       "          'keymap.zoom': ['o'],\n",
       "          'legend.borderaxespad': 0.5,\n",
       "          'legend.borderpad': 0.4,\n",
       "          'legend.columnspacing': 2.0,\n",
       "          'legend.edgecolor': '0.8',\n",
       "          'legend.facecolor': 'inherit',\n",
       "          'legend.fancybox': True,\n",
       "          'legend.fontsize': 'medium',\n",
       "          'legend.framealpha': 0.8,\n",
       "          'legend.frameon': True,\n",
       "          'legend.handleheight': 0.7,\n",
       "          'legend.handlelength': 2.0,\n",
       "          'legend.handletextpad': 0.8,\n",
       "          'legend.labelcolor': 'None',\n",
       "          'legend.labelspacing': 0.5,\n",
       "          'legend.loc': 'best',\n",
       "          'legend.markerscale': 1.0,\n",
       "          'legend.numpoints': 1,\n",
       "          'legend.scatterpoints': 1,\n",
       "          'legend.shadow': False,\n",
       "          'legend.title_fontsize': None,\n",
       "          'lines.antialiased': True,\n",
       "          'lines.color': 'C0',\n",
       "          'lines.dash_capstyle': <CapStyle.butt: 'butt'>,\n",
       "          'lines.dash_joinstyle': <JoinStyle.round: 'round'>,\n",
       "          'lines.dashdot_pattern': [6.4, 1.6, 1.0, 1.6],\n",
       "          'lines.dashed_pattern': [3.7, 1.6],\n",
       "          'lines.dotted_pattern': [1.0, 1.65],\n",
       "          'lines.linestyle': '-',\n",
       "          'lines.linewidth': 1.5,\n",
       "          'lines.marker': 'None',\n",
       "          'lines.markeredgecolor': 'auto',\n",
       "          'lines.markeredgewidth': 1.0,\n",
       "          'lines.markerfacecolor': 'auto',\n",
       "          'lines.markersize': 6.0,\n",
       "          'lines.scale_dashes': True,\n",
       "          'lines.solid_capstyle': <CapStyle.projecting: 'projecting'>,\n",
       "          'lines.solid_joinstyle': <JoinStyle.round: 'round'>,\n",
       "          'markers.fillstyle': 'full',\n",
       "          'mathtext.bf': 'sans:bold',\n",
       "          'mathtext.cal': 'cursive',\n",
       "          'mathtext.default': 'it',\n",
       "          'mathtext.fallback': 'cm',\n",
       "          'mathtext.fontset': 'dejavusans',\n",
       "          'mathtext.it': 'sans:italic',\n",
       "          'mathtext.rm': 'sans',\n",
       "          'mathtext.sf': 'sans',\n",
       "          'mathtext.tt': 'monospace',\n",
       "          'patch.antialiased': True,\n",
       "          'patch.edgecolor': 'black',\n",
       "          'patch.facecolor': 'C0',\n",
       "          'patch.force_edgecolor': False,\n",
       "          'patch.linewidth': 1.0,\n",
       "          'path.effects': [],\n",
       "          'path.simplify': True,\n",
       "          'path.simplify_threshold': 0.111111111111,\n",
       "          'path.sketch': None,\n",
       "          'path.snap': True,\n",
       "          'pcolor.shading': 'auto',\n",
       "          'pcolormesh.snap': True,\n",
       "          'pdf.compression': 6,\n",
       "          'pdf.fonttype': 3,\n",
       "          'pdf.inheritcolor': False,\n",
       "          'pdf.use14corefonts': False,\n",
       "          'pgf.preamble': '',\n",
       "          'pgf.rcfonts': True,\n",
       "          'pgf.texsystem': 'xelatex',\n",
       "          'polaraxes.grid': True,\n",
       "          'ps.distiller.res': 6000,\n",
       "          'ps.fonttype': 3,\n",
       "          'ps.papersize': 'letter',\n",
       "          'ps.useafm': False,\n",
       "          'ps.usedistiller': None,\n",
       "          'savefig.bbox': None,\n",
       "          'savefig.directory': '~',\n",
       "          'savefig.dpi': 'figure',\n",
       "          'savefig.edgecolor': 'auto',\n",
       "          'savefig.facecolor': 'auto',\n",
       "          'savefig.format': 'png',\n",
       "          'savefig.orientation': 'portrait',\n",
       "          'savefig.pad_inches': 0.1,\n",
       "          'savefig.transparent': False,\n",
       "          'scatter.edgecolors': 'face',\n",
       "          'scatter.marker': 'o',\n",
       "          'svg.fonttype': 'path',\n",
       "          'svg.hashsalt': None,\n",
       "          'svg.image_inline': True,\n",
       "          'text.antialiased': True,\n",
       "          'text.color': 'black',\n",
       "          'text.hinting': 'force_autohint',\n",
       "          'text.hinting_factor': 8,\n",
       "          'text.kerning_factor': 0,\n",
       "          'text.latex.preamble': '',\n",
       "          'text.parse_math': True,\n",
       "          'text.usetex': False,\n",
       "          'timezone': 'UTC',\n",
       "          'tk.window_focus': False,\n",
       "          'toolbar': 'toolbar2',\n",
       "          'webagg.address': '127.0.0.1',\n",
       "          'webagg.open_in_browser': True,\n",
       "          'webagg.port': 8988,\n",
       "          'webagg.port_retries': 50,\n",
       "          'xaxis.labellocation': 'center',\n",
       "          'xtick.alignment': 'center',\n",
       "          'xtick.bottom': True,\n",
       "          'xtick.color': 'black',\n",
       "          'xtick.direction': 'out',\n",
       "          'xtick.labelbottom': True,\n",
       "          'xtick.labelcolor': 'inherit',\n",
       "          'xtick.labelsize': 'medium',\n",
       "          'xtick.labeltop': False,\n",
       "          'xtick.major.bottom': True,\n",
       "          'xtick.major.pad': 3.5,\n",
       "          'xtick.major.size': 3.5,\n",
       "          'xtick.major.top': True,\n",
       "          'xtick.major.width': 0.8,\n",
       "          'xtick.minor.bottom': True,\n",
       "          'xtick.minor.pad': 3.4,\n",
       "          'xtick.minor.size': 2.0,\n",
       "          'xtick.minor.top': True,\n",
       "          'xtick.minor.visible': False,\n",
       "          'xtick.minor.width': 0.6,\n",
       "          'xtick.top': False,\n",
       "          'yaxis.labellocation': 'center',\n",
       "          'ytick.alignment': 'center_baseline',\n",
       "          'ytick.color': 'black',\n",
       "          'ytick.direction': 'out',\n",
       "          'ytick.labelcolor': 'inherit',\n",
       "          'ytick.labelleft': True,\n",
       "          'ytick.labelright': False,\n",
       "          'ytick.labelsize': 'medium',\n",
       "          'ytick.left': True,\n",
       "          'ytick.major.left': True,\n",
       "          'ytick.major.pad': 3.5,\n",
       "          'ytick.major.right': True,\n",
       "          'ytick.major.size': 3.5,\n",
       "          'ytick.major.width': 0.8,\n",
       "          'ytick.minor.left': True,\n",
       "          'ytick.minor.pad': 3.4,\n",
       "          'ytick.minor.right': True,\n",
       "          'ytick.minor.size': 2.0,\n",
       "          'ytick.minor.visible': False,\n",
       "          'ytick.minor.width': 0.6,\n",
       "          'ytick.right': False})"
      ]
     },
     "execution_count": 3,
     "metadata": {},
     "output_type": "execute_result"
    }
   ],
   "source": [
    "plt.rcParams"
   ]
  },
  {
   "cell_type": "markdown",
   "id": "983e163c",
   "metadata": {},
   "source": [
    "## rcParams 사용하기"
   ]
  },
  {
   "cell_type": "markdown",
   "id": "e822f41f",
   "metadata": {},
   "source": [
    "### figure"
   ]
  },
  {
   "cell_type": "code",
   "execution_count": 4,
   "id": "8079d650",
   "metadata": {
    "ExecuteTime": {
     "end_time": "2023-05-12T11:45:50.544810Z",
     "start_time": "2023-05-12T11:45:50.532810Z"
    }
   },
   "outputs": [],
   "source": [
    "# figure 크기\n",
    "plt.rcParams['figure.figsize']=(9,4)"
   ]
  },
  {
   "cell_type": "markdown",
   "id": "9328243f",
   "metadata": {},
   "source": [
    "### axes"
   ]
  },
  {
   "cell_type": "code",
   "execution_count": 5,
   "id": "67df1274",
   "metadata": {
    "ExecuteTime": {
     "end_time": "2023-05-12T11:45:51.855090Z",
     "start_time": "2023-05-12T11:45:51.836089Z"
    }
   },
   "outputs": [],
   "source": [
    "# 그래프 테두리 두께\n",
    "plt.rcParams['axes.linewidth'] = 2\n",
    "\n",
    "# 그래프 테두리 색\n",
    "plt.rcParams['axes.edgecolor'] = 'navy'\n",
    "\n",
    "# 그래프 바탕 색\n",
    "plt.rcParams['axes.facecolor'] = 'ghostwhite'\n",
    "\n",
    "# 그리드 표시\n",
    "plt.rcParams['axes.grid'] = True"
   ]
  },
  {
   "cell_type": "code",
   "execution_count": 6,
   "id": "8fbbdbad",
   "metadata": {
    "ExecuteTime": {
     "end_time": "2023-05-12T11:45:53.976837Z",
     "start_time": "2023-05-12T11:45:53.955840Z"
    }
   },
   "outputs": [],
   "source": [
    "# 그래프 제목\n",
    "plt.rcParams['axes.titlecolor'] = 'navy'\n",
    "plt.rcParams['axes.titlesize'] = 15\n",
    "plt.rcParams['axes.titleweight']='bold'"
   ]
  },
  {
   "cell_type": "code",
   "execution_count": 7,
   "id": "0c36810a",
   "metadata": {
    "ExecuteTime": {
     "end_time": "2023-05-12T11:45:54.633702Z",
     "start_time": "2023-05-12T11:45:54.628701Z"
    }
   },
   "outputs": [],
   "source": [
    "# 레이블\n",
    "plt.rcParams['axes.labelcolor'] = 'gray'\n",
    "plt.rcParams['axes.labelsize'] = 12"
   ]
  },
  {
   "cell_type": "markdown",
   "id": "f8041e60",
   "metadata": {},
   "source": [
    "### 그리드"
   ]
  },
  {
   "cell_type": "code",
   "execution_count": 8,
   "id": "401de52c",
   "metadata": {
    "ExecuteTime": {
     "end_time": "2023-05-12T11:45:56.151372Z",
     "start_time": "2023-05-12T11:45:56.131589Z"
    }
   },
   "outputs": [],
   "source": [
    "plt.rcParams['grid.alpha'] = 0.3\n",
    "plt.rcParams['grid.color'] = 'skyblue'\n",
    "plt.rcParams['grid.linestyle'] ='--'"
   ]
  },
  {
   "cell_type": "markdown",
   "id": "2b7be672",
   "metadata": {},
   "source": [
    "### 폰트"
   ]
  },
  {
   "cell_type": "code",
   "execution_count": 9,
   "id": "1553b3f6",
   "metadata": {
    "ExecuteTime": {
     "end_time": "2023-05-12T11:46:00.187064Z",
     "start_time": "2023-05-12T11:46:00.181062Z"
    }
   },
   "outputs": [],
   "source": [
    "plt.rcParams['font.size']=12"
   ]
  },
  {
   "cell_type": "markdown",
   "id": "2cf96cab",
   "metadata": {},
   "source": [
    "### 눈금"
   ]
  },
  {
   "cell_type": "code",
   "execution_count": 10,
   "id": "00acfa1d",
   "metadata": {
    "ExecuteTime": {
     "end_time": "2023-05-12T11:46:01.823619Z",
     "start_time": "2023-05-12T11:46:01.813616Z"
    }
   },
   "outputs": [],
   "source": [
    "plt.rcParams['xtick.top'] = True\n",
    "plt.rcParams['ytick.right'] = True\n",
    "plt.rcParams['xtick.direction'] = 'in'\n",
    "plt.rcParams['ytick.direction'] = 'in'\n",
    "plt.rcParams['xtick.major.size'] = 10\n",
    "plt.rcParams['ytick.major.size'] = 10"
   ]
  },
  {
   "cell_type": "markdown",
   "id": "3e657b18",
   "metadata": {},
   "source": [
    "### 선"
   ]
  },
  {
   "cell_type": "code",
   "execution_count": 11,
   "id": "c0b58085",
   "metadata": {
    "ExecuteTime": {
     "end_time": "2023-05-12T11:46:03.873934Z",
     "start_time": "2023-05-12T11:46:03.866929Z"
    }
   },
   "outputs": [],
   "source": [
    "plt.rcParams['lines.linewidth']=3\n",
    "plt.rcParams['lines.linestyle']='--'\n",
    "plt.rcParams['lines.marker'] ='o'"
   ]
  },
  {
   "cell_type": "markdown",
   "id": "adb97709",
   "metadata": {},
   "source": [
    "### 패턴"
   ]
  },
  {
   "cell_type": "code",
   "execution_count": 12,
   "id": "d78ef0a7",
   "metadata": {
    "ExecuteTime": {
     "end_time": "2023-05-12T11:46:05.791374Z",
     "start_time": "2023-05-12T11:46:05.786371Z"
    }
   },
   "outputs": [],
   "source": [
    "plt.rcParams['hatch.linewidth']=3\n",
    "plt.rcParams['hatch.color'] = 'w'"
   ]
  },
  {
   "cell_type": "markdown",
   "id": "c8d58c07",
   "metadata": {},
   "source": [
    "### 박스"
   ]
  },
  {
   "cell_type": "code",
   "execution_count": 13,
   "id": "bea94f43",
   "metadata": {
    "ExecuteTime": {
     "end_time": "2023-05-12T11:46:06.834677Z",
     "start_time": "2023-05-12T11:46:06.818678Z"
    },
    "scrolled": true
   },
   "outputs": [],
   "source": [
    "# 박스\n",
    "plt.rcParams['boxplot.boxprops.color'] = 'b'\n",
    "plt.rcParams['boxplot.boxprops.linewidth'] = 2\n",
    "\n",
    "# 최대값, 최소값\n",
    "plt.rcParams['boxplot.capprops.color'] = 'r'\n",
    "plt.rcParams['boxplot.capprops.linewidth'] = 2\n",
    "\n",
    "# 평균\n",
    "plt.rcParams['boxplot.showmeans'] = True"
   ]
  },
  {
   "cell_type": "code",
   "execution_count": 14,
   "id": "afa083ed",
   "metadata": {
    "ExecuteTime": {
     "end_time": "2023-05-12T11:46:07.477622Z",
     "start_time": "2023-05-12T11:46:07.458593Z"
    },
    "scrolled": false
   },
   "outputs": [
    {
     "data": {
      "text/plain": [
       "RcParams({'_internal.classic_mode': False,\n",
       "          'agg.path.chunksize': 0,\n",
       "          'animation.bitrate': -1,\n",
       "          'animation.codec': 'h264',\n",
       "          'animation.convert_args': ['-layers', 'OptimizePlus'],\n",
       "          'animation.convert_path': 'convert',\n",
       "          'animation.embed_limit': 20.0,\n",
       "          'animation.ffmpeg_args': [],\n",
       "          'animation.ffmpeg_path': 'ffmpeg',\n",
       "          'animation.frame_format': 'png',\n",
       "          'animation.html': 'none',\n",
       "          'animation.writer': 'ffmpeg',\n",
       "          'axes.autolimit_mode': 'data',\n",
       "          'axes.axisbelow': 'line',\n",
       "          'axes.edgecolor': 'navy',\n",
       "          'axes.facecolor': 'ghostwhite',\n",
       "          'axes.formatter.limits': [-5, 6],\n",
       "          'axes.formatter.min_exponent': 0,\n",
       "          'axes.formatter.offset_threshold': 4,\n",
       "          'axes.formatter.use_locale': False,\n",
       "          'axes.formatter.use_mathtext': False,\n",
       "          'axes.formatter.useoffset': True,\n",
       "          'axes.grid': True,\n",
       "          'axes.grid.axis': 'both',\n",
       "          'axes.grid.which': 'major',\n",
       "          'axes.labelcolor': 'gray',\n",
       "          'axes.labelpad': 4.0,\n",
       "          'axes.labelsize': 12.0,\n",
       "          'axes.labelweight': 'normal',\n",
       "          'axes.linewidth': 2.0,\n",
       "          'axes.prop_cycle': cycler('color', ['#1f77b4', '#ff7f0e', '#2ca02c', '#d62728', '#9467bd', '#8c564b', '#e377c2', '#7f7f7f', '#bcbd22', '#17becf']),\n",
       "          'axes.spines.bottom': True,\n",
       "          'axes.spines.left': True,\n",
       "          'axes.spines.right': True,\n",
       "          'axes.spines.top': True,\n",
       "          'axes.titlecolor': 'navy',\n",
       "          'axes.titlelocation': 'center',\n",
       "          'axes.titlepad': 6.0,\n",
       "          'axes.titlesize': 15.0,\n",
       "          'axes.titleweight': 'bold',\n",
       "          'axes.titley': None,\n",
       "          'axes.unicode_minus': False,\n",
       "          'axes.xmargin': 0.05,\n",
       "          'axes.ymargin': 0.05,\n",
       "          'axes.zmargin': 0.05,\n",
       "          'axes3d.grid': True,\n",
       "          'backend': 'module://matplotlib_inline.backend_inline',\n",
       "          'backend_fallback': True,\n",
       "          'boxplot.bootstrap': None,\n",
       "          'boxplot.boxprops.color': 'b',\n",
       "          'boxplot.boxprops.linestyle': '-',\n",
       "          'boxplot.boxprops.linewidth': 2.0,\n",
       "          'boxplot.capprops.color': 'r',\n",
       "          'boxplot.capprops.linestyle': '-',\n",
       "          'boxplot.capprops.linewidth': 2.0,\n",
       "          'boxplot.flierprops.color': 'black',\n",
       "          'boxplot.flierprops.linestyle': 'none',\n",
       "          'boxplot.flierprops.linewidth': 1.0,\n",
       "          'boxplot.flierprops.marker': 'o',\n",
       "          'boxplot.flierprops.markeredgecolor': 'black',\n",
       "          'boxplot.flierprops.markeredgewidth': 1.0,\n",
       "          'boxplot.flierprops.markerfacecolor': 'none',\n",
       "          'boxplot.flierprops.markersize': 6.0,\n",
       "          'boxplot.meanline': False,\n",
       "          'boxplot.meanprops.color': 'C2',\n",
       "          'boxplot.meanprops.linestyle': '--',\n",
       "          'boxplot.meanprops.linewidth': 1.0,\n",
       "          'boxplot.meanprops.marker': '^',\n",
       "          'boxplot.meanprops.markeredgecolor': 'C2',\n",
       "          'boxplot.meanprops.markerfacecolor': 'C2',\n",
       "          'boxplot.meanprops.markersize': 6.0,\n",
       "          'boxplot.medianprops.color': 'C1',\n",
       "          'boxplot.medianprops.linestyle': '-',\n",
       "          'boxplot.medianprops.linewidth': 1.0,\n",
       "          'boxplot.notch': False,\n",
       "          'boxplot.patchartist': False,\n",
       "          'boxplot.showbox': True,\n",
       "          'boxplot.showcaps': True,\n",
       "          'boxplot.showfliers': True,\n",
       "          'boxplot.showmeans': True,\n",
       "          'boxplot.vertical': True,\n",
       "          'boxplot.whiskerprops.color': 'black',\n",
       "          'boxplot.whiskerprops.linestyle': '-',\n",
       "          'boxplot.whiskerprops.linewidth': 1.0,\n",
       "          'boxplot.whiskers': 1.5,\n",
       "          'contour.algorithm': 'mpl2014',\n",
       "          'contour.corner_mask': True,\n",
       "          'contour.linewidth': None,\n",
       "          'contour.negative_linestyle': 'dashed',\n",
       "          'date.autoformatter.day': '%Y-%m-%d',\n",
       "          'date.autoformatter.hour': '%m-%d %H',\n",
       "          'date.autoformatter.microsecond': '%M:%S.%f',\n",
       "          'date.autoformatter.minute': '%d %H:%M',\n",
       "          'date.autoformatter.month': '%Y-%m',\n",
       "          'date.autoformatter.second': '%H:%M:%S',\n",
       "          'date.autoformatter.year': '%Y',\n",
       "          'date.converter': 'auto',\n",
       "          'date.epoch': '1970-01-01T00:00:00',\n",
       "          'date.interval_multiples': True,\n",
       "          'docstring.hardcopy': False,\n",
       "          'errorbar.capsize': 0.0,\n",
       "          'figure.autolayout': False,\n",
       "          'figure.constrained_layout.h_pad': 0.04167,\n",
       "          'figure.constrained_layout.hspace': 0.02,\n",
       "          'figure.constrained_layout.use': False,\n",
       "          'figure.constrained_layout.w_pad': 0.04167,\n",
       "          'figure.constrained_layout.wspace': 0.02,\n",
       "          'figure.dpi': 100.0,\n",
       "          'figure.edgecolor': 'white',\n",
       "          'figure.facecolor': 'white',\n",
       "          'figure.figsize': [9.0, 4.0],\n",
       "          'figure.frameon': True,\n",
       "          'figure.labelsize': 'large',\n",
       "          'figure.labelweight': 'normal',\n",
       "          'figure.max_open_warning': 20,\n",
       "          'figure.raise_window': True,\n",
       "          'figure.subplot.bottom': 0.11,\n",
       "          'figure.subplot.hspace': 0.2,\n",
       "          'figure.subplot.left': 0.125,\n",
       "          'figure.subplot.right': 0.9,\n",
       "          'figure.subplot.top': 0.88,\n",
       "          'figure.subplot.wspace': 0.2,\n",
       "          'figure.titlesize': 'large',\n",
       "          'figure.titleweight': 'normal',\n",
       "          'font.cursive': ['Apple Chancery',\n",
       "                           'Textile',\n",
       "                           'Zapf Chancery',\n",
       "                           'Sand',\n",
       "                           'Script MT',\n",
       "                           'Felipa',\n",
       "                           'Comic Neue',\n",
       "                           'Comic Sans MS',\n",
       "                           'cursive'],\n",
       "          'font.family': ['NanumGothic'],\n",
       "          'font.fantasy': ['Chicago',\n",
       "                           'Charcoal',\n",
       "                           'Impact',\n",
       "                           'Western',\n",
       "                           'Humor Sans',\n",
       "                           'xkcd',\n",
       "                           'fantasy'],\n",
       "          'font.monospace': ['DejaVu Sans Mono',\n",
       "                             'Bitstream Vera Sans Mono',\n",
       "                             'Computer Modern Typewriter',\n",
       "                             'Andale Mono',\n",
       "                             'Nimbus Mono L',\n",
       "                             'Courier New',\n",
       "                             'Courier',\n",
       "                             'Fixed',\n",
       "                             'Terminal',\n",
       "                             'monospace'],\n",
       "          'font.sans-serif': ['DejaVu Sans',\n",
       "                              'Bitstream Vera Sans',\n",
       "                              'Computer Modern Sans Serif',\n",
       "                              'Lucida Grande',\n",
       "                              'Verdana',\n",
       "                              'Geneva',\n",
       "                              'Lucid',\n",
       "                              'Arial',\n",
       "                              'Helvetica',\n",
       "                              'Avant Garde',\n",
       "                              'sans-serif'],\n",
       "          'font.serif': ['DejaVu Serif',\n",
       "                         'Bitstream Vera Serif',\n",
       "                         'Computer Modern Roman',\n",
       "                         'New Century Schoolbook',\n",
       "                         'Century Schoolbook L',\n",
       "                         'Utopia',\n",
       "                         'ITC Bookman',\n",
       "                         'Bookman',\n",
       "                         'Nimbus Roman No9 L',\n",
       "                         'Times New Roman',\n",
       "                         'Times',\n",
       "                         'Palatino',\n",
       "                         'Charter',\n",
       "                         'serif'],\n",
       "          'font.size': 12.0,\n",
       "          'font.stretch': 'normal',\n",
       "          'font.style': 'normal',\n",
       "          'font.variant': 'normal',\n",
       "          'font.weight': 'normal',\n",
       "          'grid.alpha': 0.3,\n",
       "          'grid.color': 'skyblue',\n",
       "          'grid.linestyle': '--',\n",
       "          'grid.linewidth': 0.8,\n",
       "          'hatch.color': 'w',\n",
       "          'hatch.linewidth': 3.0,\n",
       "          'hist.bins': 10,\n",
       "          'image.aspect': 'equal',\n",
       "          'image.cmap': 'viridis',\n",
       "          'image.composite_image': True,\n",
       "          'image.interpolation': 'antialiased',\n",
       "          'image.lut': 256,\n",
       "          'image.origin': 'upper',\n",
       "          'image.resample': True,\n",
       "          'interactive': False,\n",
       "          'keymap.back': ['left', 'c', 'backspace', 'MouseButton.BACK'],\n",
       "          'keymap.copy': ['ctrl+c', 'cmd+c'],\n",
       "          'keymap.forward': ['right', 'v', 'MouseButton.FORWARD'],\n",
       "          'keymap.fullscreen': ['f', 'ctrl+f'],\n",
       "          'keymap.grid': ['g'],\n",
       "          'keymap.grid_minor': ['G'],\n",
       "          'keymap.help': ['f1'],\n",
       "          'keymap.home': ['h', 'r', 'home'],\n",
       "          'keymap.pan': ['p'],\n",
       "          'keymap.quit': ['ctrl+w', 'cmd+w', 'q'],\n",
       "          'keymap.quit_all': [],\n",
       "          'keymap.save': ['s', 'ctrl+s'],\n",
       "          'keymap.xscale': ['k', 'L'],\n",
       "          'keymap.yscale': ['l'],\n",
       "          'keymap.zoom': ['o'],\n",
       "          'legend.borderaxespad': 0.5,\n",
       "          'legend.borderpad': 0.4,\n",
       "          'legend.columnspacing': 2.0,\n",
       "          'legend.edgecolor': '0.8',\n",
       "          'legend.facecolor': 'inherit',\n",
       "          'legend.fancybox': True,\n",
       "          'legend.fontsize': 'medium',\n",
       "          'legend.framealpha': 0.8,\n",
       "          'legend.frameon': True,\n",
       "          'legend.handleheight': 0.7,\n",
       "          'legend.handlelength': 2.0,\n",
       "          'legend.handletextpad': 0.8,\n",
       "          'legend.labelcolor': 'None',\n",
       "          'legend.labelspacing': 0.5,\n",
       "          'legend.loc': 'best',\n",
       "          'legend.markerscale': 1.0,\n",
       "          'legend.numpoints': 1,\n",
       "          'legend.scatterpoints': 1,\n",
       "          'legend.shadow': False,\n",
       "          'legend.title_fontsize': None,\n",
       "          'lines.antialiased': True,\n",
       "          'lines.color': 'C0',\n",
       "          'lines.dash_capstyle': <CapStyle.butt: 'butt'>,\n",
       "          'lines.dash_joinstyle': <JoinStyle.round: 'round'>,\n",
       "          'lines.dashdot_pattern': [6.4, 1.6, 1.0, 1.6],\n",
       "          'lines.dashed_pattern': [3.7, 1.6],\n",
       "          'lines.dotted_pattern': [1.0, 1.65],\n",
       "          'lines.linestyle': '--',\n",
       "          'lines.linewidth': 3.0,\n",
       "          'lines.marker': 'o',\n",
       "          'lines.markeredgecolor': 'auto',\n",
       "          'lines.markeredgewidth': 1.0,\n",
       "          'lines.markerfacecolor': 'auto',\n",
       "          'lines.markersize': 6.0,\n",
       "          'lines.scale_dashes': True,\n",
       "          'lines.solid_capstyle': <CapStyle.projecting: 'projecting'>,\n",
       "          'lines.solid_joinstyle': <JoinStyle.round: 'round'>,\n",
       "          'markers.fillstyle': 'full',\n",
       "          'mathtext.bf': 'sans:bold',\n",
       "          'mathtext.cal': 'cursive',\n",
       "          'mathtext.default': 'it',\n",
       "          'mathtext.fallback': 'cm',\n",
       "          'mathtext.fontset': 'dejavusans',\n",
       "          'mathtext.it': 'sans:italic',\n",
       "          'mathtext.rm': 'sans',\n",
       "          'mathtext.sf': 'sans',\n",
       "          'mathtext.tt': 'monospace',\n",
       "          'patch.antialiased': True,\n",
       "          'patch.edgecolor': 'black',\n",
       "          'patch.facecolor': 'C0',\n",
       "          'patch.force_edgecolor': False,\n",
       "          'patch.linewidth': 1.0,\n",
       "          'path.effects': [],\n",
       "          'path.simplify': True,\n",
       "          'path.simplify_threshold': 0.111111111111,\n",
       "          'path.sketch': None,\n",
       "          'path.snap': True,\n",
       "          'pcolor.shading': 'auto',\n",
       "          'pcolormesh.snap': True,\n",
       "          'pdf.compression': 6,\n",
       "          'pdf.fonttype': 3,\n",
       "          'pdf.inheritcolor': False,\n",
       "          'pdf.use14corefonts': False,\n",
       "          'pgf.preamble': '',\n",
       "          'pgf.rcfonts': True,\n",
       "          'pgf.texsystem': 'xelatex',\n",
       "          'polaraxes.grid': True,\n",
       "          'ps.distiller.res': 6000,\n",
       "          'ps.fonttype': 3,\n",
       "          'ps.papersize': 'letter',\n",
       "          'ps.useafm': False,\n",
       "          'ps.usedistiller': None,\n",
       "          'savefig.bbox': None,\n",
       "          'savefig.directory': '~',\n",
       "          'savefig.dpi': 'figure',\n",
       "          'savefig.edgecolor': 'auto',\n",
       "          'savefig.facecolor': 'auto',\n",
       "          'savefig.format': 'png',\n",
       "          'savefig.orientation': 'portrait',\n",
       "          'savefig.pad_inches': 0.1,\n",
       "          'savefig.transparent': False,\n",
       "          'scatter.edgecolors': 'face',\n",
       "          'scatter.marker': 'o',\n",
       "          'svg.fonttype': 'path',\n",
       "          'svg.hashsalt': None,\n",
       "          'svg.image_inline': True,\n",
       "          'text.antialiased': True,\n",
       "          'text.color': 'black',\n",
       "          'text.hinting': 'force_autohint',\n",
       "          'text.hinting_factor': 8,\n",
       "          'text.kerning_factor': 0,\n",
       "          'text.latex.preamble': '',\n",
       "          'text.parse_math': True,\n",
       "          'text.usetex': False,\n",
       "          'timezone': 'UTC',\n",
       "          'tk.window_focus': False,\n",
       "          'toolbar': 'toolbar2',\n",
       "          'webagg.address': '127.0.0.1',\n",
       "          'webagg.open_in_browser': True,\n",
       "          'webagg.port': 8988,\n",
       "          'webagg.port_retries': 50,\n",
       "          'xaxis.labellocation': 'center',\n",
       "          'xtick.alignment': 'center',\n",
       "          'xtick.bottom': True,\n",
       "          'xtick.color': 'black',\n",
       "          'xtick.direction': 'in',\n",
       "          'xtick.labelbottom': True,\n",
       "          'xtick.labelcolor': 'inherit',\n",
       "          'xtick.labelsize': 'medium',\n",
       "          'xtick.labeltop': False,\n",
       "          'xtick.major.bottom': True,\n",
       "          'xtick.major.pad': 3.5,\n",
       "          'xtick.major.size': 10.0,\n",
       "          'xtick.major.top': True,\n",
       "          'xtick.major.width': 0.8,\n",
       "          'xtick.minor.bottom': True,\n",
       "          'xtick.minor.pad': 3.4,\n",
       "          'xtick.minor.size': 2.0,\n",
       "          'xtick.minor.top': True,\n",
       "          'xtick.minor.visible': False,\n",
       "          'xtick.minor.width': 0.6,\n",
       "          'xtick.top': True,\n",
       "          'yaxis.labellocation': 'center',\n",
       "          'ytick.alignment': 'center_baseline',\n",
       "          'ytick.color': 'black',\n",
       "          'ytick.direction': 'in',\n",
       "          'ytick.labelcolor': 'inherit',\n",
       "          'ytick.labelleft': True,\n",
       "          'ytick.labelright': False,\n",
       "          'ytick.labelsize': 'medium',\n",
       "          'ytick.left': True,\n",
       "          'ytick.major.left': True,\n",
       "          'ytick.major.pad': 3.5,\n",
       "          'ytick.major.right': True,\n",
       "          'ytick.major.size': 10.0,\n",
       "          'ytick.major.width': 0.8,\n",
       "          'ytick.minor.left': True,\n",
       "          'ytick.minor.pad': 3.4,\n",
       "          'ytick.minor.right': True,\n",
       "          'ytick.minor.size': 2.0,\n",
       "          'ytick.minor.visible': False,\n",
       "          'ytick.minor.width': 0.6,\n",
       "          'ytick.right': True})"
      ]
     },
     "execution_count": 14,
     "metadata": {},
     "output_type": "execute_result"
    }
   ],
   "source": [
    "plt.rcParams"
   ]
  },
  {
   "cell_type": "markdown",
   "id": "0e596291",
   "metadata": {},
   "source": [
    "## 그래프"
   ]
  },
  {
   "cell_type": "markdown",
   "id": "9414cc0b",
   "metadata": {},
   "source": [
    "### 선그래프"
   ]
  },
  {
   "cell_type": "code",
   "execution_count": 15,
   "id": "7d49e818",
   "metadata": {
    "ExecuteTime": {
     "end_time": "2023-05-12T11:46:11.636087Z",
     "start_time": "2023-05-12T11:46:11.619082Z"
    }
   },
   "outputs": [],
   "source": [
    "df1 = pd.DataFrame({'요일':['월','화','수','목','금','토','일'], \n",
    "                   '매출액':[10000,9000,11000,8000,13000,15000,14000]})"
   ]
  },
  {
   "cell_type": "code",
   "execution_count": 16,
   "id": "ce8d8291",
   "metadata": {
    "ExecuteTime": {
     "end_time": "2023-05-12T11:46:12.675623Z",
     "start_time": "2023-05-12T11:46:12.387629Z"
    },
    "scrolled": false
   },
   "outputs": [
    {
     "data": {
      "image/png": "[encoded data removed]",
      "text/plain": [
       "<Figure size 900x400 with 1 Axes>"
      ]
     },
     "metadata": {},
     "output_type": "display_data"
    }
   ],
   "source": [
    "plt.plot(df1['요일'],df1['매출액'])\n",
    "plt.title('요일별 매출액')\n",
    "plt.xlabel('요일')\n",
    "plt.ylabel('매출액(만원)')\n",
    "plt.show()"
   ]
  },
  {
   "cell_type": "markdown",
   "id": "a40490f0",
   "metadata": {},
   "source": [
    "### 막대그래프"
   ]
  },
  {
   "cell_type": "code",
   "execution_count": 17,
   "id": "1175090c",
   "metadata": {
    "ExecuteTime": {
     "end_time": "2023-05-12T11:46:21.611258Z",
     "start_time": "2023-05-12T11:46:21.380256Z"
    },
    "scrolled": true
   },
   "outputs": [
    {
     "data": {
      "image/png": "[encoded data removed]",
      "text/plain": [
       "<Figure size 900x400 with 1 Axes>"
      ]
     },
     "metadata": {},
     "output_type": "display_data"
    }
   ],
   "source": [
    "plt.bar(df1['요일'],df1['매출액'], hatch='/')\n",
    "plt.title('요일별 매출액')\n",
    "plt.xlabel('요일')\n",
    "plt.ylabel('매출액(만원)')\n",
    "plt.show()"
   ]
  },
  {
   "cell_type": "markdown",
   "id": "9f17e72f",
   "metadata": {},
   "source": [
    "### 박스플롯"
   ]
  },
  {
   "cell_type": "code",
   "execution_count": 18,
   "id": "5683d4bb",
   "metadata": {
    "ExecuteTime": {
     "end_time": "2023-05-12T11:46:23.170338Z",
     "start_time": "2023-05-12T11:46:23.154338Z"
    }
   },
   "outputs": [],
   "source": [
    "scores = pd.Series([0,10,15,15,15,16,19,20,21,25,25,26,26,29,30,35,36,37,39,40,41,41,44,45,45,45,45,47,\n",
    "          50,50,50,50,51,51,51,53,54,55,55,56,60,61,62,62,63,64,65,65,65,65,66,66,66,66,66,\n",
    "          67,68,68,69,70,70,70,70,70,70,70,70,71,71,71,71,71,72,72,72,72,73,74,74,74,75,75,\n",
    "          76,76,76,77,77,77,77,78,78,78,78,78,79,79,79,79,80,80,80,80,80,80,81,81,81,82,82,\n",
    "          85,85,85,88,88,89,90,90,90,93,93,95,95,95,97,100])"
   ]
  },
  {
   "cell_type": "code",
   "execution_count": 19,
   "id": "9cca9310",
   "metadata": {
    "ExecuteTime": {
     "end_time": "2023-05-12T11:46:24.300710Z",
     "start_time": "2023-05-12T11:46:24.115705Z"
    },
    "scrolled": false
   },
   "outputs": [
    {
     "data": {
      "image/png": "[encoded data removed]",
      "text/plain": [
       "<Figure size 900x400 with 1 Axes>"
      ]
     },
     "metadata": {},
     "output_type": "display_data"
    }
   ],
   "source": [
    "plt.boxplot(scores)\n",
    "plt.title('성적 분포')\n",
    "plt.ylabel('점수')\n",
    "plt.show()"
   ]
  },
  {
   "cell_type": "code",
   "execution_count": null,
   "id": "9481d2d8",
   "metadata": {},
   "outputs": [],
   "source": []
  },
  {
   "cell_type": "code",
   "execution_count": null,
   "id": "e3aca421",
   "metadata": {},
   "outputs": [],
   "source": []
  },
  {
   "cell_type": "code",
   "execution_count": null,
   "id": "adb62a2c",
   "metadata": {},
   "outputs": [],
   "source": []
  }
 ],
 "metadata": {
  "hide_input": false,
  "kernelspec": {
   "display_name": "Python 3 (ipykernel)",
   "language": "python",
   "name": "python3"
  },
  "language_info": {
   "codemirror_mode": {
    "name": "ipython",
    "version": 3
   },
   "file_extension": ".py",
   "mimetype": "text/x-python",
   "name": "python",
   "nbconvert_exporter": "python",
   "pygments_lexer": "ipython3",
   "version": "3.9.15"
  },
  "toc": {
   "base_numbering": 1,
   "nav_menu": {},
   "number_sections": true,
   "sideBar": true,
   "skip_h1_title": false,
   "title_cell": "Table of Contents",
   "title_sidebar": "Contents",
   "toc_cell": false,
   "toc_position": {
    "height": "397.28px",
    "left": "82px",
    "top": "134.12px",
    "width": "245.76px"
   },
   "toc_section_display": true,
   "toc_window_display": true
  },
  "varInspector": {
   "cols": {
    "lenName": 16,
    "lenType": 16,
    "lenVar": 40
   },
   "kernels_config": {
    "python": {
     "delete_cmd_postfix": "",
     "delete_cmd_prefix": "del ",
     "library": "var_list.py",
     "varRefreshCmd": "print(var_dic_list())"
    },
    "r": {
     "delete_cmd_postfix": ") ",
     "delete_cmd_prefix": "rm(",
     "library": "var_list.r",
     "varRefreshCmd": "cat(var_dic_list()) "
    }
   },
   "types_to_exclude": [
    "module",
    "function",
    "builtin_function_or_method",
    "instance",
    "_Feature"
   ],
   "window_display": false
  }
 },
 "nbformat": 4,
 "nbformat_minor": 5
}
