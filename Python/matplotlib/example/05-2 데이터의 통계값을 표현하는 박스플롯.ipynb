{
 "cells": [
  {
   "cell_type": "markdown",
   "id": "f4e43469",
   "metadata": {},
   "source": [
    "[학습목표]<br>\n",
    "박스플롯을 이용하여 데이터의 통계와 이상치를 표현할 수 있다."
   ]
  },
  {
   "cell_type": "code",
   "execution_count": 1,
   "id": "1d43ec99",
   "metadata": {
    "ExecuteTime": {
     "end_time": "2023-05-12T11:42:51.076125Z",
     "start_time": "2023-05-12T11:42:49.270130Z"
    }
   },
   "outputs": [],
   "source": [
    "import matplotlib.pyplot as plt\n",
    "import pandas as pd"
   ]
  },
  {
   "cell_type": "code",
   "execution_count": 2,
   "id": "f3588c1a",
   "metadata": {
    "ExecuteTime": {
     "end_time": "2023-05-12T11:42:56.004838Z",
     "start_time": "2023-05-12T11:42:55.997839Z"
    }
   },
   "outputs": [],
   "source": [
    "# 그래프에 한글 설정\n",
    "plt.rcParams['font.family'] = 'NanumGothic'\n",
    "\n",
    "# 그래프에 마이너스 기호 깨지는 문제 해결\n",
    "plt.rcParams['axes.unicode_minus'] = False"
   ]
  },
  {
   "cell_type": "markdown",
   "id": "ffd371c6",
   "metadata": {},
   "source": [
    "# 박스플롯"
   ]
  },
  {
   "cell_type": "markdown",
   "id": "a1c7fcb5",
   "metadata": {},
   "source": [
    "* 데이터로부터 얻어진 아래의 다섯 가지 요약 수치를 사용해서 그려진다.<br>\n",
    "최소값<br>\n",
    "제 1사분위 수 (Q1) : 전체 데이터 중 하위 25%에 해당하는 값<br>\n",
    "제 2사분위 수 또는 중위수 (Q2)<br>\n",
    "제 3사분위 수 (Q3) : 전체 데이터 중 상위 25%에 해당하는 값<br>\n",
    "최대값<br><br>\n",
    "* 다른 값들과 동떨어진 값을 이상치로 표현한다.<br>\n",
    "어떤 값이 (1/4 지점의 값 - 1.5 * 사분위수 범위) 보다 작거나, <br>\n",
    "어떤 값이 (3/4 지점의 값 + 1.5 * 사분위수 범위) 보다 크면 그 값을 이상치로 정한다.<br>\n",
    "* 사분위수 범위 = 3/4 지점의 값 - 1/4 지점의 값"
   ]
  },
  {
   "cell_type": "markdown",
   "id": "667a681a",
   "metadata": {},
   "source": [
    "## 샘플 데이터\n",
    "* 125명의 점수 데이터"
   ]
  },
  {
   "cell_type": "code",
   "execution_count": 3,
   "id": "d64296cf",
   "metadata": {
    "ExecuteTime": {
     "end_time": "2023-05-12T11:43:00.291104Z",
     "start_time": "2023-05-12T11:43:00.278100Z"
    }
   },
   "outputs": [],
   "source": [
    "scores = pd.Series([0,10,15,15,15,16,19,20,21,25,25,26,26,29,30,35,36,37,39,40,41,41,44,45,45,45,45,47,\n",
    "          50,50,50,50,51,51,51,53,54,55,55,56,60,61,62,62,63,64,65,65,65,65,66,66,66,66,66,\n",
    "          67,68,68,69,70,70,70,70,70,70,70,70,71,71,71,71,71,72,72,72,72,73,74,74,74,75,75,\n",
    "          76,76,76,77,77,77,77,78,78,78,78,78,79,79,79,79,80,80,80,80,80,80,81,81,81,82,82,\n",
    "          85,85,85,88,88,89,90,90,90,93,93,95,95,95,97,100])"
   ]
  },
  {
   "cell_type": "markdown",
   "id": "a8a10dc2",
   "metadata": {},
   "source": [
    "### 샘플데이터의 통계값\n",
    "시리즈.describe()"
   ]
  },
  {
   "cell_type": "code",
   "execution_count": 4,
   "id": "4ce96c62",
   "metadata": {
    "ExecuteTime": {
     "end_time": "2023-05-12T11:43:03.298033Z",
     "start_time": "2023-05-12T11:43:03.275026Z"
    },
    "scrolled": true
   },
   "outputs": [
    {
     "data": {
      "text/plain": [
       "count    125.000000\n",
       "mean      63.416000\n",
       "std       21.763829\n",
       "min        0.000000\n",
       "25%       50.000000\n",
       "50%       70.000000\n",
       "75%       78.000000\n",
       "max      100.000000\n",
       "dtype: float64"
      ]
     },
     "execution_count": 4,
     "metadata": {},
     "output_type": "execute_result"
    }
   ],
   "source": [
    "scores.describe()"
   ]
  },
  {
   "cell_type": "markdown",
   "id": "54f1789e",
   "metadata": {},
   "source": [
    "### 이상치 구하기\n",
    "* 1/4 지점의 값 : 시리즈.quantile(.25)\n",
    "* 3/4 지점의 값 : 시리즈.quantile(.75)\n",
    "* 이상치<br>\n",
    "1/4 지점의 값 - 1.5 * 사분위수 범위<br>\n",
    "3/4 지점의 값 + 1.5 * 사분위수 범위<br>\n"
   ]
  },
  {
   "cell_type": "code",
   "execution_count": 5,
   "id": "48c06238",
   "metadata": {
    "ExecuteTime": {
     "end_time": "2023-05-12T11:43:04.655693Z",
     "start_time": "2023-05-12T11:43:04.643664Z"
    }
   },
   "outputs": [
    {
     "name": "stdout",
     "output_type": "stream",
     "text": [
      "1/4 지점의 값 :  50.0\n",
      "3/4 지점의 값 :  78.0\n",
      "이상치: 8.0 미만\n",
      "이상치: 120.0 이상\n"
     ]
    }
   ],
   "source": [
    "Q1 = scores.quantile(.25)\n",
    "print('1/4 지점의 값 : ',Q1)\n",
    "\n",
    "Q3 = scores.quantile(.75)\n",
    "print('3/4 지점의 값 : ',Q3)\n",
    "\n",
    "# 이상치\n",
    "print('이상치:',Q1 - 1.5*(Q3-Q1),'미만')\n",
    "\n",
    "# 3/4 지점의 값 + 1.5 * 사분위수 범위\n",
    "print('이상치:',Q3 + 1.5*(Q3-Q1),'이상')\n"
   ]
  },
  {
   "cell_type": "markdown",
   "id": "64629f75",
   "metadata": {},
   "source": [
    "## 박스플롯\n",
    "<b>`* plt.boxplot(data)`</b>"
   ]
  },
  {
   "cell_type": "code",
   "execution_count": 6,
   "id": "872c1619",
   "metadata": {
    "ExecuteTime": {
     "end_time": "2023-05-12T11:43:06.800290Z",
     "start_time": "2023-05-12T11:43:06.532291Z"
    }
   },
   "outputs": [
    {
     "data": {
      "text/plain": [
       "{'whiskers': [<matplotlib.lines.Line2D at 0x29e3ebd0490>,\n",
       "  <matplotlib.lines.Line2D at 0x29e3ebd0730>],\n",
       " 'caps': [<matplotlib.lines.Line2D at 0x29e3ebd09d0>,\n",
       "  <matplotlib.lines.Line2D at 0x29e3ebd0c70>],\n",
       " 'boxes': [<matplotlib.lines.Line2D at 0x29e3ebd0310>],\n",
       " 'medians': [<matplotlib.lines.Line2D at 0x29e3ebd0f10>],\n",
       " 'fliers': [<matplotlib.lines.Line2D at 0x29e3ebe41f0>],\n",
       " 'means': []}"
      ]
     },
     "execution_count": 6,
     "metadata": {},
     "output_type": "execute_result"
    },
    {
     "data": {
      "image/png": "[encoded data removed]",
      "text/plain": [
       "<Figure size 640x480 with 1 Axes>"
      ]
     },
     "metadata": {},
     "output_type": "display_data"
    }
   ],
   "source": [
    "plt.boxplot(scores)"
   ]
  },
  {
   "cell_type": "markdown",
   "id": "1679ca59",
   "metadata": {},
   "source": [
    "## 평균 표시하기\n",
    "* showmeans=True\n",
    "* meanline=True"
   ]
  },
  {
   "cell_type": "code",
   "execution_count": 7,
   "id": "8b76f65b",
   "metadata": {
    "ExecuteTime": {
     "end_time": "2023-05-12T11:43:08.314981Z",
     "start_time": "2023-05-12T11:43:08.154975Z"
    },
    "scrolled": false
   },
   "outputs": [
    {
     "data": {
      "text/plain": [
       "{'whiskers': [<matplotlib.lines.Line2D at 0x29e3ec3d6d0>,\n",
       "  <matplotlib.lines.Line2D at 0x29e3ec3d970>],\n",
       " 'caps': [<matplotlib.lines.Line2D at 0x29e3ec3dc10>,\n",
       "  <matplotlib.lines.Line2D at 0x29e3ec3deb0>],\n",
       " 'boxes': [<matplotlib.lines.Line2D at 0x29e3ec3d430>],\n",
       " 'medians': [<matplotlib.lines.Line2D at 0x29e3ec4f190>],\n",
       " 'fliers': [<matplotlib.lines.Line2D at 0x29e3ec4f6d0>],\n",
       " 'means': [<matplotlib.lines.Line2D at 0x29e3ec4f430>]}"
      ]
     },
     "execution_count": 7,
     "metadata": {},
     "output_type": "execute_result"
    },
    {
     "data": {
      "image/png": "[encoded data removed]",
      "text/plain": [
       "<Figure size 640x480 with 1 Axes>"
      ]
     },
     "metadata": {},
     "output_type": "display_data"
    }
   ],
   "source": [
    "plt.boxplot(scores,showmeans=True, meanline=True)"
   ]
  },
  {
   "cell_type": "markdown",
   "id": "bff8b297",
   "metadata": {},
   "source": [
    "## 수평 박스플롯\n",
    "* vert=False"
   ]
  },
  {
   "cell_type": "code",
   "execution_count": 8,
   "id": "8ea987c8",
   "metadata": {
    "ExecuteTime": {
     "end_time": "2023-05-12T11:43:09.843124Z",
     "start_time": "2023-05-12T11:43:09.692122Z"
    },
    "scrolled": false
   },
   "outputs": [
    {
     "data": {
      "text/plain": [
       "{'whiskers': [<matplotlib.lines.Line2D at 0x29e3ecaeb20>,\n",
       "  <matplotlib.lines.Line2D at 0x29e3ecaedc0>],\n",
       " 'caps': [<matplotlib.lines.Line2D at 0x29e3ecc00a0>,\n",
       "  <matplotlib.lines.Line2D at 0x29e3ecc0340>],\n",
       " 'boxes': [<matplotlib.lines.Line2D at 0x29e3ecae880>],\n",
       " 'medians': [<matplotlib.lines.Line2D at 0x29e3ecc05e0>],\n",
       " 'fliers': [<matplotlib.lines.Line2D at 0x29e3ecc0b20>],\n",
       " 'means': [<matplotlib.lines.Line2D at 0x29e3ecc0880>]}"
      ]
     },
     "execution_count": 8,
     "metadata": {},
     "output_type": "execute_result"
    },
    {
     "data": {
      "image/png": "[encoded data removed]",
      "text/plain": [
       "<Figure size 640x480 with 1 Axes>"
      ]
     },
     "metadata": {},
     "output_type": "display_data"
    }
   ],
   "source": [
    "plt.boxplot(scores,showmeans=True, meanline=True, vert=False)"
   ]
  },
  {
   "cell_type": "markdown",
   "id": "1db1aefd",
   "metadata": {},
   "source": [
    "# 여러개의 데이터 비교하기"
   ]
  },
  {
   "cell_type": "markdown",
   "id": "1d3fbf58",
   "metadata": {},
   "source": [
    "## 샘플 데이터\n",
    "* 붓꽃 데이터"
   ]
  },
  {
   "cell_type": "code",
   "execution_count": 9,
   "id": "256d7542",
   "metadata": {
    "ExecuteTime": {
     "end_time": "2023-05-12T11:43:14.115030Z",
     "start_time": "2023-05-12T11:43:11.788707Z"
    },
    "scrolled": true
   },
   "outputs": [
    {
     "data": {
      "text/html": [
       "<div>\n",
       "<style scoped>\n",
       "    .dataframe tbody tr th:only-of-type {\n",
       "        vertical-align: middle;\n",
       "    }\n",
       "\n",
       "    .dataframe tbody tr th {\n",
       "        vertical-align: top;\n",
       "    }\n",
       "\n",
       "    .dataframe thead th {\n",
       "        text-align: right;\n",
       "    }\n",
       "</style>\n",
       "<table border=\"1\" class=\"dataframe\">\n",
       "  <thead>\n",
       "    <tr style=\"text-align: right;\">\n",
       "      <th></th>\n",
       "      <th>sepal_length</th>\n",
       "      <th>sepal_width</th>\n",
       "      <th>petal_length</th>\n",
       "      <th>petal_width</th>\n",
       "      <th>species</th>\n",
       "    </tr>\n",
       "  </thead>\n",
       "  <tbody>\n",
       "    <tr>\n",
       "      <th>0</th>\n",
       "      <td>5.1</td>\n",
       "      <td>3.5</td>\n",
       "      <td>1.4</td>\n",
       "      <td>0.2</td>\n",
       "      <td>setosa</td>\n",
       "    </tr>\n",
       "    <tr>\n",
       "      <th>1</th>\n",
       "      <td>4.9</td>\n",
       "      <td>3.0</td>\n",
       "      <td>1.4</td>\n",
       "      <td>0.2</td>\n",
       "      <td>setosa</td>\n",
       "    </tr>\n",
       "    <tr>\n",
       "      <th>2</th>\n",
       "      <td>4.7</td>\n",
       "      <td>3.2</td>\n",
       "      <td>1.3</td>\n",
       "      <td>0.2</td>\n",
       "      <td>setosa</td>\n",
       "    </tr>\n",
       "    <tr>\n",
       "      <th>3</th>\n",
       "      <td>4.6</td>\n",
       "      <td>3.1</td>\n",
       "      <td>1.5</td>\n",
       "      <td>0.2</td>\n",
       "      <td>setosa</td>\n",
       "    </tr>\n",
       "    <tr>\n",
       "      <th>4</th>\n",
       "      <td>5.0</td>\n",
       "      <td>3.6</td>\n",
       "      <td>1.4</td>\n",
       "      <td>0.2</td>\n",
       "      <td>setosa</td>\n",
       "    </tr>\n",
       "  </tbody>\n",
       "</table>\n",
       "</div>"
      ],
      "text/plain": [
       "   sepal_length  sepal_width  petal_length  petal_width species\n",
       "0           5.1          3.5           1.4          0.2  setosa\n",
       "1           4.9          3.0           1.4          0.2  setosa\n",
       "2           4.7          3.2           1.3          0.2  setosa\n",
       "3           4.6          3.1           1.5          0.2  setosa\n",
       "4           5.0          3.6           1.4          0.2  setosa"
      ]
     },
     "execution_count": 9,
     "metadata": {},
     "output_type": "execute_result"
    }
   ],
   "source": [
    "import seaborn as sns\n",
    "iris = sns.load_dataset('iris')\n",
    "iris.head()"
   ]
  },
  {
   "cell_type": "markdown",
   "id": "99f8f44b",
   "metadata": {},
   "source": [
    "## 여러 개의 데이터 비교하기\n",
    "* plt.boxplot(데이터리스트, labels=레이블리스트)"
   ]
  },
  {
   "cell_type": "code",
   "execution_count": 10,
   "id": "93883174",
   "metadata": {
    "ExecuteTime": {
     "end_time": "2023-05-12T11:43:14.463026Z",
     "start_time": "2023-05-12T11:43:14.169030Z"
    },
    "scrolled": false
   },
   "outputs": [
    {
     "data": {
      "image/png": "[encoded data removed]",
      "text/plain": [
       "<Figure size 640x480 with 1 Axes>"
      ]
     },
     "metadata": {},
     "output_type": "display_data"
    }
   ],
   "source": [
    "plt.boxplot([ iris['sepal_length'], iris['sepal_width'], iris['petal_length'], iris['petal_width']    ]\n",
    "           , labels=['sepal_length', 'sepal_width','petal_length','petal_width']\n",
    "           , showmeans=True)\n",
    "plt.grid(axis='y')\n",
    "plt.show()"
   ]
  },
  {
   "cell_type": "code",
   "execution_count": null,
   "id": "c7111adb",
   "metadata": {},
   "outputs": [],
   "source": []
  },
  {
   "cell_type": "code",
   "execution_count": null,
   "id": "952a8d35",
   "metadata": {},
   "outputs": [],
   "source": []
  },
  {
   "cell_type": "code",
   "execution_count": null,
   "id": "5d7b2b09",
   "metadata": {},
   "outputs": [],
   "source": []
  }
 ],
 "metadata": {
  "hide_input": false,
  "kernelspec": {
   "display_name": "Python 3 (ipykernel)",
   "language": "python",
   "name": "python3"
  },
  "language_info": {
   "codemirror_mode": {
    "name": "ipython",
    "version": 3
   },
   "file_extension": ".py",
   "mimetype": "text/x-python",
   "name": "python",
   "nbconvert_exporter": "python",
   "pygments_lexer": "ipython3",
   "version": "3.9.15"
  },
  "toc": {
   "base_numbering": 1,
   "nav_menu": {},
   "number_sections": true,
   "sideBar": true,
   "skip_h1_title": false,
   "title_cell": "Table of Contents",
   "title_sidebar": "Contents",
   "toc_cell": false,
   "toc_position": {
    "height": "calc(100% - 180px)",
    "left": "10px",
    "top": "150px",
    "width": "245.76px"
   },
   "toc_section_display": true,
   "toc_window_display": true
  },
  "varInspector": {
   "cols": {
    "lenName": 16,
    "lenType": 16,
    "lenVar": 40
   },
   "kernels_config": {
    "python": {
     "delete_cmd_postfix": "",
     "delete_cmd_prefix": "del ",
     "library": "var_list.py",
     "varRefreshCmd": "print(var_dic_list())"
    },
    "r": {
     "delete_cmd_postfix": ") ",
     "delete_cmd_prefix": "rm(",
     "library": "var_list.r",
     "varRefreshCmd": "cat(var_dic_list()) "
    }
   },
   "types_to_exclude": [
    "module",
    "function",
    "builtin_function_or_method",
    "instance",
    "_Feature"
   ],
   "window_display": false
  }
 },
 "nbformat": 4,
 "nbformat_minor": 5
}
