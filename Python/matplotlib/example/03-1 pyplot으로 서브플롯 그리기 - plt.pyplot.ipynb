{
 "cells": [
  {
   "attachments": {},
   "cell_type": "markdown",
   "id": "d76350e5",
   "metadata": {},
   "source": [
    "[학습목표]<br>\n",
    "pyplot 메소드로 하나의 실행창에 여러 그래프를 그려 비교할 수 있다."
   ]
  },
  {
   "attachments": {},
   "cell_type": "markdown",
   "id": "7223c321",
   "metadata": {},
   "source": [
    "* 앤스콤 4분할 그래프     \n",
    "영국의 프랭크 앤스콤(Frank Anscombe)이 데이터를 시각화하지 않고 수치만 확인할 때 발생할 수 있는 함정을 보여주기 위해 만든 그래프"
   ]
  },
  {
   "cell_type": "code",
   "execution_count": 1,
   "id": "347d8f35",
   "metadata": {
    "ExecuteTime": {
     "end_time": "2023-05-12T10:59:37.616098Z",
     "start_time": "2023-05-12T10:59:36.948942Z"
    },
    "scrolled": false
   },
   "outputs": [],
   "source": [
    "import matplotlib.pyplot as plt"
   ]
  },
  {
   "attachments": {},
   "cell_type": "markdown",
   "id": "8b940461",
   "metadata": {},
   "source": [
    "# 데이터 불러오기\n",
    "* seaborn 라이브러리에서 제공하는 anscombe 데이터 사용"
   ]
  },
  {
   "cell_type": "code",
   "execution_count": 2,
   "id": "e40f31e8",
   "metadata": {
    "ExecuteTime": {
     "end_time": "2023-05-12T11:00:09.885352Z",
     "start_time": "2023-05-12T11:00:09.861346Z"
    }
   },
   "outputs": [
    {
     "data": {
      "text/html": [
       "<div>\n",
       "<style scoped>\n",
       "    .dataframe tbody tr th:only-of-type {\n",
       "        vertical-align: middle;\n",
       "    }\n",
       "\n",
       "    .dataframe tbody tr th {\n",
       "        vertical-align: top;\n",
       "    }\n",
       "\n",
       "    .dataframe thead th {\n",
       "        text-align: right;\n",
       "    }\n",
       "</style>\n",
       "<table border=\"1\" class=\"dataframe\">\n",
       "  <thead>\n",
       "    <tr style=\"text-align: right;\">\n",
       "      <th></th>\n",
       "      <th>dataset</th>\n",
       "      <th>x</th>\n",
       "      <th>y</th>\n",
       "    </tr>\n",
       "  </thead>\n",
       "  <tbody>\n",
       "    <tr>\n",
       "      <th>0</th>\n",
       "      <td>I</td>\n",
       "      <td>10.0</td>\n",
       "      <td>8.04</td>\n",
       "    </tr>\n",
       "    <tr>\n",
       "      <th>1</th>\n",
       "      <td>I</td>\n",
       "      <td>8.0</td>\n",
       "      <td>6.95</td>\n",
       "    </tr>\n",
       "    <tr>\n",
       "      <th>2</th>\n",
       "      <td>I</td>\n",
       "      <td>13.0</td>\n",
       "      <td>7.58</td>\n",
       "    </tr>\n",
       "    <tr>\n",
       "      <th>3</th>\n",
       "      <td>I</td>\n",
       "      <td>9.0</td>\n",
       "      <td>8.81</td>\n",
       "    </tr>\n",
       "    <tr>\n",
       "      <th>4</th>\n",
       "      <td>I</td>\n",
       "      <td>11.0</td>\n",
       "      <td>8.33</td>\n",
       "    </tr>\n",
       "  </tbody>\n",
       "</table>\n",
       "</div>"
      ],
      "text/plain": [
       "  dataset     x     y\n",
       "0       I  10.0  8.04\n",
       "1       I   8.0  6.95\n",
       "2       I  13.0  7.58\n",
       "3       I   9.0  8.81\n",
       "4       I  11.0  8.33"
      ]
     },
     "execution_count": 2,
     "metadata": {},
     "output_type": "execute_result"
    }
   ],
   "source": [
    "import seaborn as sns\n",
    "anscombe = sns.load_dataset('anscombe')\n",
    "anscombe.head()"
   ]
  },
  {
   "attachments": {},
   "cell_type": "markdown",
   "id": "ea8a603f",
   "metadata": {},
   "source": [
    "* 4가지 데이터를 각각의 데이터프레임으로 만들기"
   ]
  },
  {
   "cell_type": "code",
   "execution_count": 3,
   "id": "e08c5c4a",
   "metadata": {
    "ExecuteTime": {
     "end_time": "2023-05-12T11:00:21.105763Z",
     "start_time": "2023-05-12T11:00:21.090766Z"
    }
   },
   "outputs": [],
   "source": [
    "df1 = anscombe[anscombe['dataset']=='I']\n",
    "df2 = anscombe[anscombe['dataset']=='II']\n",
    "df3 = anscombe[anscombe['dataset']=='III']\n",
    "df4 = anscombe[anscombe['dataset']=='IV']"
   ]
  },
  {
   "attachments": {},
   "cell_type": "markdown",
   "id": "88c3447b",
   "metadata": {},
   "source": [
    "* 데이터 확인하기"
   ]
  },
  {
   "cell_type": "code",
   "execution_count": 4,
   "id": "c2e65633",
   "metadata": {
    "ExecuteTime": {
     "end_time": "2023-05-12T11:04:32.839785Z",
     "start_time": "2023-05-12T11:04:32.812791Z"
    }
   },
   "outputs": [
    {
     "name": "stdout",
     "output_type": "stream",
     "text": [
      "==== df1.head(2) ====\n",
      "   dataset     x     y\n",
      "0       I  10.0  8.04\n",
      "1       I   8.0  6.95\n",
      "\n",
      "==== df2.head(2) ====\n",
      "    dataset     x     y\n",
      "11      II  10.0  9.14\n",
      "12      II   8.0  8.14\n",
      "\n",
      "==== df3.head(2) ====\n",
      "    dataset     x     y\n",
      "22     III  10.0  7.46\n",
      "23     III   8.0  6.77\n",
      "\n",
      "==== df4.head(2) ====\n",
      "    dataset    x     y\n",
      "33      IV  8.0  6.58\n",
      "34      IV  8.0  5.76\n"
     ]
    }
   ],
   "source": [
    "print('==== df1.head(2) ====\\n'  , df1.head(2))\n",
    "print('\\n==== df2.head(2) ====\\n', df2.head(2))\n",
    "print('\\n==== df3.head(2) ====\\n', df3.head(2))\n",
    "print('\\n==== df4.head(2) ====\\n', df4.head(2))"
   ]
  },
  {
   "cell_type": "code",
   "execution_count": 5,
   "id": "26c96232",
   "metadata": {
    "ExecuteTime": {
     "end_time": "2023-05-12T11:06:44.609521Z",
     "start_time": "2023-05-12T11:06:44.602516Z"
    }
   },
   "outputs": [
    {
     "name": "stdout",
     "output_type": "stream",
     "text": [
      "==== df1.shape ====\n",
      " (11, 3)\n",
      "\n",
      "==== df2.shape ====\n",
      " (11, 3)\n",
      "\n",
      "==== df3.shape ====\n",
      " (11, 3)\n",
      "\n",
      "==== df4.shape ====\n",
      " (11, 3)\n"
     ]
    }
   ],
   "source": [
    "print('==== df1.shape ====\\n'  , df1.shape)\n",
    "print('\\n==== df2.shape ====\\n', df2.shape)\n",
    "print('\\n==== df3.shape ====\\n', df3.shape)\n",
    "print('\\n==== df4.shape ====\\n', df4.shape)"
   ]
  },
  {
   "attachments": {},
   "cell_type": "markdown",
   "id": "4c7002e9",
   "metadata": {},
   "source": [
    "# 데이터의 통계수치 확인\n",
    "* 데이터프레임.describe()\n",
    "* 4개의 데이터는 갯수, 평균, 표준편차가 모두 같다.\n",
    "* 이러한 수치만 보고 4개의 데이터 그룹의 데이터가 모두 같을 것이라고 착각할 수 있다."
   ]
  },
  {
   "cell_type": "code",
   "execution_count": 6,
   "id": "18c2e26d",
   "metadata": {
    "ExecuteTime": {
     "end_time": "2023-05-12T11:12:59.486710Z",
     "start_time": "2023-05-12T11:12:59.461710Z"
    },
    "scrolled": true
   },
   "outputs": [
    {
     "data": {
      "text/html": [
       "<div>\n",
       "<style scoped>\n",
       "    .dataframe tbody tr th:only-of-type {\n",
       "        vertical-align: middle;\n",
       "    }\n",
       "\n",
       "    .dataframe tbody tr th {\n",
       "        vertical-align: top;\n",
       "    }\n",
       "\n",
       "    .dataframe thead th {\n",
       "        text-align: right;\n",
       "    }\n",
       "</style>\n",
       "<table border=\"1\" class=\"dataframe\">\n",
       "  <thead>\n",
       "    <tr style=\"text-align: right;\">\n",
       "      <th></th>\n",
       "      <th>x</th>\n",
       "      <th>y</th>\n",
       "    </tr>\n",
       "  </thead>\n",
       "  <tbody>\n",
       "    <tr>\n",
       "      <th>count</th>\n",
       "      <td>11.000000</td>\n",
       "      <td>11.000000</td>\n",
       "    </tr>\n",
       "    <tr>\n",
       "      <th>mean</th>\n",
       "      <td>9.000000</td>\n",
       "      <td>7.500909</td>\n",
       "    </tr>\n",
       "    <tr>\n",
       "      <th>std</th>\n",
       "      <td>3.316625</td>\n",
       "      <td>2.031568</td>\n",
       "    </tr>\n",
       "    <tr>\n",
       "      <th>min</th>\n",
       "      <td>4.000000</td>\n",
       "      <td>4.260000</td>\n",
       "    </tr>\n",
       "    <tr>\n",
       "      <th>25%</th>\n",
       "      <td>6.500000</td>\n",
       "      <td>6.315000</td>\n",
       "    </tr>\n",
       "    <tr>\n",
       "      <th>50%</th>\n",
       "      <td>9.000000</td>\n",
       "      <td>7.580000</td>\n",
       "    </tr>\n",
       "    <tr>\n",
       "      <th>75%</th>\n",
       "      <td>11.500000</td>\n",
       "      <td>8.570000</td>\n",
       "    </tr>\n",
       "    <tr>\n",
       "      <th>max</th>\n",
       "      <td>14.000000</td>\n",
       "      <td>10.840000</td>\n",
       "    </tr>\n",
       "  </tbody>\n",
       "</table>\n",
       "</div>"
      ],
      "text/plain": [
       "               x          y\n",
       "count  11.000000  11.000000\n",
       "mean    9.000000   7.500909\n",
       "std     3.316625   2.031568\n",
       "min     4.000000   4.260000\n",
       "25%     6.500000   6.315000\n",
       "50%     9.000000   7.580000\n",
       "75%    11.500000   8.570000\n",
       "max    14.000000  10.840000"
      ]
     },
     "execution_count": 6,
     "metadata": {},
     "output_type": "execute_result"
    }
   ],
   "source": [
    "df1 = df1.describe()\n",
    "df1"
   ]
  },
  {
   "cell_type": "code",
   "execution_count": 7,
   "id": "242f09bf",
   "metadata": {
    "ExecuteTime": {
     "end_time": "2023-05-12T11:12:47.667280Z",
     "start_time": "2023-05-12T11:12:47.636279Z"
    },
    "scrolled": true
   },
   "outputs": [
    {
     "data": {
      "text/html": [
       "<div>\n",
       "<style scoped>\n",
       "    .dataframe tbody tr th:only-of-type {\n",
       "        vertical-align: middle;\n",
       "    }\n",
       "\n",
       "    .dataframe tbody tr th {\n",
       "        vertical-align: top;\n",
       "    }\n",
       "\n",
       "    .dataframe thead th {\n",
       "        text-align: right;\n",
       "    }\n",
       "</style>\n",
       "<table border=\"1\" class=\"dataframe\">\n",
       "  <thead>\n",
       "    <tr style=\"text-align: right;\">\n",
       "      <th></th>\n",
       "      <th>x</th>\n",
       "      <th>y</th>\n",
       "    </tr>\n",
       "  </thead>\n",
       "  <tbody>\n",
       "    <tr>\n",
       "      <th>count</th>\n",
       "      <td>11.000000</td>\n",
       "      <td>11.000000</td>\n",
       "    </tr>\n",
       "    <tr>\n",
       "      <th>mean</th>\n",
       "      <td>9.000000</td>\n",
       "      <td>7.500909</td>\n",
       "    </tr>\n",
       "    <tr>\n",
       "      <th>std</th>\n",
       "      <td>3.316625</td>\n",
       "      <td>2.031657</td>\n",
       "    </tr>\n",
       "    <tr>\n",
       "      <th>min</th>\n",
       "      <td>4.000000</td>\n",
       "      <td>3.100000</td>\n",
       "    </tr>\n",
       "    <tr>\n",
       "      <th>25%</th>\n",
       "      <td>6.500000</td>\n",
       "      <td>6.695000</td>\n",
       "    </tr>\n",
       "    <tr>\n",
       "      <th>50%</th>\n",
       "      <td>9.000000</td>\n",
       "      <td>8.140000</td>\n",
       "    </tr>\n",
       "    <tr>\n",
       "      <th>75%</th>\n",
       "      <td>11.500000</td>\n",
       "      <td>8.950000</td>\n",
       "    </tr>\n",
       "    <tr>\n",
       "      <th>max</th>\n",
       "      <td>14.000000</td>\n",
       "      <td>9.260000</td>\n",
       "    </tr>\n",
       "  </tbody>\n",
       "</table>\n",
       "</div>"
      ],
      "text/plain": [
       "               x          y\n",
       "count  11.000000  11.000000\n",
       "mean    9.000000   7.500909\n",
       "std     3.316625   2.031657\n",
       "min     4.000000   3.100000\n",
       "25%     6.500000   6.695000\n",
       "50%     9.000000   8.140000\n",
       "75%    11.500000   8.950000\n",
       "max    14.000000   9.260000"
      ]
     },
     "execution_count": 7,
     "metadata": {},
     "output_type": "execute_result"
    }
   ],
   "source": [
    "df2 = df2.describe()\n",
    "df2"
   ]
  },
  {
   "cell_type": "code",
   "execution_count": 8,
   "id": "4d7db282",
   "metadata": {
    "ExecuteTime": {
     "end_time": "2023-05-12T11:12:34.585804Z",
     "start_time": "2023-05-12T11:12:34.562770Z"
    },
    "scrolled": true
   },
   "outputs": [
    {
     "data": {
      "text/html": [
       "<div>\n",
       "<style scoped>\n",
       "    .dataframe tbody tr th:only-of-type {\n",
       "        vertical-align: middle;\n",
       "    }\n",
       "\n",
       "    .dataframe tbody tr th {\n",
       "        vertical-align: top;\n",
       "    }\n",
       "\n",
       "    .dataframe thead th {\n",
       "        text-align: right;\n",
       "    }\n",
       "</style>\n",
       "<table border=\"1\" class=\"dataframe\">\n",
       "  <thead>\n",
       "    <tr style=\"text-align: right;\">\n",
       "      <th></th>\n",
       "      <th>x</th>\n",
       "      <th>y</th>\n",
       "    </tr>\n",
       "  </thead>\n",
       "  <tbody>\n",
       "    <tr>\n",
       "      <th>count</th>\n",
       "      <td>11.000000</td>\n",
       "      <td>11.000000</td>\n",
       "    </tr>\n",
       "    <tr>\n",
       "      <th>mean</th>\n",
       "      <td>9.000000</td>\n",
       "      <td>7.500000</td>\n",
       "    </tr>\n",
       "    <tr>\n",
       "      <th>std</th>\n",
       "      <td>3.316625</td>\n",
       "      <td>2.030424</td>\n",
       "    </tr>\n",
       "    <tr>\n",
       "      <th>min</th>\n",
       "      <td>4.000000</td>\n",
       "      <td>5.390000</td>\n",
       "    </tr>\n",
       "    <tr>\n",
       "      <th>25%</th>\n",
       "      <td>6.500000</td>\n",
       "      <td>6.250000</td>\n",
       "    </tr>\n",
       "    <tr>\n",
       "      <th>50%</th>\n",
       "      <td>9.000000</td>\n",
       "      <td>7.110000</td>\n",
       "    </tr>\n",
       "    <tr>\n",
       "      <th>75%</th>\n",
       "      <td>11.500000</td>\n",
       "      <td>7.980000</td>\n",
       "    </tr>\n",
       "    <tr>\n",
       "      <th>max</th>\n",
       "      <td>14.000000</td>\n",
       "      <td>12.740000</td>\n",
       "    </tr>\n",
       "  </tbody>\n",
       "</table>\n",
       "</div>"
      ],
      "text/plain": [
       "               x          y\n",
       "count  11.000000  11.000000\n",
       "mean    9.000000   7.500000\n",
       "std     3.316625   2.030424\n",
       "min     4.000000   5.390000\n",
       "25%     6.500000   6.250000\n",
       "50%     9.000000   7.110000\n",
       "75%    11.500000   7.980000\n",
       "max    14.000000  12.740000"
      ]
     },
     "execution_count": 8,
     "metadata": {},
     "output_type": "execute_result"
    }
   ],
   "source": [
    "df3 = df3.describe()\n",
    "df3"
   ]
  },
  {
   "cell_type": "code",
   "execution_count": 9,
   "id": "ccfe552b",
   "metadata": {
    "ExecuteTime": {
     "end_time": "2023-05-12T11:12:19.223831Z",
     "start_time": "2023-05-12T11:12:19.194829Z"
    }
   },
   "outputs": [
    {
     "data": {
      "text/html": [
       "<div>\n",
       "<style scoped>\n",
       "    .dataframe tbody tr th:only-of-type {\n",
       "        vertical-align: middle;\n",
       "    }\n",
       "\n",
       "    .dataframe tbody tr th {\n",
       "        vertical-align: top;\n",
       "    }\n",
       "\n",
       "    .dataframe thead th {\n",
       "        text-align: right;\n",
       "    }\n",
       "</style>\n",
       "<table border=\"1\" class=\"dataframe\">\n",
       "  <thead>\n",
       "    <tr style=\"text-align: right;\">\n",
       "      <th></th>\n",
       "      <th>x</th>\n",
       "      <th>y</th>\n",
       "    </tr>\n",
       "  </thead>\n",
       "  <tbody>\n",
       "    <tr>\n",
       "      <th>count</th>\n",
       "      <td>11.000000</td>\n",
       "      <td>11.000000</td>\n",
       "    </tr>\n",
       "    <tr>\n",
       "      <th>mean</th>\n",
       "      <td>9.000000</td>\n",
       "      <td>7.500909</td>\n",
       "    </tr>\n",
       "    <tr>\n",
       "      <th>std</th>\n",
       "      <td>3.316625</td>\n",
       "      <td>2.030579</td>\n",
       "    </tr>\n",
       "    <tr>\n",
       "      <th>min</th>\n",
       "      <td>8.000000</td>\n",
       "      <td>5.250000</td>\n",
       "    </tr>\n",
       "    <tr>\n",
       "      <th>25%</th>\n",
       "      <td>8.000000</td>\n",
       "      <td>6.170000</td>\n",
       "    </tr>\n",
       "    <tr>\n",
       "      <th>50%</th>\n",
       "      <td>8.000000</td>\n",
       "      <td>7.040000</td>\n",
       "    </tr>\n",
       "    <tr>\n",
       "      <th>75%</th>\n",
       "      <td>8.000000</td>\n",
       "      <td>8.190000</td>\n",
       "    </tr>\n",
       "    <tr>\n",
       "      <th>max</th>\n",
       "      <td>19.000000</td>\n",
       "      <td>12.500000</td>\n",
       "    </tr>\n",
       "  </tbody>\n",
       "</table>\n",
       "</div>"
      ],
      "text/plain": [
       "               x          y\n",
       "count  11.000000  11.000000\n",
       "mean    9.000000   7.500909\n",
       "std     3.316625   2.030579\n",
       "min     8.000000   5.250000\n",
       "25%     8.000000   6.170000\n",
       "50%     8.000000   7.040000\n",
       "75%     8.000000   8.190000\n",
       "max    19.000000  12.500000"
      ]
     },
     "execution_count": 9,
     "metadata": {},
     "output_type": "execute_result"
    }
   ],
   "source": [
    "df4 = df4.describe()\n",
    "df4"
   ]
  },
  {
   "cell_type": "code",
   "execution_count": 10,
   "id": "76db8cbe",
   "metadata": {
    "ExecuteTime": {
     "end_time": "2023-05-12T11:13:55.298715Z",
     "start_time": "2023-05-12T11:13:55.283718Z"
    }
   },
   "outputs": [],
   "source": [
    "# import pandas as pd\n",
    "# pd.concat([df1,df2,df3,df4], axis=1)"
   ]
  },
  {
   "attachments": {},
   "cell_type": "markdown",
   "id": "9c66890f",
   "metadata": {},
   "source": [
    "# 데이터 시각화"
   ]
  },
  {
   "cell_type": "code",
   "execution_count": 11,
   "id": "d7ddf9e6",
   "metadata": {
    "ExecuteTime": {
     "end_time": "2023-05-12T11:14:00.954829Z",
     "start_time": "2023-05-12T11:14:00.650869Z"
    }
   },
   "outputs": [
    {
     "data": {
      "text/plain": [
       "[<matplotlib.lines.Line2D at 0x15f3e4acf90>]"
      ]
     },
     "execution_count": 11,
     "metadata": {},
     "output_type": "execute_result"
    },
    {
     "data": {
      "image/png": "[encoded data removed]",
      "text/plain": [
       "<Figure size 640x480 with 1 Axes>"
      ]
     },
     "metadata": {},
     "output_type": "display_data"
    }
   ],
   "source": [
    "# 첫번째 데이터\n",
    "plt.plot(df1['x'],df1['y'],'o')"
   ]
  },
  {
   "cell_type": "code",
   "execution_count": 12,
   "id": "2136f8dd",
   "metadata": {
    "ExecuteTime": {
     "end_time": "2023-05-12T11:14:01.965648Z",
     "start_time": "2023-05-12T11:14:01.755651Z"
    },
    "scrolled": true
   },
   "outputs": [
    {
     "data": {
      "text/plain": [
       "[<matplotlib.lines.Line2D at 0x15f3e8b6390>]"
      ]
     },
     "execution_count": 12,
     "metadata": {},
     "output_type": "execute_result"
    },
    {
     "data": {
      "image/png": "[encoded data removed]",
      "text/plain": [
       "<Figure size 640x480 with 1 Axes>"
      ]
     },
     "metadata": {},
     "output_type": "display_data"
    }
   ],
   "source": [
    "# 두번째 데이터\n",
    "plt.plot(df2['x'],df2['y'],'o')"
   ]
  },
  {
   "cell_type": "code",
   "execution_count": 13,
   "id": "789b9488",
   "metadata": {
    "ExecuteTime": {
     "end_time": "2023-05-12T11:14:02.814488Z",
     "start_time": "2023-05-12T11:14:02.578485Z"
    },
    "scrolled": true
   },
   "outputs": [
    {
     "data": {
      "text/plain": [
       "[<matplotlib.lines.Line2D at 0x15f3e8dcf90>]"
      ]
     },
     "execution_count": 13,
     "metadata": {},
     "output_type": "execute_result"
    },
    {
     "data": {
      "image/png": "[encoded data removed]",
      "text/plain": [
       "<Figure size 640x480 with 1 Axes>"
      ]
     },
     "metadata": {},
     "output_type": "display_data"
    }
   ],
   "source": [
    "# 세번째 데이터\n",
    "plt.plot(df3['x'],df3['y'],'o')"
   ]
  },
  {
   "cell_type": "code",
   "execution_count": 14,
   "id": "af76c395",
   "metadata": {
    "ExecuteTime": {
     "end_time": "2023-05-12T11:14:03.763485Z",
     "start_time": "2023-05-12T11:14:03.545515Z"
    },
    "scrolled": true
   },
   "outputs": [
    {
     "data": {
      "text/plain": [
       "[<matplotlib.lines.Line2D at 0x15f3e9a6110>]"
      ]
     },
     "execution_count": 14,
     "metadata": {},
     "output_type": "execute_result"
    },
    {
     "data": {
      "image/png": "[encoded data removed]",
      "text/plain": [
       "<Figure size 640x480 with 1 Axes>"
      ]
     },
     "metadata": {},
     "output_type": "display_data"
    }
   ],
   "source": [
    "# 네번째 데이터\n",
    "plt.plot(df4['x'],df4['y'],'o')"
   ]
  },
  {
   "cell_type": "code",
   "execution_count": 15,
   "id": "f1abf708",
   "metadata": {
    "ExecuteTime": {
     "end_time": "2023-05-12T11:14:05.402274Z",
     "start_time": "2023-05-12T11:14:04.507277Z"
    }
   },
   "outputs": [
    {
     "data": {
      "text/plain": [
       "[<matplotlib.lines.Line2D at 0x15f40a6f810>]"
      ]
     },
     "execution_count": 15,
     "metadata": {},
     "output_type": "execute_result"
    },
    {
     "data": {
      "image/png": "[encoded data removed]",
      "text/plain": [
       "<Figure size 640x480 with 1 Axes>"
      ]
     },
     "metadata": {},
     "output_type": "display_data"
    }
   ],
   "source": [
    "# 4개의 그래프 한번에 그리기\n",
    "plt.plot(df1['x'],df1['y'],'o')\n",
    "plt.plot(df2['x'],df2['y'],'o')\n",
    "plt.plot(df3['x'],df3['y'],'o')\n",
    "plt.plot(df4['x'],df4['y'],'o')"
   ]
  },
  {
   "attachments": {},
   "cell_type": "markdown",
   "id": "c60de2a3",
   "metadata": {},
   "source": [
    "# 서브플롯 그리기\n",
    "1) 전체 그래프의 크기를 정한다. (정하지 않으면 디폴트 크기로 지정된다.)<br>\n",
    "<b>`plt.figure(figsize=(x사이즈, y사이즈))`</b><br><br>\n",
    "2) 그래프를 그려 넣을 격자를 지정한다.(전체행개수,전체열개수,그래프순서)<br>\n",
    "<b>`plt.subplot(전체행개수,전체열개수,그래프순서`</b><br><br>\n",
    "3) 격자에 그래프를 하나씩 추가한다."
   ]
  },
  {
   "cell_type": "code",
   "execution_count": 16,
   "id": "cc329748",
   "metadata": {
    "ExecuteTime": {
     "end_time": "2023-05-12T11:14:12.087589Z",
     "start_time": "2023-05-12T11:14:11.394620Z"
    }
   },
   "outputs": [
    {
     "data": {
      "text/plain": [
       "[<matplotlib.lines.Line2D at 0x15f40b713d0>]"
      ]
     },
     "execution_count": 16,
     "metadata": {},
     "output_type": "execute_result"
    },
    {
     "data": {
      "image/png": "[encoded data removed]",
      "text/plain": [
       "<Figure size 900x600 with 4 Axes>"
      ]
     },
     "metadata": {},
     "output_type": "display_data"
    }
   ],
   "source": [
    "plt.figure(figsize=(9,6))\n",
    "plt.subplot(221)\n",
    "plt.plot(df1['x'],df1['y'],'o')\n",
    "\n",
    "plt.subplot(222)\n",
    "plt.plot(df2['x'],df2['y'],'+')\n",
    "\n",
    "plt.subplot(223)\n",
    "plt.plot(df3['x'],df3['y'],'*')\n",
    "\n",
    "plt.subplot(224)\n",
    "plt.plot(df4['x'],df4['y'],'d')"
   ]
  },
  {
   "attachments": {},
   "cell_type": "markdown",
   "id": "1fe5c9ee",
   "metadata": {},
   "source": [
    "## 전체 그래프의 속성 지정\n",
    "* figure 객체를 변수에 받는다.\n",
    "* figure객체의 suptitle(제목)메소드로 전체 그래프의 제목을 표시한다.\n",
    "* figure객체의 tight_layout()메소드로 그래프의 간격, 너비를 최적화한다."
   ]
  },
  {
   "cell_type": "code",
   "execution_count": 17,
   "id": "39981e49",
   "metadata": {
    "ExecuteTime": {
     "end_time": "2023-05-12T11:14:15.179591Z",
     "start_time": "2023-05-12T11:14:14.362592Z"
    }
   },
   "outputs": [
    {
     "data": {
      "image/png": "[encoded data removed]",
      "text/plain": [
       "<Figure size 900x600 with 4 Axes>"
      ]
     },
     "metadata": {},
     "output_type": "display_data"
    }
   ],
   "source": [
    "fig = plt.figure(figsize=(9,6), facecolor='ivory')\n",
    "\n",
    "plt.subplot(221)\n",
    "plt.plot(df1['x'],df1['y'],'o')\n",
    "plt.title('ax1')\n",
    "\n",
    "plt.subplot(222)\n",
    "plt.plot(df2['x'],df2['y'],'+')\n",
    "plt.title('ax2')\n",
    "\n",
    "plt.subplot(223)\n",
    "plt.plot(df3['x'],df3['y'],'*')\n",
    "plt.title('ax3')\n",
    "\n",
    "plt.subplot(224)\n",
    "plt.plot(df4['x'],df4['y'],'d')\n",
    "plt.title('ax4')\n",
    "\n",
    "fig.suptitle('Amscombe', size=20)\n",
    "fig.tight_layout()"
   ]
  },
  {
   "cell_type": "code",
   "execution_count": null,
   "id": "9692feac",
   "metadata": {},
   "outputs": [],
   "source": []
  },
  {
   "cell_type": "code",
   "execution_count": null,
   "id": "391ece43",
   "metadata": {},
   "outputs": [],
   "source": []
  }
 ],
 "metadata": {
  "hide_input": false,
  "kernelspec": {
   "display_name": "Python 3 (ipykernel)",
   "language": "python",
   "name": "python3"
  },
  "language_info": {
   "codemirror_mode": {
    "name": "ipython",
    "version": 3
   },
   "file_extension": ".py",
   "mimetype": "text/x-python",
   "name": "python",
   "nbconvert_exporter": "python",
   "pygments_lexer": "ipython3",
   "version": "3.11.3"
  },
  "toc": {
   "base_numbering": 1,
   "nav_menu": {},
   "number_sections": true,
   "sideBar": true,
   "skip_h1_title": false,
   "title_cell": "Table of Contents",
   "title_sidebar": "Contents",
   "toc_cell": false,
   "toc_position": {
    "height": "calc(100% - 180px)",
    "left": "10px",
    "top": "150px",
    "width": "245.76px"
   },
   "toc_section_display": true,
   "toc_window_display": true
  },
  "varInspector": {
   "cols": {
    "lenName": 16,
    "lenType": 16,
    "lenVar": 40
   },
   "kernels_config": {
    "python": {
     "delete_cmd_postfix": "",
     "delete_cmd_prefix": "del ",
     "library": "var_list.py",
     "varRefreshCmd": "print(var_dic_list())"
    },
    "r": {
     "delete_cmd_postfix": ") ",
     "delete_cmd_prefix": "rm(",
     "library": "var_list.r",
     "varRefreshCmd": "cat(var_dic_list()) "
    }
   },
   "types_to_exclude": [
    "module",
    "function",
    "builtin_function_or_method",
    "instance",
    "_Feature"
   ],
   "window_display": false
  }
 },
 "nbformat": 4,
 "nbformat_minor": 5
}
