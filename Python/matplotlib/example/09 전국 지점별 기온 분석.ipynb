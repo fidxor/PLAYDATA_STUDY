{
 "cells": [
  {
   "cell_type": "code",
   "execution_count": 4,
   "id": "23246b44",
   "metadata": {
    "ExecuteTime": {
     "end_time": "2023-05-12T12:30:27.638160Z",
     "start_time": "2023-05-12T12:30:27.621152Z"
    }
   },
   "outputs": [],
   "source": [
    "import matplotlib.pyplot as plt\n",
    "import pandas as pd"
   ]
  },
  {
   "cell_type": "code",
   "execution_count": 5,
   "id": "c674314c",
   "metadata": {
    "ExecuteTime": {
     "end_time": "2023-05-12T12:30:28.178156Z",
     "start_time": "2023-05-12T12:30:28.164154Z"
    }
   },
   "outputs": [],
   "source": [
    "plt.rcParams['font.family']='NanumGothic'\n",
    "plt.rcParams['axes.unicode_minus']=False"
   ]
  },
  {
   "cell_type": "markdown",
   "id": "fde3ee3e",
   "metadata": {},
   "source": [
    "# 데이터 준비 및 확인\n",
    "* 기상자료개방포털 > 데이터 > 기상관측 > 지상 > 종관기상관측(ASOS)<br>\n",
    "https://data.kma.go.kr/data/grnd/selectAsosRltmList.do?pgmNo=36<br>\n",
    "[ 자료형태 ] 일자료<br>\n",
    "[ 지점 ] 전체<br>\n",
    "[ 자료 ] 기온>최저,최고,평균<br>\n",
    "[ 기간 ] 1911~2020 (10년단위로 나누어 다운로드)\n"
   ]
  },
  {
   "cell_type": "markdown",
   "id": "f01a7051",
   "metadata": {},
   "source": [
    "## 데이터프레임 생성"
   ]
  },
  {
   "cell_type": "code",
   "execution_count": 6,
   "id": "39431c86",
   "metadata": {
    "ExecuteTime": {
     "end_time": "2023-05-12T12:30:35.206297Z",
     "start_time": "2023-05-12T12:30:33.300301Z"
    }
   },
   "outputs": [],
   "source": [
    "df_1911 = pd.read_csv('data/1911-1920 일별 기온.csv', encoding='cp949')\n",
    "df_1921 = pd.read_csv('data/1921-1930 일별 기온.csv', encoding='cp949')\n",
    "df_1931 = pd.read_csv('data/1931-1940 일별 기온.csv', encoding='cp949')\n",
    "df_1941 = pd.read_csv('data/1941-1950 일별 기온.csv', encoding='cp949')\n",
    "df_1951 = pd.read_csv('data/1951-1960 일별 기온.csv', encoding='cp949')\n",
    "df_1961 = pd.read_csv('data/1961-1970 일별 기온.csv', encoding='cp949')\n",
    "df_1971 = pd.read_csv('data/1971-1980 일별 기온.csv', encoding='cp949')\n",
    "df_1981 = pd.read_csv('data/1981-1990 일별 기온.csv', encoding='cp949')\n",
    "df_1991 = pd.read_csv('data/1991-2000 일별 기온.csv', encoding='cp949')\n",
    "df_2001 = pd.read_csv('data/2001-2010 일별 기온.csv', encoding='cp949')\n",
    "df_2011 = pd.read_csv('data/2011-2020 일별 기온.csv', encoding='cp949')"
   ]
  },
  {
   "cell_type": "code",
   "execution_count": 7,
   "id": "91b02704",
   "metadata": {
    "ExecuteTime": {
     "end_time": "2023-05-12T12:30:36.613573Z",
     "start_time": "2023-05-12T12:30:36.572575Z"
    }
   },
   "outputs": [],
   "source": [
    "# 데이터프레임 연결하기\n",
    "df = pd.concat([df_1911,df_1921,df_1931,df_1941,df_1951,df_1961,df_1971,df_1981,df_1991,df_2001,df_2011]\n",
    "              ,ignore_index=True)"
   ]
  },
  {
   "cell_type": "code",
   "execution_count": 8,
   "id": "cb1cd689",
   "metadata": {
    "ExecuteTime": {
     "end_time": "2023-05-12T12:30:38.422912Z",
     "start_time": "2023-05-12T12:30:38.391906Z"
    },
    "scrolled": true
   },
   "outputs": [
    {
     "data": {
      "text/html": [
       "<div>\n",
       "<style scoped>\n",
       "    .dataframe tbody tr th:only-of-type {\n",
       "        vertical-align: middle;\n",
       "    }\n",
       "\n",
       "    .dataframe tbody tr th {\n",
       "        vertical-align: top;\n",
       "    }\n",
       "\n",
       "    .dataframe thead th {\n",
       "        text-align: right;\n",
       "    }\n",
       "</style>\n",
       "<table border=\"1\" class=\"dataframe\">\n",
       "  <thead>\n",
       "    <tr style=\"text-align: right;\">\n",
       "      <th></th>\n",
       "      <th>지점</th>\n",
       "      <th>지점명</th>\n",
       "      <th>일시</th>\n",
       "      <th>평균기온(°C)</th>\n",
       "      <th>최저기온(°C)</th>\n",
       "      <th>최고기온(°C)</th>\n",
       "    </tr>\n",
       "  </thead>\n",
       "  <tbody>\n",
       "    <tr>\n",
       "      <th>0</th>\n",
       "      <td>105</td>\n",
       "      <td>강릉</td>\n",
       "      <td>1911-10-04</td>\n",
       "      <td>NaN</td>\n",
       "      <td>12.2</td>\n",
       "      <td>26.2</td>\n",
       "    </tr>\n",
       "    <tr>\n",
       "      <th>1</th>\n",
       "      <td>105</td>\n",
       "      <td>강릉</td>\n",
       "      <td>1911-10-09</td>\n",
       "      <td>NaN</td>\n",
       "      <td>6.0</td>\n",
       "      <td>16.6</td>\n",
       "    </tr>\n",
       "    <tr>\n",
       "      <th>2</th>\n",
       "      <td>105</td>\n",
       "      <td>강릉</td>\n",
       "      <td>1911-10-16</td>\n",
       "      <td>NaN</td>\n",
       "      <td>9.2</td>\n",
       "      <td>15.5</td>\n",
       "    </tr>\n",
       "    <tr>\n",
       "      <th>3</th>\n",
       "      <td>105</td>\n",
       "      <td>강릉</td>\n",
       "      <td>1911-11-01</td>\n",
       "      <td>NaN</td>\n",
       "      <td>6.0</td>\n",
       "      <td>14.8</td>\n",
       "    </tr>\n",
       "    <tr>\n",
       "      <th>4</th>\n",
       "      <td>105</td>\n",
       "      <td>강릉</td>\n",
       "      <td>1911-11-04</td>\n",
       "      <td>NaN</td>\n",
       "      <td>10.2</td>\n",
       "      <td>19.5</td>\n",
       "    </tr>\n",
       "  </tbody>\n",
       "</table>\n",
       "</div>"
      ],
      "text/plain": [
       "    지점 지점명          일시  평균기온(°C)  최저기온(°C)  최고기온(°C)\n",
       "0  105  강릉  1911-10-04       NaN      12.2      26.2\n",
       "1  105  강릉  1911-10-09       NaN       6.0      16.6\n",
       "2  105  강릉  1911-10-16       NaN       9.2      15.5\n",
       "3  105  강릉  1911-11-01       NaN       6.0      14.8\n",
       "4  105  강릉  1911-11-04       NaN      10.2      19.5"
      ]
     },
     "execution_count": 8,
     "metadata": {},
     "output_type": "execute_result"
    }
   ],
   "source": [
    "df.head()"
   ]
  },
  {
   "cell_type": "code",
   "execution_count": 9,
   "id": "ab43f880",
   "metadata": {
    "ExecuteTime": {
     "end_time": "2023-05-12T12:30:39.110961Z",
     "start_time": "2023-05-12T12:30:39.086965Z"
    },
    "scrolled": false
   },
   "outputs": [
    {
     "data": {
      "text/html": [
       "<div>\n",
       "<style scoped>\n",
       "    .dataframe tbody tr th:only-of-type {\n",
       "        vertical-align: middle;\n",
       "    }\n",
       "\n",
       "    .dataframe tbody tr th {\n",
       "        vertical-align: top;\n",
       "    }\n",
       "\n",
       "    .dataframe thead th {\n",
       "        text-align: right;\n",
       "    }\n",
       "</style>\n",
       "<table border=\"1\" class=\"dataframe\">\n",
       "  <thead>\n",
       "    <tr style=\"text-align: right;\">\n",
       "      <th></th>\n",
       "      <th>지점</th>\n",
       "      <th>지점명</th>\n",
       "      <th>일시</th>\n",
       "      <th>평균기온(°C)</th>\n",
       "      <th>최저기온(°C)</th>\n",
       "      <th>최고기온(°C)</th>\n",
       "    </tr>\n",
       "  </thead>\n",
       "  <tbody>\n",
       "    <tr>\n",
       "      <th>1597071</th>\n",
       "      <td>295</td>\n",
       "      <td>남해</td>\n",
       "      <td>2020-12-27</td>\n",
       "      <td>4.4</td>\n",
       "      <td>2.5</td>\n",
       "      <td>6.0</td>\n",
       "    </tr>\n",
       "    <tr>\n",
       "      <th>1597072</th>\n",
       "      <td>295</td>\n",
       "      <td>남해</td>\n",
       "      <td>2020-12-28</td>\n",
       "      <td>4.7</td>\n",
       "      <td>1.1</td>\n",
       "      <td>11.5</td>\n",
       "    </tr>\n",
       "    <tr>\n",
       "      <th>1597073</th>\n",
       "      <td>295</td>\n",
       "      <td>남해</td>\n",
       "      <td>2020-12-29</td>\n",
       "      <td>5.4</td>\n",
       "      <td>1.0</td>\n",
       "      <td>11.2</td>\n",
       "    </tr>\n",
       "    <tr>\n",
       "      <th>1597074</th>\n",
       "      <td>295</td>\n",
       "      <td>남해</td>\n",
       "      <td>2020-12-30</td>\n",
       "      <td>-3.0</td>\n",
       "      <td>-5.4</td>\n",
       "      <td>1.6</td>\n",
       "    </tr>\n",
       "    <tr>\n",
       "      <th>1597075</th>\n",
       "      <td>295</td>\n",
       "      <td>남해</td>\n",
       "      <td>2020-12-31</td>\n",
       "      <td>-1.3</td>\n",
       "      <td>-7.4</td>\n",
       "      <td>2.8</td>\n",
       "    </tr>\n",
       "  </tbody>\n",
       "</table>\n",
       "</div>"
      ],
      "text/plain": [
       "          지점 지점명          일시  평균기온(°C)  최저기온(°C)  최고기온(°C)\n",
       "1597071  295  남해  2020-12-27       4.4       2.5       6.0\n",
       "1597072  295  남해  2020-12-28       4.7       1.1      11.5\n",
       "1597073  295  남해  2020-12-29       5.4       1.0      11.2\n",
       "1597074  295  남해  2020-12-30      -3.0      -5.4       1.6\n",
       "1597075  295  남해  2020-12-31      -1.3      -7.4       2.8"
      ]
     },
     "execution_count": 9,
     "metadata": {},
     "output_type": "execute_result"
    }
   ],
   "source": [
    "df.tail()"
   ]
  },
  {
   "cell_type": "markdown",
   "id": "af830e3a",
   "metadata": {},
   "source": [
    "## 데이터 확인"
   ]
  },
  {
   "cell_type": "code",
   "execution_count": 10,
   "id": "cc38c56f",
   "metadata": {
    "ExecuteTime": {
     "end_time": "2023-05-12T12:30:40.753180Z",
     "start_time": "2023-05-12T12:30:40.732177Z"
    }
   },
   "outputs": [
    {
     "data": {
      "text/plain": [
       "(1597076, 6)"
      ]
     },
     "execution_count": 10,
     "metadata": {},
     "output_type": "execute_result"
    }
   ],
   "source": [
    "df.shape"
   ]
  },
  {
   "cell_type": "code",
   "execution_count": 11,
   "id": "ee5375b4",
   "metadata": {
    "ExecuteTime": {
     "end_time": "2023-05-12T12:30:41.377642Z",
     "start_time": "2023-05-12T12:30:41.254642Z"
    },
    "scrolled": true
   },
   "outputs": [
    {
     "data": {
      "text/plain": [
       "array(['강릉', '서울', '인천', '대구', '전주', '부산', '목포', '제주', '울릉도', '추풍령', '광주',\n",
       "       '포항', '울산', '여수', '속초', '춘천', '수원', '서산', '청주', '대전', '군산', '통영',\n",
       "       '서귀포', '진주', '임실', '정읍', '대관령', '원주', '충주', '울진', '안동', '완도', '성산',\n",
       "       '강화', '양평', '이천', '인제', '홍천', '삼척', '제천', '보은', '천안', '보령', '부여',\n",
       "       '금산', '부안', '남원', '고창군', '주암', '장흥', '해남', '고흥', '성산포', '영주', '문경',\n",
       "       '영덕', '의성', '구미', '영천', '거창', '합천', '밀양', '산청', '거제', '남해', '철원',\n",
       "       '관악산', '창원', '고산', '태백', '장수', '봉화', '동두천', '백령도', '동해', '영월',\n",
       "       '무안', '흑산도', '파주', '북강릉', '상주', '고창', '진도(첨찰산)', '정선군', '영광군',\n",
       "       '김해시', '순창군', '북창원', '양산시', '보성군', '강진군', '의령군', '함양군', '청송군',\n",
       "       '경주시', '북춘천', '순천', '대구(기)', '홍성', '세종', '광양시', '진도군'],\n",
       "      dtype=object)"
      ]
     },
     "execution_count": 11,
     "metadata": {},
     "output_type": "execute_result"
    }
   ],
   "source": [
    "df['지점명'].unique()"
   ]
  },
  {
   "cell_type": "code",
   "execution_count": 12,
   "id": "41dc90ca",
   "metadata": {
    "ExecuteTime": {
     "end_time": "2023-05-12T12:30:42.047802Z",
     "start_time": "2023-05-12T12:30:41.940802Z"
    },
    "scrolled": true
   },
   "outputs": [
    {
     "data": {
      "text/plain": [
       "102"
      ]
     },
     "execution_count": 12,
     "metadata": {},
     "output_type": "execute_result"
    }
   ],
   "source": [
    "df['지점명'].nunique()"
   ]
  },
  {
   "cell_type": "markdown",
   "id": "cafe4468",
   "metadata": {},
   "source": [
    "## 데이터타입 확인/변경"
   ]
  },
  {
   "cell_type": "code",
   "execution_count": 13,
   "id": "d22bd42a",
   "metadata": {
    "ExecuteTime": {
     "end_time": "2023-05-12T12:30:43.285827Z",
     "start_time": "2023-05-12T12:30:43.261820Z"
    },
    "scrolled": true
   },
   "outputs": [
    {
     "data": {
      "text/plain": [
       "지점            int64\n",
       "지점명          object\n",
       "일시           object\n",
       "평균기온(°C)    float64\n",
       "최저기온(°C)    float64\n",
       "최고기온(°C)    float64\n",
       "dtype: object"
      ]
     },
     "execution_count": 13,
     "metadata": {},
     "output_type": "execute_result"
    }
   ],
   "source": [
    "df.dtypes"
   ]
  },
  {
   "cell_type": "code",
   "execution_count": 14,
   "id": "a90ed3a7",
   "metadata": {
    "ExecuteTime": {
     "end_time": "2023-05-12T12:30:44.633819Z",
     "start_time": "2023-05-12T12:30:43.891822Z"
    }
   },
   "outputs": [],
   "source": [
    "df['일시'] = pd.to_datetime(df['일시'])"
   ]
  },
  {
   "cell_type": "code",
   "execution_count": 15,
   "id": "bcc59531",
   "metadata": {
    "ExecuteTime": {
     "end_time": "2023-05-12T12:30:44.822838Z",
     "start_time": "2023-05-12T12:30:44.810821Z"
    }
   },
   "outputs": [
    {
     "data": {
      "text/plain": [
       "지점                   int64\n",
       "지점명                 object\n",
       "일시          datetime64[ns]\n",
       "평균기온(°C)           float64\n",
       "최저기온(°C)           float64\n",
       "최고기온(°C)           float64\n",
       "dtype: object"
      ]
     },
     "execution_count": 15,
     "metadata": {},
     "output_type": "execute_result"
    }
   ],
   "source": [
    "df.dtypes"
   ]
  },
  {
   "cell_type": "markdown",
   "id": "225357fc",
   "metadata": {},
   "source": [
    "## 2020년 지점별 기온 데이터 추출 및 전처리"
   ]
  },
  {
   "cell_type": "markdown",
   "id": "c4f7932a",
   "metadata": {},
   "source": [
    "### 2020년 기온 데이터 추출하여 서브셋 만들기\n",
    "* 조건으로 데이터를 추출한다.\n",
    "* 필요한 컬럼을 추출한다.\n",
    "* .copy()를 사용하여 카피본으로 서브셋을 만든다."
   ]
  },
  {
   "cell_type": "code",
   "execution_count": 16,
   "id": "a2787e17",
   "metadata": {
    "ExecuteTime": {
     "end_time": "2023-05-12T12:30:48.184419Z",
     "start_time": "2023-05-12T12:30:48.020416Z"
    }
   },
   "outputs": [
    {
     "data": {
      "text/html": [
       "<div>\n",
       "<style scoped>\n",
       "    .dataframe tbody tr th:only-of-type {\n",
       "        vertical-align: middle;\n",
       "    }\n",
       "\n",
       "    .dataframe tbody tr th {\n",
       "        vertical-align: top;\n",
       "    }\n",
       "\n",
       "    .dataframe thead th {\n",
       "        text-align: right;\n",
       "    }\n",
       "</style>\n",
       "<table border=\"1\" class=\"dataframe\">\n",
       "  <thead>\n",
       "    <tr style=\"text-align: right;\">\n",
       "      <th></th>\n",
       "      <th>지점</th>\n",
       "      <th>지점명</th>\n",
       "      <th>일시</th>\n",
       "      <th>평균기온(°C)</th>\n",
       "      <th>최저기온(°C)</th>\n",
       "      <th>최고기온(°C)</th>\n",
       "    </tr>\n",
       "  </thead>\n",
       "  <tbody>\n",
       "    <tr>\n",
       "      <th>1257373</th>\n",
       "      <td>90</td>\n",
       "      <td>속초</td>\n",
       "      <td>2020-01-01</td>\n",
       "      <td>0.8</td>\n",
       "      <td>-3.4</td>\n",
       "      <td>4.8</td>\n",
       "    </tr>\n",
       "    <tr>\n",
       "      <th>1257374</th>\n",
       "      <td>90</td>\n",
       "      <td>속초</td>\n",
       "      <td>2020-01-02</td>\n",
       "      <td>2.8</td>\n",
       "      <td>-2.1</td>\n",
       "      <td>6.6</td>\n",
       "    </tr>\n",
       "    <tr>\n",
       "      <th>1257375</th>\n",
       "      <td>90</td>\n",
       "      <td>속초</td>\n",
       "      <td>2020-01-03</td>\n",
       "      <td>4.7</td>\n",
       "      <td>0.8</td>\n",
       "      <td>8.5</td>\n",
       "    </tr>\n",
       "    <tr>\n",
       "      <th>1257376</th>\n",
       "      <td>90</td>\n",
       "      <td>속초</td>\n",
       "      <td>2020-01-04</td>\n",
       "      <td>4.0</td>\n",
       "      <td>1.1</td>\n",
       "      <td>8.1</td>\n",
       "    </tr>\n",
       "    <tr>\n",
       "      <th>1257377</th>\n",
       "      <td>90</td>\n",
       "      <td>속초</td>\n",
       "      <td>2020-01-05</td>\n",
       "      <td>3.1</td>\n",
       "      <td>-0.6</td>\n",
       "      <td>8.8</td>\n",
       "    </tr>\n",
       "    <tr>\n",
       "      <th>...</th>\n",
       "      <td>...</td>\n",
       "      <td>...</td>\n",
       "      <td>...</td>\n",
       "      <td>...</td>\n",
       "      <td>...</td>\n",
       "      <td>...</td>\n",
       "    </tr>\n",
       "    <tr>\n",
       "      <th>1597071</th>\n",
       "      <td>295</td>\n",
       "      <td>남해</td>\n",
       "      <td>2020-12-27</td>\n",
       "      <td>4.4</td>\n",
       "      <td>2.5</td>\n",
       "      <td>6.0</td>\n",
       "    </tr>\n",
       "    <tr>\n",
       "      <th>1597072</th>\n",
       "      <td>295</td>\n",
       "      <td>남해</td>\n",
       "      <td>2020-12-28</td>\n",
       "      <td>4.7</td>\n",
       "      <td>1.1</td>\n",
       "      <td>11.5</td>\n",
       "    </tr>\n",
       "    <tr>\n",
       "      <th>1597073</th>\n",
       "      <td>295</td>\n",
       "      <td>남해</td>\n",
       "      <td>2020-12-29</td>\n",
       "      <td>5.4</td>\n",
       "      <td>1.0</td>\n",
       "      <td>11.2</td>\n",
       "    </tr>\n",
       "    <tr>\n",
       "      <th>1597074</th>\n",
       "      <td>295</td>\n",
       "      <td>남해</td>\n",
       "      <td>2020-12-30</td>\n",
       "      <td>-3.0</td>\n",
       "      <td>-5.4</td>\n",
       "      <td>1.6</td>\n",
       "    </tr>\n",
       "    <tr>\n",
       "      <th>1597075</th>\n",
       "      <td>295</td>\n",
       "      <td>남해</td>\n",
       "      <td>2020-12-31</td>\n",
       "      <td>-1.3</td>\n",
       "      <td>-7.4</td>\n",
       "      <td>2.8</td>\n",
       "    </tr>\n",
       "  </tbody>\n",
       "</table>\n",
       "<p>34767 rows × 6 columns</p>\n",
       "</div>"
      ],
      "text/plain": [
       "          지점 지점명         일시  평균기온(°C)  최저기온(°C)  최고기온(°C)\n",
       "1257373   90  속초 2020-01-01       0.8      -3.4       4.8\n",
       "1257374   90  속초 2020-01-02       2.8      -2.1       6.6\n",
       "1257375   90  속초 2020-01-03       4.7       0.8       8.5\n",
       "1257376   90  속초 2020-01-04       4.0       1.1       8.1\n",
       "1257377   90  속초 2020-01-05       3.1      -0.6       8.8\n",
       "...      ...  ..        ...       ...       ...       ...\n",
       "1597071  295  남해 2020-12-27       4.4       2.5       6.0\n",
       "1597072  295  남해 2020-12-28       4.7       1.1      11.5\n",
       "1597073  295  남해 2020-12-29       5.4       1.0      11.2\n",
       "1597074  295  남해 2020-12-30      -3.0      -5.4       1.6\n",
       "1597075  295  남해 2020-12-31      -1.3      -7.4       2.8\n",
       "\n",
       "[34767 rows x 6 columns]"
      ]
     },
     "execution_count": 16,
     "metadata": {},
     "output_type": "execute_result"
    }
   ],
   "source": [
    "# 서브셋 만들기\n",
    "df_2020 = df[df['일시'].dt.year==2020].copy()\n",
    "df_2020"
   ]
  },
  {
   "cell_type": "code",
   "execution_count": 17,
   "id": "1e898ac3",
   "metadata": {
    "ExecuteTime": {
     "end_time": "2023-05-12T12:30:48.854187Z",
     "start_time": "2023-05-12T12:30:48.836187Z"
    }
   },
   "outputs": [
    {
     "data": {
      "text/plain": [
       "속초     366\n",
       "세종     366\n",
       "순창군    366\n",
       "김해시    366\n",
       "영광군    366\n",
       "      ... \n",
       "군산     366\n",
       "포항     366\n",
       "남해     366\n",
       "북창원    365\n",
       "진도군    364\n",
       "Name: 지점명, Length: 95, dtype: int64"
      ]
     },
     "execution_count": 17,
     "metadata": {},
     "output_type": "execute_result"
    }
   ],
   "source": [
    "# 지점별 데이터 개수 카운트\n",
    "df_2020['지점명'].value_counts()"
   ]
  },
  {
   "cell_type": "markdown",
   "id": "9a760bfa",
   "metadata": {},
   "source": [
    "### 결측치 확인"
   ]
  },
  {
   "cell_type": "code",
   "execution_count": 18,
   "id": "0eb5dea9",
   "metadata": {
    "ExecuteTime": {
     "end_time": "2023-05-12T12:30:51.169780Z",
     "start_time": "2023-05-12T12:30:51.111780Z"
    },
    "scrolled": false
   },
   "outputs": [
    {
     "data": {
      "text/plain": [
       "지점           0\n",
       "지점명          0\n",
       "일시           0\n",
       "평균기온(°C)    36\n",
       "최저기온(°C)     0\n",
       "최고기온(°C)     1\n",
       "dtype: int64"
      ]
     },
     "execution_count": 18,
     "metadata": {},
     "output_type": "execute_result"
    }
   ],
   "source": [
    "# 컬럼별 결측치 개수 확인\n",
    "df_2020.isnull().sum()"
   ]
  },
  {
   "cell_type": "code",
   "execution_count": 19,
   "id": "21f9a3dc",
   "metadata": {
    "ExecuteTime": {
     "end_time": "2023-05-12T12:30:52.891926Z",
     "start_time": "2023-05-12T12:30:52.869949Z"
    }
   },
   "outputs": [
    {
     "data": {
      "text/html": [
       "<div>\n",
       "<style scoped>\n",
       "    .dataframe tbody tr th:only-of-type {\n",
       "        vertical-align: middle;\n",
       "    }\n",
       "\n",
       "    .dataframe tbody tr th {\n",
       "        vertical-align: top;\n",
       "    }\n",
       "\n",
       "    .dataframe thead th {\n",
       "        text-align: right;\n",
       "    }\n",
       "</style>\n",
       "<table border=\"1\" class=\"dataframe\">\n",
       "  <thead>\n",
       "    <tr style=\"text-align: right;\">\n",
       "      <th></th>\n",
       "      <th>지점</th>\n",
       "      <th>지점명</th>\n",
       "      <th>일시</th>\n",
       "      <th>평균기온(°C)</th>\n",
       "      <th>최저기온(°C)</th>\n",
       "      <th>최고기온(°C)</th>\n",
       "    </tr>\n",
       "  </thead>\n",
       "  <tbody>\n",
       "    <tr>\n",
       "      <th>1324913</th>\n",
       "      <td>130</td>\n",
       "      <td>울진</td>\n",
       "      <td>2020-08-23</td>\n",
       "      <td>NaN</td>\n",
       "      <td>22.1</td>\n",
       "      <td>27.9</td>\n",
       "    </tr>\n",
       "    <tr>\n",
       "      <th>1335898</th>\n",
       "      <td>135</td>\n",
       "      <td>추풍령</td>\n",
       "      <td>2020-09-18</td>\n",
       "      <td>NaN</td>\n",
       "      <td>13.8</td>\n",
       "      <td>23.7</td>\n",
       "    </tr>\n",
       "    <tr>\n",
       "      <th>1335905</th>\n",
       "      <td>135</td>\n",
       "      <td>추풍령</td>\n",
       "      <td>2020-09-25</td>\n",
       "      <td>NaN</td>\n",
       "      <td>11.6</td>\n",
       "      <td>23.6</td>\n",
       "    </tr>\n",
       "    <tr>\n",
       "      <th>1350354</th>\n",
       "      <td>140</td>\n",
       "      <td>군산</td>\n",
       "      <td>2020-04-15</td>\n",
       "      <td>NaN</td>\n",
       "      <td>4.7</td>\n",
       "      <td>17.0</td>\n",
       "    </tr>\n",
       "    <tr>\n",
       "      <th>1350584</th>\n",
       "      <td>140</td>\n",
       "      <td>군산</td>\n",
       "      <td>2020-12-01</td>\n",
       "      <td>NaN</td>\n",
       "      <td>-1.5</td>\n",
       "      <td>8.4</td>\n",
       "    </tr>\n",
       "    <tr>\n",
       "      <th>1394404</th>\n",
       "      <td>172</td>\n",
       "      <td>고창</td>\n",
       "      <td>2020-11-19</td>\n",
       "      <td>NaN</td>\n",
       "      <td>11.5</td>\n",
       "      <td>22.2</td>\n",
       "    </tr>\n",
       "    <tr>\n",
       "      <th>1397661</th>\n",
       "      <td>174</td>\n",
       "      <td>순천</td>\n",
       "      <td>2020-01-18</td>\n",
       "      <td>NaN</td>\n",
       "      <td>-1.7</td>\n",
       "      <td>4.1</td>\n",
       "    </tr>\n",
       "    <tr>\n",
       "      <th>1436214</th>\n",
       "      <td>211</td>\n",
       "      <td>인제</td>\n",
       "      <td>2020-02-20</td>\n",
       "      <td>NaN</td>\n",
       "      <td>-2.7</td>\n",
       "      <td>9.8</td>\n",
       "    </tr>\n",
       "    <tr>\n",
       "      <th>1447150</th>\n",
       "      <td>217</td>\n",
       "      <td>정선군</td>\n",
       "      <td>2020-01-30</td>\n",
       "      <td>NaN</td>\n",
       "      <td>-1.2</td>\n",
       "      <td>6.1</td>\n",
       "    </tr>\n",
       "    <tr>\n",
       "      <th>1461944</th>\n",
       "      <td>235</td>\n",
       "      <td>보령</td>\n",
       "      <td>2020-07-30</td>\n",
       "      <td>NaN</td>\n",
       "      <td>22.9</td>\n",
       "      <td>26.3</td>\n",
       "    </tr>\n",
       "    <tr>\n",
       "      <th>1477276</th>\n",
       "      <td>244</td>\n",
       "      <td>임실</td>\n",
       "      <td>2020-12-16</td>\n",
       "      <td>NaN</td>\n",
       "      <td>-8.7</td>\n",
       "      <td>-3.2</td>\n",
       "    </tr>\n",
       "    <tr>\n",
       "      <th>1480782</th>\n",
       "      <td>245</td>\n",
       "      <td>정읍</td>\n",
       "      <td>2020-07-22</td>\n",
       "      <td>NaN</td>\n",
       "      <td>20.6</td>\n",
       "      <td>23.8</td>\n",
       "    </tr>\n",
       "    <tr>\n",
       "      <th>1484236</th>\n",
       "      <td>247</td>\n",
       "      <td>남원</td>\n",
       "      <td>2020-01-05</td>\n",
       "      <td>NaN</td>\n",
       "      <td>-6.2</td>\n",
       "      <td>9.1</td>\n",
       "    </tr>\n",
       "    <tr>\n",
       "      <th>1484254</th>\n",
       "      <td>247</td>\n",
       "      <td>남원</td>\n",
       "      <td>2020-01-23</td>\n",
       "      <td>NaN</td>\n",
       "      <td>2.6</td>\n",
       "      <td>8.7</td>\n",
       "    </tr>\n",
       "    <tr>\n",
       "      <th>1484276</th>\n",
       "      <td>247</td>\n",
       "      <td>남원</td>\n",
       "      <td>2020-02-14</td>\n",
       "      <td>NaN</td>\n",
       "      <td>2.0</td>\n",
       "      <td>18.3</td>\n",
       "    </tr>\n",
       "    <tr>\n",
       "      <th>1506195</th>\n",
       "      <td>255</td>\n",
       "      <td>북창원</td>\n",
       "      <td>2020-02-17</td>\n",
       "      <td>NaN</td>\n",
       "      <td>-2.8</td>\n",
       "      <td>2.9</td>\n",
       "    </tr>\n",
       "    <tr>\n",
       "      <th>1510383</th>\n",
       "      <td>257</td>\n",
       "      <td>양산시</td>\n",
       "      <td>2020-02-13</td>\n",
       "      <td>NaN</td>\n",
       "      <td>6.5</td>\n",
       "      <td>14.0</td>\n",
       "    </tr>\n",
       "    <tr>\n",
       "      <th>1525125</th>\n",
       "      <td>261</td>\n",
       "      <td>해남</td>\n",
       "      <td>2020-06-25</td>\n",
       "      <td>NaN</td>\n",
       "      <td>21.4</td>\n",
       "      <td>22.1</td>\n",
       "    </tr>\n",
       "    <tr>\n",
       "      <th>1525126</th>\n",
       "      <td>261</td>\n",
       "      <td>해남</td>\n",
       "      <td>2020-06-26</td>\n",
       "      <td>NaN</td>\n",
       "      <td>18.8</td>\n",
       "      <td>28.4</td>\n",
       "    </tr>\n",
       "    <tr>\n",
       "      <th>1532312</th>\n",
       "      <td>263</td>\n",
       "      <td>의령군</td>\n",
       "      <td>2020-02-27</td>\n",
       "      <td>NaN</td>\n",
       "      <td>5.5</td>\n",
       "      <td>10.7</td>\n",
       "    </tr>\n",
       "    <tr>\n",
       "      <th>1532313</th>\n",
       "      <td>263</td>\n",
       "      <td>의령군</td>\n",
       "      <td>2020-02-28</td>\n",
       "      <td>NaN</td>\n",
       "      <td>4.0</td>\n",
       "      <td>7.1</td>\n",
       "    </tr>\n",
       "    <tr>\n",
       "      <th>1532485</th>\n",
       "      <td>263</td>\n",
       "      <td>의령군</td>\n",
       "      <td>2020-08-18</td>\n",
       "      <td>NaN</td>\n",
       "      <td>23.5</td>\n",
       "      <td>31.6</td>\n",
       "    </tr>\n",
       "    <tr>\n",
       "      <th>1532596</th>\n",
       "      <td>263</td>\n",
       "      <td>의령군</td>\n",
       "      <td>2020-12-07</td>\n",
       "      <td>NaN</td>\n",
       "      <td>-3.7</td>\n",
       "      <td>12.6</td>\n",
       "    </tr>\n",
       "    <tr>\n",
       "      <th>1532613</th>\n",
       "      <td>263</td>\n",
       "      <td>의령군</td>\n",
       "      <td>2020-12-24</td>\n",
       "      <td>NaN</td>\n",
       "      <td>-1.9</td>\n",
       "      <td>13.9</td>\n",
       "    </tr>\n",
       "    <tr>\n",
       "      <th>1536022</th>\n",
       "      <td>264</td>\n",
       "      <td>함양군</td>\n",
       "      <td>2020-04-25</td>\n",
       "      <td>NaN</td>\n",
       "      <td>1.3</td>\n",
       "      <td>23.5</td>\n",
       "    </tr>\n",
       "    <tr>\n",
       "      <th>1536024</th>\n",
       "      <td>264</td>\n",
       "      <td>함양군</td>\n",
       "      <td>2020-04-27</td>\n",
       "      <td>NaN</td>\n",
       "      <td>1.6</td>\n",
       "      <td>19.0</td>\n",
       "    </tr>\n",
       "    <tr>\n",
       "      <th>1536025</th>\n",
       "      <td>264</td>\n",
       "      <td>함양군</td>\n",
       "      <td>2020-04-28</td>\n",
       "      <td>NaN</td>\n",
       "      <td>1.5</td>\n",
       "      <td>21.0</td>\n",
       "    </tr>\n",
       "    <tr>\n",
       "      <th>1539857</th>\n",
       "      <td>266</td>\n",
       "      <td>광양시</td>\n",
       "      <td>2020-12-26</td>\n",
       "      <td>NaN</td>\n",
       "      <td>4.3</td>\n",
       "      <td>11.0</td>\n",
       "    </tr>\n",
       "    <tr>\n",
       "      <th>1542104</th>\n",
       "      <td>268</td>\n",
       "      <td>진도군</td>\n",
       "      <td>2020-07-03</td>\n",
       "      <td>NaN</td>\n",
       "      <td>19.0</td>\n",
       "      <td>21.4</td>\n",
       "    </tr>\n",
       "    <tr>\n",
       "      <th>1549577</th>\n",
       "      <td>272</td>\n",
       "      <td>영주</td>\n",
       "      <td>2020-12-18</td>\n",
       "      <td>NaN</td>\n",
       "      <td>-9.3</td>\n",
       "      <td>1.1</td>\n",
       "    </tr>\n",
       "    <tr>\n",
       "      <th>1556859</th>\n",
       "      <td>276</td>\n",
       "      <td>청송군</td>\n",
       "      <td>2020-11-26</td>\n",
       "      <td>NaN</td>\n",
       "      <td>-2.7</td>\n",
       "      <td>NaN</td>\n",
       "    </tr>\n",
       "    <tr>\n",
       "      <th>1560530</th>\n",
       "      <td>277</td>\n",
       "      <td>영덕</td>\n",
       "      <td>2020-12-15</td>\n",
       "      <td>NaN</td>\n",
       "      <td>-8.9</td>\n",
       "      <td>-1.3</td>\n",
       "    </tr>\n",
       "    <tr>\n",
       "      <th>1564045</th>\n",
       "      <td>278</td>\n",
       "      <td>의성</td>\n",
       "      <td>2020-07-30</td>\n",
       "      <td>NaN</td>\n",
       "      <td>21.5</td>\n",
       "      <td>25.1</td>\n",
       "    </tr>\n",
       "    <tr>\n",
       "      <th>1567805</th>\n",
       "      <td>279</td>\n",
       "      <td>구미</td>\n",
       "      <td>2020-11-14</td>\n",
       "      <td>NaN</td>\n",
       "      <td>2.8</td>\n",
       "      <td>18.6</td>\n",
       "    </tr>\n",
       "    <tr>\n",
       "      <th>1571201</th>\n",
       "      <td>281</td>\n",
       "      <td>영천</td>\n",
       "      <td>2020-03-02</td>\n",
       "      <td>NaN</td>\n",
       "      <td>0.5</td>\n",
       "      <td>11.3</td>\n",
       "    </tr>\n",
       "    <tr>\n",
       "      <th>1593152</th>\n",
       "      <td>294</td>\n",
       "      <td>거제</td>\n",
       "      <td>2020-04-05</td>\n",
       "      <td>NaN</td>\n",
       "      <td>4.6</td>\n",
       "      <td>14.5</td>\n",
       "    </tr>\n",
       "  </tbody>\n",
       "</table>\n",
       "</div>"
      ],
      "text/plain": [
       "          지점  지점명         일시  평균기온(°C)  최저기온(°C)  최고기온(°C)\n",
       "1324913  130   울진 2020-08-23       NaN      22.1      27.9\n",
       "1335898  135  추풍령 2020-09-18       NaN      13.8      23.7\n",
       "1335905  135  추풍령 2020-09-25       NaN      11.6      23.6\n",
       "1350354  140   군산 2020-04-15       NaN       4.7      17.0\n",
       "1350584  140   군산 2020-12-01       NaN      -1.5       8.4\n",
       "1394404  172   고창 2020-11-19       NaN      11.5      22.2\n",
       "1397661  174   순천 2020-01-18       NaN      -1.7       4.1\n",
       "1436214  211   인제 2020-02-20       NaN      -2.7       9.8\n",
       "1447150  217  정선군 2020-01-30       NaN      -1.2       6.1\n",
       "1461944  235   보령 2020-07-30       NaN      22.9      26.3\n",
       "1477276  244   임실 2020-12-16       NaN      -8.7      -3.2\n",
       "1480782  245   정읍 2020-07-22       NaN      20.6      23.8\n",
       "1484236  247   남원 2020-01-05       NaN      -6.2       9.1\n",
       "1484254  247   남원 2020-01-23       NaN       2.6       8.7\n",
       "1484276  247   남원 2020-02-14       NaN       2.0      18.3\n",
       "1506195  255  북창원 2020-02-17       NaN      -2.8       2.9\n",
       "1510383  257  양산시 2020-02-13       NaN       6.5      14.0\n",
       "1525125  261   해남 2020-06-25       NaN      21.4      22.1\n",
       "1525126  261   해남 2020-06-26       NaN      18.8      28.4\n",
       "1532312  263  의령군 2020-02-27       NaN       5.5      10.7\n",
       "1532313  263  의령군 2020-02-28       NaN       4.0       7.1\n",
       "1532485  263  의령군 2020-08-18       NaN      23.5      31.6\n",
       "1532596  263  의령군 2020-12-07       NaN      -3.7      12.6\n",
       "1532613  263  의령군 2020-12-24       NaN      -1.9      13.9\n",
       "1536022  264  함양군 2020-04-25       NaN       1.3      23.5\n",
       "1536024  264  함양군 2020-04-27       NaN       1.6      19.0\n",
       "1536025  264  함양군 2020-04-28       NaN       1.5      21.0\n",
       "1539857  266  광양시 2020-12-26       NaN       4.3      11.0\n",
       "1542104  268  진도군 2020-07-03       NaN      19.0      21.4\n",
       "1549577  272   영주 2020-12-18       NaN      -9.3       1.1\n",
       "1556859  276  청송군 2020-11-26       NaN      -2.7       NaN\n",
       "1560530  277   영덕 2020-12-15       NaN      -8.9      -1.3\n",
       "1564045  278   의성 2020-07-30       NaN      21.5      25.1\n",
       "1567805  279   구미 2020-11-14       NaN       2.8      18.6\n",
       "1571201  281   영천 2020-03-02       NaN       0.5      11.3\n",
       "1593152  294   거제 2020-04-05       NaN       4.6      14.5"
      ]
     },
     "execution_count": 19,
     "metadata": {},
     "output_type": "execute_result"
    }
   ],
   "source": [
    "# 결측치 데이터 확인\n",
    "df_2020[(df_2020['평균기온(°C)'].isnull()) | (df_2020['최고기온(°C)'].isnull())]"
   ]
  },
  {
   "cell_type": "code",
   "execution_count": 20,
   "id": "e120e2b8",
   "metadata": {
    "ExecuteTime": {
     "end_time": "2023-05-12T12:30:53.877686Z",
     "start_time": "2023-05-12T12:30:53.860682Z"
    }
   },
   "outputs": [
    {
     "data": {
      "text/plain": [
       "지점명\n",
       "의령군    5\n",
       "함양군    3\n",
       "남원     3\n",
       "해남     2\n",
       "추풍령    2\n",
       "군산     2\n",
       "청송군    1\n",
       "진도군    1\n",
       "정읍     1\n",
       "정선군    1\n",
       "임실     1\n",
       "인제     1\n",
       "의성     1\n",
       "거제     1\n",
       "울진     1\n",
       "고창     1\n",
       "영주     1\n",
       "영덕     1\n",
       "양산시    1\n",
       "순천     1\n",
       "북창원    1\n",
       "보령     1\n",
       "구미     1\n",
       "광양시    1\n",
       "영천     1\n",
       "dtype: int64"
      ]
     },
     "execution_count": 20,
     "metadata": {},
     "output_type": "execute_result"
    }
   ],
   "source": [
    "# 결측치가 있는 데이터의 지점별 카운팅\n",
    "df_2020[(df_2020['평균기온(°C)'].isnull()) | (df_2020['최고기온(°C)'].isnull())].value_counts('지점명')"
   ]
  },
  {
   "cell_type": "code",
   "execution_count": 21,
   "id": "d4134e8e",
   "metadata": {
    "ExecuteTime": {
     "end_time": "2023-05-12T12:30:57.902671Z",
     "start_time": "2023-05-12T12:30:57.877641Z"
    }
   },
   "outputs": [],
   "source": [
    "# 결측치 제거\n",
    "df_2020.dropna(inplace=True)"
   ]
  },
  {
   "cell_type": "code",
   "execution_count": 22,
   "id": "6d356976",
   "metadata": {
    "ExecuteTime": {
     "end_time": "2023-05-12T12:31:00.863328Z",
     "start_time": "2023-05-12T12:31:00.845298Z"
    }
   },
   "outputs": [
    {
     "data": {
      "text/plain": [
       "지점          0\n",
       "지점명         0\n",
       "일시          0\n",
       "평균기온(°C)    0\n",
       "최저기온(°C)    0\n",
       "최고기온(°C)    0\n",
       "dtype: int64"
      ]
     },
     "execution_count": 22,
     "metadata": {},
     "output_type": "execute_result"
    }
   ],
   "source": [
    "# 결측치 잘 제거되었는지 확인\n",
    "df_2020.isnull().sum()"
   ]
  },
  {
   "cell_type": "code",
   "execution_count": 23,
   "id": "14441e51",
   "metadata": {
    "ExecuteTime": {
     "end_time": "2023-05-12T12:31:02.097119Z",
     "start_time": "2023-05-12T12:31:02.071121Z"
    },
    "scrolled": true
   },
   "outputs": [
    {
     "data": {
      "text/plain": [
       "속초     366\n",
       "완도     366\n",
       "금산     366\n",
       "부여     366\n",
       "천안     366\n",
       "      ... \n",
       "군산     364\n",
       "진도군    363\n",
       "함양군    363\n",
       "남원     363\n",
       "의령군    361\n",
       "Name: 지점명, Length: 95, dtype: int64"
      ]
     },
     "execution_count": 23,
     "metadata": {},
     "output_type": "execute_result"
    }
   ],
   "source": [
    "# 지점별 데이터 개수 확인\n",
    "df_2020['지점명'].value_counts()"
   ]
  },
  {
   "cell_type": "markdown",
   "id": "84b0591d",
   "metadata": {},
   "source": [
    "# 지점별 연평균 기온 시각화\n",
    "* 연 평균기온이 높은 지역은 어디일까?\n",
    "* 연 평균기온이 낮은 지역은 어디일까?\n",
    "* 서울의 연 평균기온은 전국에서 어느정도 위치에 해당할까?"
   ]
  },
  {
   "cell_type": "markdown",
   "id": "50b0f164",
   "metadata": {},
   "source": [
    "## 2020년도 지점별 연 평균기온 추출\n",
    "* 지점별 연간 일 평균기온의 평균 계산<br>\n",
    "지점명으로 그룹핑하여 일평균기온의 평균 계산"
   ]
  },
  {
   "cell_type": "code",
   "execution_count": 24,
   "id": "4274a523",
   "metadata": {
    "ExecuteTime": {
     "end_time": "2023-05-12T12:31:05.571072Z",
     "start_time": "2023-05-12T12:31:05.542071Z"
    }
   },
   "outputs": [
    {
     "data": {
      "text/plain": [
       "지점명\n",
       "서귀포    16.770219\n",
       "제주     16.744809\n",
       "고산     16.076503\n",
       "성산     15.981148\n",
       "북창원    15.206593\n",
       "         ...    \n",
       "철원     10.976776\n",
       "제천     10.973497\n",
       "봉화     10.821038\n",
       "태백      9.631421\n",
       "대관령     7.787978\n",
       "Name: 평균기온(°C), Length: 95, dtype: float64"
      ]
     },
     "execution_count": 24,
     "metadata": {},
     "output_type": "execute_result"
    }
   ],
   "source": [
    "df_2020_mean = df_2020.groupby('지점명')['평균기온(°C)'].mean().sort_values(ascending=False)\n",
    "df_2020_mean"
   ]
  },
  {
   "cell_type": "markdown",
   "id": "b65cce1a",
   "metadata": {},
   "source": [
    "## 시각화"
   ]
  },
  {
   "cell_type": "code",
   "execution_count": 25,
   "id": "ddf06765",
   "metadata": {
    "ExecuteTime": {
     "end_time": "2023-05-12T12:31:09.549804Z",
     "start_time": "2023-05-12T12:31:08.692807Z"
    },
    "scrolled": true
   },
   "outputs": [
    {
     "data": {
      "image/png": "[encoded data removed]",
      "text/plain": [
       "<Figure size 2000x500 with 1 Axes>"
      ]
     },
     "metadata": {},
     "output_type": "display_data"
    }
   ],
   "source": [
    "# 지점별 연 평균기온\n",
    "plt.figure(figsize=(20,5))\n",
    "plt.bar(df_2020_mean.index, df_2020_mean.values, color='lightgreen')\n",
    "plt.xticks(rotation=90)\n",
    "\n",
    "# 최고, 평균, 최저 라인 표시\n",
    "plt.axhline(df_2020_mean.max(), color='r', ls='--', label='최고:'+str(round(df_2020_mean.max(),1)))\n",
    "plt.axhline(df_2020_mean.min(), color='b', ls='--', label='최저:'+str(round(df_2020_mean.min(),1)))\n",
    "plt.axhline(df_2020_mean.mean(), color='g', ls='--', label='평균:'+str(round(df_2020_mean.mean(),1)))\n",
    "plt.legend(loc=(0,1.01), ncol=3, fontsize=12, edgecolor='k')\n",
    "\n",
    "# 서울지역 표시\n",
    "plt.bar('서울', df_2020_mean.loc['서울'], color='g')\n",
    "plt.text('서울', df_2020_mean.loc['서울']+0.5, '서울('+str(round(df_2020_mean.loc['서울'],1))+')'\n",
    "         , ha='center', fontsize=15)\n",
    "\n",
    "plt.title('2020년 전국 지점별 연 평균기온', size=20, pad=30)\n",
    "\n",
    "plt.show()\n"
   ]
  },
  {
   "cell_type": "markdown",
   "id": "4b9a8e9a",
   "metadata": {},
   "source": [
    "# 지점별 연 최저기온, 최고기온 시각화"
   ]
  },
  {
   "cell_type": "markdown",
   "id": "d548fbed",
   "metadata": {},
   "source": [
    "* 연 최저기온이 높은 지역은 어디일까?\n",
    "* 연 최저기온이 낮은 지역은 어디일까?\n",
    "* 서울의 연 최저기온은 전국에서 어느정도 위치에 해당할까?"
   ]
  },
  {
   "cell_type": "markdown",
   "id": "f19c4958",
   "metadata": {},
   "source": [
    "## 지점별 연 최저기온"
   ]
  },
  {
   "cell_type": "markdown",
   "id": "86620ed7",
   "metadata": {},
   "source": [
    "### 지점별 연 최저기온 추출"
   ]
  },
  {
   "cell_type": "code",
   "execution_count": 26,
   "id": "db754ae4",
   "metadata": {
    "ExecuteTime": {
     "end_time": "2023-05-12T12:31:25.188004Z",
     "start_time": "2023-05-12T12:31:25.172972Z"
    }
   },
   "outputs": [
    {
     "data": {
      "text/plain": [
       "지점명\n",
       "제주     -1.4\n",
       "고산     -1.4\n",
       "서귀포    -2.1\n",
       "성산     -2.8\n",
       "흑산도    -3.3\n",
       "       ... \n",
       "홍천    -18.2\n",
       "북춘천   -18.5\n",
       "철원    -18.8\n",
       "제천    -20.3\n",
       "대관령   -24.0\n",
       "Name: 최저기온(°C), Length: 95, dtype: float64"
      ]
     },
     "execution_count": 26,
     "metadata": {},
     "output_type": "execute_result"
    }
   ],
   "source": [
    "# 지점명으로 그룹화하여 지점별 연 최저기온 추출\n",
    "df_2020_cold = df_2020.groupby('지점명')['최저기온(°C)'].min().sort_values(ascending=False)\n",
    "df_2020_cold"
   ]
  },
  {
   "cell_type": "markdown",
   "id": "625cad00",
   "metadata": {},
   "source": [
    "### 시각화"
   ]
  },
  {
   "cell_type": "code",
   "execution_count": 27,
   "id": "b9266cef",
   "metadata": {
    "ExecuteTime": {
     "end_time": "2023-05-12T12:31:27.364084Z",
     "start_time": "2023-05-12T12:31:26.613083Z"
    }
   },
   "outputs": [
    {
     "data": {
      "image/png": "[encoded data removed]",
      "text/plain": [
       "<Figure size 2000x500 with 1 Axes>"
      ]
     },
     "metadata": {},
     "output_type": "display_data"
    }
   ],
   "source": [
    "# 지점별 연 최저기온\n",
    "plt.figure(figsize=(20,5))\n",
    "plt.bar(df_2020_cold.index, df_2020_cold.values, color='skyblue')\n",
    "plt.xticks(rotation=90)\n",
    "plt.title('2020년 지점별 연 최저기온', size=20, pad=30)\n",
    "\n",
    "# 최저, 평균, 최고지점 표시\n",
    "plt.axhline(df_2020_cold.max(), color='r', ls='--', label='최고'+str(df_2020_cold.max()))\n",
    "plt.axhline(df_2020_cold.mean(), color='g', ls='--', label='평균'+str(round(df_2020_cold.mean(),1)))\n",
    "plt.axhline(df_2020_cold.min(), color='b', ls='--', label='최저'+str(df_2020_cold.min()))\n",
    "plt.legend(loc=(0,1.01), ncol=3, fontsize=12, edgecolor='k')\n",
    "\n",
    "# 서울 표시\n",
    "plt.bar('서울', df_2020_cold.loc['서울'], color='b')\n",
    "plt.text('서울', df_2020_cold.loc['서울']-1.5, '서울('+str(df_2020_cold.loc['서울'])+')'\n",
    "         , ha='center', fontsize=12)\n",
    "\n",
    "plt.show()"
   ]
  },
  {
   "cell_type": "markdown",
   "id": "b8a94845",
   "metadata": {},
   "source": [
    "## 지점별 연 최고기온"
   ]
  },
  {
   "cell_type": "markdown",
   "id": "69f73512",
   "metadata": {},
   "source": [
    "### 지점별 연 최고기온 추출"
   ]
  },
  {
   "cell_type": "code",
   "execution_count": 28,
   "id": "d6abe438",
   "metadata": {
    "ExecuteTime": {
     "end_time": "2023-05-12T12:31:30.148469Z",
     "start_time": "2023-05-12T12:31:30.124439Z"
    }
   },
   "outputs": [
    {
     "data": {
      "text/plain": [
       "지점명\n",
       "양산시    37.8\n",
       "대구     37.0\n",
       "경주시    36.9\n",
       "포항     36.9\n",
       "북창원    36.9\n",
       "       ... \n",
       "여수     32.6\n",
       "울릉도    32.0\n",
       "대관령    31.6\n",
       "서귀포    31.3\n",
       "백령도    30.5\n",
       "Name: 최고기온(°C), Length: 95, dtype: float64"
      ]
     },
     "execution_count": 28,
     "metadata": {},
     "output_type": "execute_result"
    }
   ],
   "source": [
    "# 지점명으로 그룹화하여 지점별 연 최고기온 추출\n",
    "df_2020_hot = df_2020.groupby('지점명')['최고기온(°C)'].max().sort_values(ascending=False)\n",
    "df_2020_hot"
   ]
  },
  {
   "cell_type": "markdown",
   "id": "cc22b1ca",
   "metadata": {},
   "source": [
    "### 시각화"
   ]
  },
  {
   "cell_type": "code",
   "execution_count": 29,
   "id": "e770909c",
   "metadata": {
    "ExecuteTime": {
     "end_time": "2023-05-12T12:31:32.958592Z",
     "start_time": "2023-05-12T12:31:32.013691Z"
    },
    "scrolled": true
   },
   "outputs": [
    {
     "data": {
      "image/png": "[encoded data removed]",
      "text/plain": [
       "<Figure size 2000x500 with 1 Axes>"
      ]
     },
     "metadata": {},
     "output_type": "display_data"
    }
   ],
   "source": [
    "# 지점별 연 최고기온\n",
    "plt.figure(figsize=(20,5))\n",
    "plt.bar(df_2020_hot.index, df_2020_hot.values, color='pink')\n",
    "plt.xticks(rotation=90)\n",
    "plt.title('2020년 지점별 연 최고기온', size=20, pad=30)\n",
    "\n",
    "# 최저, 평균, 최고지점 표시\n",
    "plt.axhline(df_2020_hot.max(), color='r', ls='--', label='최고'+str(df_2020_hot.max()))\n",
    "plt.axhline(df_2020_hot.mean(), color='g', ls='--', label='평균'+str(round(df_2020_hot.mean(),1)))\n",
    "plt.axhline(df_2020_hot.min(), color='b', ls='--', label='최저'+str(df_2020_hot.min()))\n",
    "plt.legend(loc=(0,1.01), ncol=3, fontsize=12, edgecolor='k')\n",
    "\n",
    "# 서울 표시\n",
    "\n",
    "plt.bar('서울', df_2020_hot.loc['서울'], color='r')\n",
    "plt.text('서울', df_2020_hot.loc['서울']+1, '서울('+str(df_2020_hot.loc['서울'])+')'\n",
    "         , ha='center', fontsize=12)\n",
    "\n",
    "plt.show()"
   ]
  },
  {
   "cell_type": "markdown",
   "id": "177aa672",
   "metadata": {},
   "source": [
    "# 지점별 기온 분포 시각화 - 히스토그램"
   ]
  },
  {
   "cell_type": "markdown",
   "id": "008e86f0",
   "metadata": {},
   "source": [
    "## 서귀포, 서울, 대관령 서브셋 만들기"
   ]
  },
  {
   "cell_type": "code",
   "execution_count": 30,
   "id": "79444b79",
   "metadata": {
    "ExecuteTime": {
     "end_time": "2023-05-12T12:31:40.544308Z",
     "start_time": "2023-05-12T12:31:40.517338Z"
    }
   },
   "outputs": [
    {
     "data": {
      "text/html": [
       "<div>\n",
       "<style scoped>\n",
       "    .dataframe tbody tr th:only-of-type {\n",
       "        vertical-align: middle;\n",
       "    }\n",
       "\n",
       "    .dataframe tbody tr th {\n",
       "        vertical-align: top;\n",
       "    }\n",
       "\n",
       "    .dataframe thead th {\n",
       "        text-align: right;\n",
       "    }\n",
       "</style>\n",
       "<table border=\"1\" class=\"dataframe\">\n",
       "  <thead>\n",
       "    <tr style=\"text-align: right;\">\n",
       "      <th></th>\n",
       "      <th>지점</th>\n",
       "      <th>지점명</th>\n",
       "      <th>일시</th>\n",
       "      <th>평균기온(°C)</th>\n",
       "      <th>최저기온(°C)</th>\n",
       "      <th>최고기온(°C)</th>\n",
       "    </tr>\n",
       "  </thead>\n",
       "  <tbody>\n",
       "    <tr>\n",
       "      <th>1417900</th>\n",
       "      <td>189</td>\n",
       "      <td>서귀포</td>\n",
       "      <td>2020-01-01</td>\n",
       "      <td>7.0</td>\n",
       "      <td>4.8</td>\n",
       "      <td>9.6</td>\n",
       "    </tr>\n",
       "    <tr>\n",
       "      <th>1417901</th>\n",
       "      <td>189</td>\n",
       "      <td>서귀포</td>\n",
       "      <td>2020-01-02</td>\n",
       "      <td>8.7</td>\n",
       "      <td>5.6</td>\n",
       "      <td>12.7</td>\n",
       "    </tr>\n",
       "    <tr>\n",
       "      <th>1417902</th>\n",
       "      <td>189</td>\n",
       "      <td>서귀포</td>\n",
       "      <td>2020-01-03</td>\n",
       "      <td>9.5</td>\n",
       "      <td>6.1</td>\n",
       "      <td>13.4</td>\n",
       "    </tr>\n",
       "    <tr>\n",
       "      <th>1417903</th>\n",
       "      <td>189</td>\n",
       "      <td>서귀포</td>\n",
       "      <td>2020-01-04</td>\n",
       "      <td>9.7</td>\n",
       "      <td>6.2</td>\n",
       "      <td>14.0</td>\n",
       "    </tr>\n",
       "    <tr>\n",
       "      <th>1417904</th>\n",
       "      <td>189</td>\n",
       "      <td>서귀포</td>\n",
       "      <td>2020-01-05</td>\n",
       "      <td>9.6</td>\n",
       "      <td>6.1</td>\n",
       "      <td>12.8</td>\n",
       "    </tr>\n",
       "    <tr>\n",
       "      <th>...</th>\n",
       "      <td>...</td>\n",
       "      <td>...</td>\n",
       "      <td>...</td>\n",
       "      <td>...</td>\n",
       "      <td>...</td>\n",
       "      <td>...</td>\n",
       "    </tr>\n",
       "    <tr>\n",
       "      <th>1418261</th>\n",
       "      <td>189</td>\n",
       "      <td>서귀포</td>\n",
       "      <td>2020-12-27</td>\n",
       "      <td>10.9</td>\n",
       "      <td>9.9</td>\n",
       "      <td>11.9</td>\n",
       "    </tr>\n",
       "    <tr>\n",
       "      <th>1418262</th>\n",
       "      <td>189</td>\n",
       "      <td>서귀포</td>\n",
       "      <td>2020-12-28</td>\n",
       "      <td>11.7</td>\n",
       "      <td>7.9</td>\n",
       "      <td>15.5</td>\n",
       "    </tr>\n",
       "    <tr>\n",
       "      <th>1418263</th>\n",
       "      <td>189</td>\n",
       "      <td>서귀포</td>\n",
       "      <td>2020-12-29</td>\n",
       "      <td>12.5</td>\n",
       "      <td>9.9</td>\n",
       "      <td>15.2</td>\n",
       "    </tr>\n",
       "    <tr>\n",
       "      <th>1418264</th>\n",
       "      <td>189</td>\n",
       "      <td>서귀포</td>\n",
       "      <td>2020-12-30</td>\n",
       "      <td>0.7</td>\n",
       "      <td>-2.1</td>\n",
       "      <td>10.0</td>\n",
       "    </tr>\n",
       "    <tr>\n",
       "      <th>1418265</th>\n",
       "      <td>189</td>\n",
       "      <td>서귀포</td>\n",
       "      <td>2020-12-31</td>\n",
       "      <td>1.8</td>\n",
       "      <td>-1.3</td>\n",
       "      <td>4.3</td>\n",
       "    </tr>\n",
       "  </tbody>\n",
       "</table>\n",
       "<p>366 rows × 6 columns</p>\n",
       "</div>"
      ],
      "text/plain": [
       "          지점  지점명         일시  평균기온(°C)  최저기온(°C)  최고기온(°C)\n",
       "1417900  189  서귀포 2020-01-01       7.0       4.8       9.6\n",
       "1417901  189  서귀포 2020-01-02       8.7       5.6      12.7\n",
       "1417902  189  서귀포 2020-01-03       9.5       6.1      13.4\n",
       "1417903  189  서귀포 2020-01-04       9.7       6.2      14.0\n",
       "1417904  189  서귀포 2020-01-05       9.6       6.1      12.8\n",
       "...      ...  ...        ...       ...       ...       ...\n",
       "1418261  189  서귀포 2020-12-27      10.9       9.9      11.9\n",
       "1418262  189  서귀포 2020-12-28      11.7       7.9      15.5\n",
       "1418263  189  서귀포 2020-12-29      12.5       9.9      15.2\n",
       "1418264  189  서귀포 2020-12-30       0.7      -2.1      10.0\n",
       "1418265  189  서귀포 2020-12-31       1.8      -1.3       4.3\n",
       "\n",
       "[366 rows x 6 columns]"
      ]
     },
     "execution_count": 30,
     "metadata": {},
     "output_type": "execute_result"
    }
   ],
   "source": [
    "# 서귀포 서브셋\n",
    "df_2020_sgp = df_2020[df_2020['지점명']=='서귀포'].copy()\n",
    "df_2020_sgp"
   ]
  },
  {
   "cell_type": "code",
   "execution_count": 31,
   "id": "24c0b1f8",
   "metadata": {
    "ExecuteTime": {
     "end_time": "2023-05-12T12:31:41.099309Z",
     "start_time": "2023-05-12T12:31:41.059310Z"
    }
   },
   "outputs": [
    {
     "data": {
      "text/html": [
       "<div>\n",
       "<style scoped>\n",
       "    .dataframe tbody tr th:only-of-type {\n",
       "        vertical-align: middle;\n",
       "    }\n",
       "\n",
       "    .dataframe tbody tr th {\n",
       "        vertical-align: top;\n",
       "    }\n",
       "\n",
       "    .dataframe thead th {\n",
       "        text-align: right;\n",
       "    }\n",
       "</style>\n",
       "<table border=\"1\" class=\"dataframe\">\n",
       "  <thead>\n",
       "    <tr style=\"text-align: right;\">\n",
       "      <th></th>\n",
       "      <th>지점</th>\n",
       "      <th>지점명</th>\n",
       "      <th>일시</th>\n",
       "      <th>평균기온(°C)</th>\n",
       "      <th>최저기온(°C)</th>\n",
       "      <th>최고기온(°C)</th>\n",
       "    </tr>\n",
       "  </thead>\n",
       "  <tbody>\n",
       "    <tr>\n",
       "      <th>1295456</th>\n",
       "      <td>108</td>\n",
       "      <td>서울</td>\n",
       "      <td>2020-01-01</td>\n",
       "      <td>-2.2</td>\n",
       "      <td>-6.5</td>\n",
       "      <td>0.3</td>\n",
       "    </tr>\n",
       "    <tr>\n",
       "      <th>1295457</th>\n",
       "      <td>108</td>\n",
       "      <td>서울</td>\n",
       "      <td>2020-01-02</td>\n",
       "      <td>1.0</td>\n",
       "      <td>-0.7</td>\n",
       "      <td>3.8</td>\n",
       "    </tr>\n",
       "    <tr>\n",
       "      <th>1295458</th>\n",
       "      <td>108</td>\n",
       "      <td>서울</td>\n",
       "      <td>2020-01-03</td>\n",
       "      <td>-0.1</td>\n",
       "      <td>-3.4</td>\n",
       "      <td>4.6</td>\n",
       "    </tr>\n",
       "    <tr>\n",
       "      <th>1295459</th>\n",
       "      <td>108</td>\n",
       "      <td>서울</td>\n",
       "      <td>2020-01-04</td>\n",
       "      <td>1.2</td>\n",
       "      <td>-2.8</td>\n",
       "      <td>6.1</td>\n",
       "    </tr>\n",
       "    <tr>\n",
       "      <th>1295460</th>\n",
       "      <td>108</td>\n",
       "      <td>서울</td>\n",
       "      <td>2020-01-05</td>\n",
       "      <td>1.3</td>\n",
       "      <td>-3.2</td>\n",
       "      <td>6.6</td>\n",
       "    </tr>\n",
       "    <tr>\n",
       "      <th>...</th>\n",
       "      <td>...</td>\n",
       "      <td>...</td>\n",
       "      <td>...</td>\n",
       "      <td>...</td>\n",
       "      <td>...</td>\n",
       "      <td>...</td>\n",
       "    </tr>\n",
       "    <tr>\n",
       "      <th>1295817</th>\n",
       "      <td>108</td>\n",
       "      <td>서울</td>\n",
       "      <td>2020-12-27</td>\n",
       "      <td>5.8</td>\n",
       "      <td>1.4</td>\n",
       "      <td>10.0</td>\n",
       "    </tr>\n",
       "    <tr>\n",
       "      <th>1295818</th>\n",
       "      <td>108</td>\n",
       "      <td>서울</td>\n",
       "      <td>2020-12-28</td>\n",
       "      <td>6.7</td>\n",
       "      <td>4.2</td>\n",
       "      <td>11.4</td>\n",
       "    </tr>\n",
       "    <tr>\n",
       "      <th>1295819</th>\n",
       "      <td>108</td>\n",
       "      <td>서울</td>\n",
       "      <td>2020-12-29</td>\n",
       "      <td>0.1</td>\n",
       "      <td>-6.2</td>\n",
       "      <td>4.3</td>\n",
       "    </tr>\n",
       "    <tr>\n",
       "      <th>1295820</th>\n",
       "      <td>108</td>\n",
       "      <td>서울</td>\n",
       "      <td>2020-12-30</td>\n",
       "      <td>-10.9</td>\n",
       "      <td>-12.9</td>\n",
       "      <td>-6.2</td>\n",
       "    </tr>\n",
       "    <tr>\n",
       "      <th>1295821</th>\n",
       "      <td>108</td>\n",
       "      <td>서울</td>\n",
       "      <td>2020-12-31</td>\n",
       "      <td>-8.9</td>\n",
       "      <td>-12.9</td>\n",
       "      <td>-5.0</td>\n",
       "    </tr>\n",
       "  </tbody>\n",
       "</table>\n",
       "<p>366 rows × 6 columns</p>\n",
       "</div>"
      ],
      "text/plain": [
       "          지점 지점명         일시  평균기온(°C)  최저기온(°C)  최고기온(°C)\n",
       "1295456  108  서울 2020-01-01      -2.2      -6.5       0.3\n",
       "1295457  108  서울 2020-01-02       1.0      -0.7       3.8\n",
       "1295458  108  서울 2020-01-03      -0.1      -3.4       4.6\n",
       "1295459  108  서울 2020-01-04       1.2      -2.8       6.1\n",
       "1295460  108  서울 2020-01-05       1.3      -3.2       6.6\n",
       "...      ...  ..        ...       ...       ...       ...\n",
       "1295817  108  서울 2020-12-27       5.8       1.4      10.0\n",
       "1295818  108  서울 2020-12-28       6.7       4.2      11.4\n",
       "1295819  108  서울 2020-12-29       0.1      -6.2       4.3\n",
       "1295820  108  서울 2020-12-30     -10.9     -12.9      -6.2\n",
       "1295821  108  서울 2020-12-31      -8.9     -12.9      -5.0\n",
       "\n",
       "[366 rows x 6 columns]"
      ]
     },
     "execution_count": 31,
     "metadata": {},
     "output_type": "execute_result"
    }
   ],
   "source": [
    "# 서울 서브셋\n",
    "df_2020_seoul = df_2020[df_2020['지점명']=='서울'].copy()\n",
    "df_2020_seoul"
   ]
  },
  {
   "cell_type": "code",
   "execution_count": 32,
   "id": "b8834e35",
   "metadata": {
    "ExecuteTime": {
     "end_time": "2023-05-12T12:31:41.713229Z",
     "start_time": "2023-05-12T12:31:41.685220Z"
    }
   },
   "outputs": [
    {
     "data": {
      "text/html": [
       "<div>\n",
       "<style scoped>\n",
       "    .dataframe tbody tr th:only-of-type {\n",
       "        vertical-align: middle;\n",
       "    }\n",
       "\n",
       "    .dataframe tbody tr th {\n",
       "        vertical-align: top;\n",
       "    }\n",
       "\n",
       "    .dataframe thead th {\n",
       "        text-align: right;\n",
       "    }\n",
       "</style>\n",
       "<table border=\"1\" class=\"dataframe\">\n",
       "  <thead>\n",
       "    <tr style=\"text-align: right;\">\n",
       "      <th></th>\n",
       "      <th>지점</th>\n",
       "      <th>지점명</th>\n",
       "      <th>일시</th>\n",
       "      <th>평균기온(°C)</th>\n",
       "      <th>최저기온(°C)</th>\n",
       "      <th>최고기온(°C)</th>\n",
       "    </tr>\n",
       "  </thead>\n",
       "  <tbody>\n",
       "    <tr>\n",
       "      <th>1273538</th>\n",
       "      <td>100</td>\n",
       "      <td>대관령</td>\n",
       "      <td>2020-01-01</td>\n",
       "      <td>-6.5</td>\n",
       "      <td>-11.5</td>\n",
       "      <td>-2.5</td>\n",
       "    </tr>\n",
       "    <tr>\n",
       "      <th>1273539</th>\n",
       "      <td>100</td>\n",
       "      <td>대관령</td>\n",
       "      <td>2020-01-02</td>\n",
       "      <td>-4.4</td>\n",
       "      <td>-9.0</td>\n",
       "      <td>-0.4</td>\n",
       "    </tr>\n",
       "    <tr>\n",
       "      <th>1273540</th>\n",
       "      <td>100</td>\n",
       "      <td>대관령</td>\n",
       "      <td>2020-01-03</td>\n",
       "      <td>-3.2</td>\n",
       "      <td>-7.4</td>\n",
       "      <td>2.5</td>\n",
       "    </tr>\n",
       "    <tr>\n",
       "      <th>1273541</th>\n",
       "      <td>100</td>\n",
       "      <td>대관령</td>\n",
       "      <td>2020-01-04</td>\n",
       "      <td>-4.2</td>\n",
       "      <td>-9.9</td>\n",
       "      <td>1.6</td>\n",
       "    </tr>\n",
       "    <tr>\n",
       "      <th>1273542</th>\n",
       "      <td>100</td>\n",
       "      <td>대관령</td>\n",
       "      <td>2020-01-05</td>\n",
       "      <td>-5.5</td>\n",
       "      <td>-14.2</td>\n",
       "      <td>4.6</td>\n",
       "    </tr>\n",
       "    <tr>\n",
       "      <th>...</th>\n",
       "      <td>...</td>\n",
       "      <td>...</td>\n",
       "      <td>...</td>\n",
       "      <td>...</td>\n",
       "      <td>...</td>\n",
       "      <td>...</td>\n",
       "    </tr>\n",
       "    <tr>\n",
       "      <th>1273899</th>\n",
       "      <td>100</td>\n",
       "      <td>대관령</td>\n",
       "      <td>2020-12-27</td>\n",
       "      <td>-1.1</td>\n",
       "      <td>-4.2</td>\n",
       "      <td>5.3</td>\n",
       "    </tr>\n",
       "    <tr>\n",
       "      <th>1273900</th>\n",
       "      <td>100</td>\n",
       "      <td>대관령</td>\n",
       "      <td>2020-12-28</td>\n",
       "      <td>1.0</td>\n",
       "      <td>-4.9</td>\n",
       "      <td>8.0</td>\n",
       "    </tr>\n",
       "    <tr>\n",
       "      <th>1273901</th>\n",
       "      <td>100</td>\n",
       "      <td>대관령</td>\n",
       "      <td>2020-12-29</td>\n",
       "      <td>-3.0</td>\n",
       "      <td>-8.0</td>\n",
       "      <td>4.5</td>\n",
       "    </tr>\n",
       "    <tr>\n",
       "      <th>1273902</th>\n",
       "      <td>100</td>\n",
       "      <td>대관령</td>\n",
       "      <td>2020-12-30</td>\n",
       "      <td>-14.2</td>\n",
       "      <td>-18.3</td>\n",
       "      <td>-5.4</td>\n",
       "    </tr>\n",
       "    <tr>\n",
       "      <th>1273903</th>\n",
       "      <td>100</td>\n",
       "      <td>대관령</td>\n",
       "      <td>2020-12-31</td>\n",
       "      <td>-14.5</td>\n",
       "      <td>-20.2</td>\n",
       "      <td>-8.5</td>\n",
       "    </tr>\n",
       "  </tbody>\n",
       "</table>\n",
       "<p>366 rows × 6 columns</p>\n",
       "</div>"
      ],
      "text/plain": [
       "          지점  지점명         일시  평균기온(°C)  최저기온(°C)  최고기온(°C)\n",
       "1273538  100  대관령 2020-01-01      -6.5     -11.5      -2.5\n",
       "1273539  100  대관령 2020-01-02      -4.4      -9.0      -0.4\n",
       "1273540  100  대관령 2020-01-03      -3.2      -7.4       2.5\n",
       "1273541  100  대관령 2020-01-04      -4.2      -9.9       1.6\n",
       "1273542  100  대관령 2020-01-05      -5.5     -14.2       4.6\n",
       "...      ...  ...        ...       ...       ...       ...\n",
       "1273899  100  대관령 2020-12-27      -1.1      -4.2       5.3\n",
       "1273900  100  대관령 2020-12-28       1.0      -4.9       8.0\n",
       "1273901  100  대관령 2020-12-29      -3.0      -8.0       4.5\n",
       "1273902  100  대관령 2020-12-30     -14.2     -18.3      -5.4\n",
       "1273903  100  대관령 2020-12-31     -14.5     -20.2      -8.5\n",
       "\n",
       "[366 rows x 6 columns]"
      ]
     },
     "execution_count": 32,
     "metadata": {},
     "output_type": "execute_result"
    }
   ],
   "source": [
    "# 대관령 서브셋\n",
    "df_2020_dgr = df_2020[df_2020['지점명']=='대관령'].copy()\n",
    "df_2020_dgr"
   ]
  },
  {
   "cell_type": "markdown",
   "id": "d03c6870",
   "metadata": {},
   "source": [
    "## 서귀포, 서울, 대관령 일 평균기온 히스토그램"
   ]
  },
  {
   "cell_type": "code",
   "execution_count": 33,
   "id": "735f6506",
   "metadata": {
    "ExecuteTime": {
     "end_time": "2023-05-12T12:31:44.248208Z",
     "start_time": "2023-05-12T12:31:44.228202Z"
    }
   },
   "outputs": [
    {
     "data": {
      "text/plain": [
       "RcParams({'_internal.classic_mode': False,\n",
       "          'agg.path.chunksize': 0,\n",
       "          'animation.bitrate': -1,\n",
       "          'animation.codec': 'h264',\n",
       "          'animation.convert_args': ['-layers', 'OptimizePlus'],\n",
       "          'animation.convert_path': 'convert',\n",
       "          'animation.embed_limit': 20.0,\n",
       "          'animation.ffmpeg_args': [],\n",
       "          'animation.ffmpeg_path': 'ffmpeg',\n",
       "          'animation.frame_format': 'png',\n",
       "          'animation.html': 'none',\n",
       "          'animation.writer': 'ffmpeg',\n",
       "          'axes.autolimit_mode': 'data',\n",
       "          'axes.axisbelow': 'line',\n",
       "          'axes.edgecolor': 'black',\n",
       "          'axes.facecolor': 'white',\n",
       "          'axes.formatter.limits': [-5, 6],\n",
       "          'axes.formatter.min_exponent': 0,\n",
       "          'axes.formatter.offset_threshold': 4,\n",
       "          'axes.formatter.use_locale': False,\n",
       "          'axes.formatter.use_mathtext': False,\n",
       "          'axes.formatter.useoffset': True,\n",
       "          'axes.grid': False,\n",
       "          'axes.grid.axis': 'both',\n",
       "          'axes.grid.which': 'major',\n",
       "          'axes.labelcolor': 'black',\n",
       "          'axes.labelpad': 4.0,\n",
       "          'axes.labelsize': 'medium',\n",
       "          'axes.labelweight': 'normal',\n",
       "          'axes.linewidth': 0.8,\n",
       "          'axes.prop_cycle': cycler('color', ['#1f77b4', '#ff7f0e', '#2ca02c', '#d62728', '#9467bd', '#8c564b', '#e377c2', '#7f7f7f', '#bcbd22', '#17becf']),\n",
       "          'axes.spines.bottom': True,\n",
       "          'axes.spines.left': True,\n",
       "          'axes.spines.right': True,\n",
       "          'axes.spines.top': True,\n",
       "          'axes.titlecolor': 'auto',\n",
       "          'axes.titlelocation': 'center',\n",
       "          'axes.titlepad': 6.0,\n",
       "          'axes.titlesize': 'large',\n",
       "          'axes.titleweight': 'normal',\n",
       "          'axes.titley': None,\n",
       "          'axes.unicode_minus': False,\n",
       "          'axes.xmargin': 0.05,\n",
       "          'axes.ymargin': 0.05,\n",
       "          'axes.zmargin': 0.05,\n",
       "          'axes3d.grid': True,\n",
       "          'backend': 'module://matplotlib_inline.backend_inline',\n",
       "          'backend_fallback': True,\n",
       "          'boxplot.bootstrap': None,\n",
       "          'boxplot.boxprops.color': 'black',\n",
       "          'boxplot.boxprops.linestyle': '-',\n",
       "          'boxplot.boxprops.linewidth': 1.0,\n",
       "          'boxplot.capprops.color': 'black',\n",
       "          'boxplot.capprops.linestyle': '-',\n",
       "          'boxplot.capprops.linewidth': 1.0,\n",
       "          'boxplot.flierprops.color': 'black',\n",
       "          'boxplot.flierprops.linestyle': 'none',\n",
       "          'boxplot.flierprops.linewidth': 1.0,\n",
       "          'boxplot.flierprops.marker': 'o',\n",
       "          'boxplot.flierprops.markeredgecolor': 'black',\n",
       "          'boxplot.flierprops.markeredgewidth': 1.0,\n",
       "          'boxplot.flierprops.markerfacecolor': 'none',\n",
       "          'boxplot.flierprops.markersize': 6.0,\n",
       "          'boxplot.meanline': False,\n",
       "          'boxplot.meanprops.color': 'C2',\n",
       "          'boxplot.meanprops.linestyle': '--',\n",
       "          'boxplot.meanprops.linewidth': 1.0,\n",
       "          'boxplot.meanprops.marker': '^',\n",
       "          'boxplot.meanprops.markeredgecolor': 'C2',\n",
       "          'boxplot.meanprops.markerfacecolor': 'C2',\n",
       "          'boxplot.meanprops.markersize': 6.0,\n",
       "          'boxplot.medianprops.color': 'C1',\n",
       "          'boxplot.medianprops.linestyle': '-',\n",
       "          'boxplot.medianprops.linewidth': 1.0,\n",
       "          'boxplot.notch': False,\n",
       "          'boxplot.patchartist': False,\n",
       "          'boxplot.showbox': True,\n",
       "          'boxplot.showcaps': True,\n",
       "          'boxplot.showfliers': True,\n",
       "          'boxplot.showmeans': False,\n",
       "          'boxplot.vertical': True,\n",
       "          'boxplot.whiskerprops.color': 'black',\n",
       "          'boxplot.whiskerprops.linestyle': '-',\n",
       "          'boxplot.whiskerprops.linewidth': 1.0,\n",
       "          'boxplot.whiskers': 1.5,\n",
       "          'contour.algorithm': 'mpl2014',\n",
       "          'contour.corner_mask': True,\n",
       "          'contour.linewidth': None,\n",
       "          'contour.negative_linestyle': 'dashed',\n",
       "          'date.autoformatter.day': '%Y-%m-%d',\n",
       "          'date.autoformatter.hour': '%m-%d %H',\n",
       "          'date.autoformatter.microsecond': '%M:%S.%f',\n",
       "          'date.autoformatter.minute': '%d %H:%M',\n",
       "          'date.autoformatter.month': '%Y-%m',\n",
       "          'date.autoformatter.second': '%H:%M:%S',\n",
       "          'date.autoformatter.year': '%Y',\n",
       "          'date.converter': 'auto',\n",
       "          'date.epoch': '1970-01-01T00:00:00',\n",
       "          'date.interval_multiples': True,\n",
       "          'docstring.hardcopy': False,\n",
       "          'errorbar.capsize': 0.0,\n",
       "          'figure.autolayout': False,\n",
       "          'figure.constrained_layout.h_pad': 0.04167,\n",
       "          'figure.constrained_layout.hspace': 0.02,\n",
       "          'figure.constrained_layout.use': False,\n",
       "          'figure.constrained_layout.w_pad': 0.04167,\n",
       "          'figure.constrained_layout.wspace': 0.02,\n",
       "          'figure.dpi': 100.0,\n",
       "          'figure.edgecolor': 'white',\n",
       "          'figure.facecolor': 'white',\n",
       "          'figure.figsize': [6.4, 4.8],\n",
       "          'figure.frameon': True,\n",
       "          'figure.labelsize': 'large',\n",
       "          'figure.labelweight': 'normal',\n",
       "          'figure.max_open_warning': 20,\n",
       "          'figure.raise_window': True,\n",
       "          'figure.subplot.bottom': 0.11,\n",
       "          'figure.subplot.hspace': 0.2,\n",
       "          'figure.subplot.left': 0.125,\n",
       "          'figure.subplot.right': 0.9,\n",
       "          'figure.subplot.top': 0.88,\n",
       "          'figure.subplot.wspace': 0.2,\n",
       "          'figure.titlesize': 'large',\n",
       "          'figure.titleweight': 'normal',\n",
       "          'font.cursive': ['Apple Chancery',\n",
       "                           'Textile',\n",
       "                           'Zapf Chancery',\n",
       "                           'Sand',\n",
       "                           'Script MT',\n",
       "                           'Felipa',\n",
       "                           'Comic Neue',\n",
       "                           'Comic Sans MS',\n",
       "                           'cursive'],\n",
       "          'font.family': ['NanumGothic'],\n",
       "          'font.fantasy': ['Chicago',\n",
       "                           'Charcoal',\n",
       "                           'Impact',\n",
       "                           'Western',\n",
       "                           'Humor Sans',\n",
       "                           'xkcd',\n",
       "                           'fantasy'],\n",
       "          'font.monospace': ['DejaVu Sans Mono',\n",
       "                             'Bitstream Vera Sans Mono',\n",
       "                             'Computer Modern Typewriter',\n",
       "                             'Andale Mono',\n",
       "                             'Nimbus Mono L',\n",
       "                             'Courier New',\n",
       "                             'Courier',\n",
       "                             'Fixed',\n",
       "                             'Terminal',\n",
       "                             'monospace'],\n",
       "          'font.sans-serif': ['DejaVu Sans',\n",
       "                              'Bitstream Vera Sans',\n",
       "                              'Computer Modern Sans Serif',\n",
       "                              'Lucida Grande',\n",
       "                              'Verdana',\n",
       "                              'Geneva',\n",
       "                              'Lucid',\n",
       "                              'Arial',\n",
       "                              'Helvetica',\n",
       "                              'Avant Garde',\n",
       "                              'sans-serif'],\n",
       "          'font.serif': ['DejaVu Serif',\n",
       "                         'Bitstream Vera Serif',\n",
       "                         'Computer Modern Roman',\n",
       "                         'New Century Schoolbook',\n",
       "                         'Century Schoolbook L',\n",
       "                         'Utopia',\n",
       "                         'ITC Bookman',\n",
       "                         'Bookman',\n",
       "                         'Nimbus Roman No9 L',\n",
       "                         'Times New Roman',\n",
       "                         'Times',\n",
       "                         'Palatino',\n",
       "                         'Charter',\n",
       "                         'serif'],\n",
       "          'font.size': 10.0,\n",
       "          'font.stretch': 'normal',\n",
       "          'font.style': 'normal',\n",
       "          'font.variant': 'normal',\n",
       "          'font.weight': 'normal',\n",
       "          'grid.alpha': 1.0,\n",
       "          'grid.color': '#b0b0b0',\n",
       "          'grid.linestyle': '-',\n",
       "          'grid.linewidth': 0.8,\n",
       "          'hatch.color': 'black',\n",
       "          'hatch.linewidth': 1.0,\n",
       "          'hist.bins': 10,\n",
       "          'image.aspect': 'equal',\n",
       "          'image.cmap': 'viridis',\n",
       "          'image.composite_image': True,\n",
       "          'image.interpolation': 'antialiased',\n",
       "          'image.lut': 256,\n",
       "          'image.origin': 'upper',\n",
       "          'image.resample': True,\n",
       "          'interactive': True,\n",
       "          'keymap.back': ['left', 'c', 'backspace', 'MouseButton.BACK'],\n",
       "          'keymap.copy': ['ctrl+c', 'cmd+c'],\n",
       "          'keymap.forward': ['right', 'v', 'MouseButton.FORWARD'],\n",
       "          'keymap.fullscreen': ['f', 'ctrl+f'],\n",
       "          'keymap.grid': ['g'],\n",
       "          'keymap.grid_minor': ['G'],\n",
       "          'keymap.help': ['f1'],\n",
       "          'keymap.home': ['h', 'r', 'home'],\n",
       "          'keymap.pan': ['p'],\n",
       "          'keymap.quit': ['ctrl+w', 'cmd+w', 'q'],\n",
       "          'keymap.quit_all': [],\n",
       "          'keymap.save': ['s', 'ctrl+s'],\n",
       "          'keymap.xscale': ['k', 'L'],\n",
       "          'keymap.yscale': ['l'],\n",
       "          'keymap.zoom': ['o'],\n",
       "          'legend.borderaxespad': 0.5,\n",
       "          'legend.borderpad': 0.4,\n",
       "          'legend.columnspacing': 2.0,\n",
       "          'legend.edgecolor': '0.8',\n",
       "          'legend.facecolor': 'inherit',\n",
       "          'legend.fancybox': True,\n",
       "          'legend.fontsize': 'medium',\n",
       "          'legend.framealpha': 0.8,\n",
       "          'legend.frameon': True,\n",
       "          'legend.handleheight': 0.7,\n",
       "          'legend.handlelength': 2.0,\n",
       "          'legend.handletextpad': 0.8,\n",
       "          'legend.labelcolor': 'None',\n",
       "          'legend.labelspacing': 0.5,\n",
       "          'legend.loc': 'best',\n",
       "          'legend.markerscale': 1.0,\n",
       "          'legend.numpoints': 1,\n",
       "          'legend.scatterpoints': 1,\n",
       "          'legend.shadow': False,\n",
       "          'legend.title_fontsize': None,\n",
       "          'lines.antialiased': True,\n",
       "          'lines.color': 'C0',\n",
       "          'lines.dash_capstyle': <CapStyle.butt: 'butt'>,\n",
       "          'lines.dash_joinstyle': <JoinStyle.round: 'round'>,\n",
       "          'lines.dashdot_pattern': [6.4, 1.6, 1.0, 1.6],\n",
       "          'lines.dashed_pattern': [3.7, 1.6],\n",
       "          'lines.dotted_pattern': [1.0, 1.65],\n",
       "          'lines.linestyle': '-',\n",
       "          'lines.linewidth': 1.5,\n",
       "          'lines.marker': 'None',\n",
       "          'lines.markeredgecolor': 'auto',\n",
       "          'lines.markeredgewidth': 1.0,\n",
       "          'lines.markerfacecolor': 'auto',\n",
       "          'lines.markersize': 6.0,\n",
       "          'lines.scale_dashes': True,\n",
       "          'lines.solid_capstyle': <CapStyle.projecting: 'projecting'>,\n",
       "          'lines.solid_joinstyle': <JoinStyle.round: 'round'>,\n",
       "          'markers.fillstyle': 'full',\n",
       "          'mathtext.bf': 'sans:bold',\n",
       "          'mathtext.cal': 'cursive',\n",
       "          'mathtext.default': 'it',\n",
       "          'mathtext.fallback': 'cm',\n",
       "          'mathtext.fontset': 'dejavusans',\n",
       "          'mathtext.it': 'sans:italic',\n",
       "          'mathtext.rm': 'sans',\n",
       "          'mathtext.sf': 'sans',\n",
       "          'mathtext.tt': 'monospace',\n",
       "          'patch.antialiased': True,\n",
       "          'patch.edgecolor': 'black',\n",
       "          'patch.facecolor': 'C0',\n",
       "          'patch.force_edgecolor': False,\n",
       "          'patch.linewidth': 1.0,\n",
       "          'path.effects': [],\n",
       "          'path.simplify': True,\n",
       "          'path.simplify_threshold': 0.111111111111,\n",
       "          'path.sketch': None,\n",
       "          'path.snap': True,\n",
       "          'pcolor.shading': 'auto',\n",
       "          'pcolormesh.snap': True,\n",
       "          'pdf.compression': 6,\n",
       "          'pdf.fonttype': 3,\n",
       "          'pdf.inheritcolor': False,\n",
       "          'pdf.use14corefonts': False,\n",
       "          'pgf.preamble': '',\n",
       "          'pgf.rcfonts': True,\n",
       "          'pgf.texsystem': 'xelatex',\n",
       "          'polaraxes.grid': True,\n",
       "          'ps.distiller.res': 6000,\n",
       "          'ps.fonttype': 3,\n",
       "          'ps.papersize': 'letter',\n",
       "          'ps.useafm': False,\n",
       "          'ps.usedistiller': None,\n",
       "          'savefig.bbox': None,\n",
       "          'savefig.directory': '~',\n",
       "          'savefig.dpi': 'figure',\n",
       "          'savefig.edgecolor': 'auto',\n",
       "          'savefig.facecolor': 'auto',\n",
       "          'savefig.format': 'png',\n",
       "          'savefig.orientation': 'portrait',\n",
       "          'savefig.pad_inches': 0.1,\n",
       "          'savefig.transparent': False,\n",
       "          'scatter.edgecolors': 'face',\n",
       "          'scatter.marker': 'o',\n",
       "          'svg.fonttype': 'path',\n",
       "          'svg.hashsalt': None,\n",
       "          'svg.image_inline': True,\n",
       "          'text.antialiased': True,\n",
       "          'text.color': 'black',\n",
       "          'text.hinting': 'force_autohint',\n",
       "          'text.hinting_factor': 8,\n",
       "          'text.kerning_factor': 0,\n",
       "          'text.latex.preamble': '',\n",
       "          'text.parse_math': True,\n",
       "          'text.usetex': False,\n",
       "          'timezone': 'UTC',\n",
       "          'tk.window_focus': False,\n",
       "          'toolbar': 'toolbar2',\n",
       "          'webagg.address': '127.0.0.1',\n",
       "          'webagg.open_in_browser': True,\n",
       "          'webagg.port': 8988,\n",
       "          'webagg.port_retries': 50,\n",
       "          'xaxis.labellocation': 'center',\n",
       "          'xtick.alignment': 'center',\n",
       "          'xtick.bottom': True,\n",
       "          'xtick.color': 'black',\n",
       "          'xtick.direction': 'out',\n",
       "          'xtick.labelbottom': True,\n",
       "          'xtick.labelcolor': 'inherit',\n",
       "          'xtick.labelsize': 'medium',\n",
       "          'xtick.labeltop': False,\n",
       "          'xtick.major.bottom': True,\n",
       "          'xtick.major.pad': 3.5,\n",
       "          'xtick.major.size': 3.5,\n",
       "          'xtick.major.top': True,\n",
       "          'xtick.major.width': 0.8,\n",
       "          'xtick.minor.bottom': True,\n",
       "          'xtick.minor.pad': 3.4,\n",
       "          'xtick.minor.size': 2.0,\n",
       "          'xtick.minor.top': True,\n",
       "          'xtick.minor.visible': False,\n",
       "          'xtick.minor.width': 0.6,\n",
       "          'xtick.top': False,\n",
       "          'yaxis.labellocation': 'center',\n",
       "          'ytick.alignment': 'center_baseline',\n",
       "          'ytick.color': 'black',\n",
       "          'ytick.direction': 'out',\n",
       "          'ytick.labelcolor': 'inherit',\n",
       "          'ytick.labelleft': True,\n",
       "          'ytick.labelright': False,\n",
       "          'ytick.labelsize': 'medium',\n",
       "          'ytick.left': True,\n",
       "          'ytick.major.left': True,\n",
       "          'ytick.major.pad': 3.5,\n",
       "          'ytick.major.right': True,\n",
       "          'ytick.major.size': 3.5,\n",
       "          'ytick.major.width': 0.8,\n",
       "          'ytick.minor.left': True,\n",
       "          'ytick.minor.pad': 3.4,\n",
       "          'ytick.minor.right': True,\n",
       "          'ytick.minor.size': 2.0,\n",
       "          'ytick.minor.visible': False,\n",
       "          'ytick.minor.width': 0.6,\n",
       "          'ytick.right': False})"
      ]
     },
     "execution_count": 33,
     "metadata": {},
     "output_type": "execute_result"
    }
   ],
   "source": [
    "plt.rcParams"
   ]
  },
  {
   "cell_type": "code",
   "execution_count": 34,
   "id": "a1b88659",
   "metadata": {
    "ExecuteTime": {
     "end_time": "2023-05-12T12:31:45.851109Z",
     "start_time": "2023-05-12T12:31:45.357114Z"
    },
    "scrolled": true
   },
   "outputs": [
    {
     "data": {
      "image/png": "[encoded data removed]",
      "text/plain": [
       "<Figure size 1500x500 with 3 Axes>"
      ]
     },
     "metadata": {},
     "output_type": "display_data"
    }
   ],
   "source": [
    "# 스타일 파라미터\n",
    "plt.rcParams['hatch.color']='w'\n",
    "\n",
    "# 서브플롯 만들기(plt.subplots())\n",
    "fig, ax = plt.subplots(1,3, figsize=(15,5), sharex=True, sharey=True)\n",
    "\n",
    "# 서귀포 일평균기온 히스토그램\n",
    "ax[0].hist(df_2020_sgp['평균기온(°C)'], rwidth=0.9, hatch='//')\n",
    "ax[0].set_title('2020년 서귀포 일 평균기온 분포')\n",
    "ax[0].set_xlabel('일 평균기온(°C)')\n",
    "ax[0].set_ylabel('일수')\n",
    "\n",
    "\n",
    "# 서울 일평균기온 히스토그램\n",
    "ax[1].hist(df_2020_seoul['평균기온(°C)'], rwidth=0.9, hatch='--')\n",
    "ax[1].set_title('2020년 서울 일 평균기온 분포')\n",
    "ax[1].set_xlabel('일 평균기온(°C)')\n",
    "\n",
    "# 대관령\n",
    "ax[2].hist(df_2020_dgr['평균기온(°C)'], rwidth=0.9, hatch='xx')\n",
    "ax[2].set_title('2020년 대관련 일 평균기온 분포')\n",
    "ax[2].set_xlabel('일 평균기온(°C)')\n",
    "\n",
    "# 0°C 수직선 표시\n",
    "ax[0].axvline(0, color='k', ls='--')\n",
    "ax[1].axvline(0, color='k', ls='--')\n",
    "ax[2].axvline(0, color='k', ls='--')\n",
    "\n",
    "plt.tight_layout()\n",
    "plt.show()"
   ]
  },
  {
   "cell_type": "markdown",
   "id": "9ecad0e8",
   "metadata": {},
   "source": [
    "# 지점별 기온분포 시각화 - 박스플롯, 바이올린플롯\n",
    "* 서귀포, 서울, 대관령 지점 2020년 평균기온 서브셋"
   ]
  },
  {
   "cell_type": "code",
   "execution_count": 35,
   "id": "e92161a9",
   "metadata": {
    "ExecuteTime": {
     "end_time": "2023-05-12T12:31:55.395669Z",
     "start_time": "2023-05-12T12:31:55.371673Z"
    },
    "scrolled": false
   },
   "outputs": [
    {
     "data": {
      "text/html": [
       "<div>\n",
       "<style scoped>\n",
       "    .dataframe tbody tr th:only-of-type {\n",
       "        vertical-align: middle;\n",
       "    }\n",
       "\n",
       "    .dataframe tbody tr th {\n",
       "        vertical-align: top;\n",
       "    }\n",
       "\n",
       "    .dataframe thead th {\n",
       "        text-align: right;\n",
       "    }\n",
       "</style>\n",
       "<table border=\"1\" class=\"dataframe\">\n",
       "  <thead>\n",
       "    <tr style=\"text-align: right;\">\n",
       "      <th></th>\n",
       "      <th>지점</th>\n",
       "      <th>지점명</th>\n",
       "      <th>일시</th>\n",
       "      <th>평균기온(°C)</th>\n",
       "      <th>최저기온(°C)</th>\n",
       "      <th>최고기온(°C)</th>\n",
       "    </tr>\n",
       "  </thead>\n",
       "  <tbody>\n",
       "    <tr>\n",
       "      <th>1417900</th>\n",
       "      <td>189</td>\n",
       "      <td>서귀포</td>\n",
       "      <td>2020-01-01</td>\n",
       "      <td>7.0</td>\n",
       "      <td>4.8</td>\n",
       "      <td>9.6</td>\n",
       "    </tr>\n",
       "  </tbody>\n",
       "</table>\n",
       "</div>"
      ],
      "text/plain": [
       "          지점  지점명         일시  평균기온(°C)  최저기온(°C)  최고기온(°C)\n",
       "1417900  189  서귀포 2020-01-01       7.0       4.8       9.6"
      ]
     },
     "execution_count": 35,
     "metadata": {},
     "output_type": "execute_result"
    }
   ],
   "source": [
    "df_2020_sgp.head(1)"
   ]
  },
  {
   "cell_type": "code",
   "execution_count": 36,
   "id": "d67a8afc",
   "metadata": {
    "ExecuteTime": {
     "end_time": "2023-05-12T12:31:56.378501Z",
     "start_time": "2023-05-12T12:31:56.349501Z"
    },
    "scrolled": true
   },
   "outputs": [
    {
     "data": {
      "text/html": [
       "<div>\n",
       "<style scoped>\n",
       "    .dataframe tbody tr th:only-of-type {\n",
       "        vertical-align: middle;\n",
       "    }\n",
       "\n",
       "    .dataframe tbody tr th {\n",
       "        vertical-align: top;\n",
       "    }\n",
       "\n",
       "    .dataframe thead th {\n",
       "        text-align: right;\n",
       "    }\n",
       "</style>\n",
       "<table border=\"1\" class=\"dataframe\">\n",
       "  <thead>\n",
       "    <tr style=\"text-align: right;\">\n",
       "      <th></th>\n",
       "      <th>지점</th>\n",
       "      <th>지점명</th>\n",
       "      <th>일시</th>\n",
       "      <th>평균기온(°C)</th>\n",
       "      <th>최저기온(°C)</th>\n",
       "      <th>최고기온(°C)</th>\n",
       "    </tr>\n",
       "  </thead>\n",
       "  <tbody>\n",
       "    <tr>\n",
       "      <th>1295456</th>\n",
       "      <td>108</td>\n",
       "      <td>서울</td>\n",
       "      <td>2020-01-01</td>\n",
       "      <td>-2.2</td>\n",
       "      <td>-6.5</td>\n",
       "      <td>0.3</td>\n",
       "    </tr>\n",
       "  </tbody>\n",
       "</table>\n",
       "</div>"
      ],
      "text/plain": [
       "          지점 지점명         일시  평균기온(°C)  최저기온(°C)  최고기온(°C)\n",
       "1295456  108  서울 2020-01-01      -2.2      -6.5       0.3"
      ]
     },
     "execution_count": 36,
     "metadata": {},
     "output_type": "execute_result"
    }
   ],
   "source": [
    "df_2020_seoul.head(1)"
   ]
  },
  {
   "cell_type": "code",
   "execution_count": 37,
   "id": "1b729d8f",
   "metadata": {
    "ExecuteTime": {
     "end_time": "2023-05-12T12:31:56.974916Z",
     "start_time": "2023-05-12T12:31:56.948914Z"
    }
   },
   "outputs": [
    {
     "data": {
      "text/html": [
       "<div>\n",
       "<style scoped>\n",
       "    .dataframe tbody tr th:only-of-type {\n",
       "        vertical-align: middle;\n",
       "    }\n",
       "\n",
       "    .dataframe tbody tr th {\n",
       "        vertical-align: top;\n",
       "    }\n",
       "\n",
       "    .dataframe thead th {\n",
       "        text-align: right;\n",
       "    }\n",
       "</style>\n",
       "<table border=\"1\" class=\"dataframe\">\n",
       "  <thead>\n",
       "    <tr style=\"text-align: right;\">\n",
       "      <th></th>\n",
       "      <th>지점</th>\n",
       "      <th>지점명</th>\n",
       "      <th>일시</th>\n",
       "      <th>평균기온(°C)</th>\n",
       "      <th>최저기온(°C)</th>\n",
       "      <th>최고기온(°C)</th>\n",
       "    </tr>\n",
       "  </thead>\n",
       "  <tbody>\n",
       "    <tr>\n",
       "      <th>1273538</th>\n",
       "      <td>100</td>\n",
       "      <td>대관령</td>\n",
       "      <td>2020-01-01</td>\n",
       "      <td>-6.5</td>\n",
       "      <td>-11.5</td>\n",
       "      <td>-2.5</td>\n",
       "    </tr>\n",
       "  </tbody>\n",
       "</table>\n",
       "</div>"
      ],
      "text/plain": [
       "          지점  지점명         일시  평균기온(°C)  최저기온(°C)  최고기온(°C)\n",
       "1273538  100  대관령 2020-01-01      -6.5     -11.5      -2.5"
      ]
     },
     "execution_count": 37,
     "metadata": {},
     "output_type": "execute_result"
    }
   ],
   "source": [
    "df_2020_dgr.head(1)"
   ]
  },
  {
   "cell_type": "code",
   "execution_count": 38,
   "id": "3e613258",
   "metadata": {
    "ExecuteTime": {
     "end_time": "2023-05-12T12:31:58.070461Z",
     "start_time": "2023-05-12T12:31:57.716465Z"
    }
   },
   "outputs": [
    {
     "data": {
      "image/png": "[encoded data removed]",
      "text/plain": [
       "<Figure size 1500x500 with 2 Axes>"
      ]
     },
     "metadata": {},
     "output_type": "display_data"
    }
   ],
   "source": [
    "# 서브플롯 그리기\n",
    "fig = plt.figure(figsize=(15,5))\n",
    "ax1 = fig.add_subplot(1,2,1)\n",
    "ax2 = fig.add_subplot(1,2,2)\n",
    "\n",
    "# 박스플롯\n",
    "plt.rcParams['boxplot.boxprops.color']='b'\n",
    "plt.rcParams['boxplot.boxprops.linewidth']=2\n",
    "plt.rcParams['boxplot.capprops.color']='r'\n",
    "plt.rcParams['boxplot.capprops.linewidth']=2\n",
    "plt.rcParams['boxplot.meanline']=True\n",
    "\n",
    "ax1.boxplot([df_2020_sgp['평균기온(°C)'], df_2020_seoul['평균기온(°C)'], df_2020_dgr['평균기온(°C)']],\n",
    "           labels=['서귀포','서울','대관령'], showmeans=True)\n",
    "\n",
    "# 바이올린플롯\n",
    "v = ax2.violinplot([df_2020_sgp['평균기온(°C)'], df_2020_seoul['평균기온(°C)'], df_2020_dgr['평균기온(°C)']]\n",
    "              ,showmeans=True, showmedians=True, quantiles=[[0.25,0.75],[0.25,0.75],[0.25,0.75]])\n",
    "\n",
    "v['bodies'][0].set_color('r')\n",
    "v['bodies'][1].set_color('g')\n",
    "v['bodies'][2].set_color('b')\n",
    "v['cmins'].set_edgecolor('r')\n",
    "v['cmaxes'].set_edgecolor('r')\n",
    "v['cmeans'].set_edgecolor('r')\n",
    "v['cmedians'].set_edgecolor('w')\n",
    "v['cquantiles'].set_edgecolor('w')\n",
    "\n",
    "ax2.set_xticks(range(1,4,1))\n",
    "ax2.set_xticklabels(['서귀포','서울','대관령'])\n",
    "\n",
    "\n",
    "fig.suptitle('서귀포, 서울, 대관령 평균기온 분포', size=15)\n",
    "fig.tight_layout()\n",
    "\n",
    "plt.show()"
   ]
  },
  {
   "cell_type": "code",
   "execution_count": null,
   "id": "3e85dd4f",
   "metadata": {},
   "outputs": [],
   "source": []
  }
 ],
 "metadata": {
  "hide_input": false,
  "kernelspec": {
   "display_name": "Python 3 (ipykernel)",
   "language": "python",
   "name": "python3"
  },
  "language_info": {
   "codemirror_mode": {
    "name": "ipython",
    "version": 3
   },
   "file_extension": ".py",
   "mimetype": "text/x-python",
   "name": "python",
   "nbconvert_exporter": "python",
   "pygments_lexer": "ipython3",
   "version": "3.9.15"
  },
  "toc": {
   "base_numbering": 1,
   "nav_menu": {},
   "number_sections": true,
   "sideBar": true,
   "skip_h1_title": false,
   "title_cell": "Table of Contents",
   "title_sidebar": "Contents",
   "toc_cell": false,
   "toc_position": {
    "height": "calc(100% - 180px)",
    "left": "10px",
    "top": "150px",
    "width": "228px"
   },
   "toc_section_display": true,
   "toc_window_display": true
  },
  "varInspector": {
   "cols": {
    "lenName": 16,
    "lenType": 16,
    "lenVar": 40
   },
   "kernels_config": {
    "python": {
     "delete_cmd_postfix": "",
     "delete_cmd_prefix": "del ",
     "library": "var_list.py",
     "varRefreshCmd": "print(var_dic_list())"
    },
    "r": {
     "delete_cmd_postfix": ") ",
     "delete_cmd_prefix": "rm(",
     "library": "var_list.r",
     "varRefreshCmd": "cat(var_dic_list()) "
    }
   },
   "types_to_exclude": [
    "module",
    "function",
    "builtin_function_or_method",
    "instance",
    "_Feature"
   ],
   "window_display": false
  }
 },
 "nbformat": 4,
 "nbformat_minor": 5
}
